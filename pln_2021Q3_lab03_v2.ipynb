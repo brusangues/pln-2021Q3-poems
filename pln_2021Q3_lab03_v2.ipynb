{
  "nbformat": 4,
  "nbformat_minor": 0,
  "metadata": {
    "colab": {
      "name": "pln-2021Q3 lab03 v2",
      "provenance": [],
      "collapsed_sections": [
        "bvFqFUY36BLI",
        "MhkHz62jMsQa",
        "4He5II4yuSy3",
        "1He6-Pv-uY4C",
        "v9xeKq2A_XJO",
        "5obYUMyKAQ3a",
        "KTmsinz67sCd",
        "9Zg_xnlsEVPB",
        "wH6oG5ZjEnA2",
        "-HjAEFU79oIs",
        "GjGj6TigAYJG"
      ]
    },
    "kernelspec": {
      "display_name": "Python 3",
      "name": "python3"
    }
  },
  "cells": [
    {
      "cell_type": "markdown",
      "metadata": {
        "id": "bvFqFUY36BLI"
      },
      "source": [
        "# 1. Base de dados"
      ]
    },
    {
      "cell_type": "markdown",
      "metadata": {
        "id": "MhkHz62jMsQa"
      },
      "source": [
        "## 1.0 Baixando base e análise inicial"
      ]
    },
    {
      "cell_type": "markdown",
      "metadata": {
        "id": "vvFplFEei8aU"
      },
      "source": [
        "Base de poemas da Poetry Foundation.\n",
        "\n",
        "https://www.kaggle.com/tgdivy/poetry-foundation-poems\n",
        "\n",
        "Essa base foi escolhida com o objetivo inicial de realizar a classificação de autor, com base no texto. Inicialmente, considerou-se utilizar livros para uma classificação similar, mas para reduzir o tempo de processamento, optou-se por poemas que são mais curtos."
      ]
    },
    {
      "cell_type": "code",
      "metadata": {
        "id": "ipvITqG02Wgm"
      },
      "source": [
        "# carrega a biblioteca pandas, para fazer a leitura do corpus (base de dados)\n",
        "import pandas as pd\n",
        "import numpy as np\n",
        "url = 'https://github.com/brusangues/pln-2021Q3-poems/blob/main/PoetryFoundationData.csv?raw=true'\n",
        "\n",
        "corpus = pd.read_csv(url)"
      ],
      "execution_count": 1,
      "outputs": []
    },
    {
      "cell_type": "code",
      "metadata": {
        "colab": {
          "base_uri": "https://localhost:8080/",
          "height": 0
        },
        "id": "qdYKF4Asi2Bw",
        "outputId": "b43f444b-84f8-44e9-bce3-ab2c92be718b"
      },
      "source": [
        "# Amostra aleatória do dataset\n",
        "corpus.rename(columns={'Title':'title', 'Poem':'text', 'Poet':'poet', 'Tags':'tags'}, inplace=True)\n",
        "corpus = corpus.iloc[: , 1:]\n",
        "corpus.sample(5)"
      ],
      "execution_count": 2,
      "outputs": [
        {
          "output_type": "execute_result",
          "data": {
            "text/html": [
              "<div>\n",
              "<style scoped>\n",
              "    .dataframe tbody tr th:only-of-type {\n",
              "        vertical-align: middle;\n",
              "    }\n",
              "\n",
              "    .dataframe tbody tr th {\n",
              "        vertical-align: top;\n",
              "    }\n",
              "\n",
              "    .dataframe thead th {\n",
              "        text-align: right;\n",
              "    }\n",
              "</style>\n",
              "<table border=\"1\" class=\"dataframe\">\n",
              "  <thead>\n",
              "    <tr style=\"text-align: right;\">\n",
              "      <th></th>\n",
              "      <th>title</th>\n",
              "      <th>text</th>\n",
              "      <th>poet</th>\n",
              "      <th>tags</th>\n",
              "    </tr>\n",
              "  </thead>\n",
              "  <tbody>\n",
              "    <tr>\n",
              "      <th>126</th>\n",
              "      <td>\\r\\r\\n                    Elephant Armageddon\\...</td>\n",
              "      <td>\\r\\r\\n\\r\\r\\n\\r\\r\\n\\r\\r\\nNYTimes headline for S...</td>\n",
              "      <td>Gerard Malanga</td>\n",
              "      <td>Living,Death,Sorrow &amp; Grieving,Activities,Trav...</td>\n",
              "    </tr>\n",
              "    <tr>\n",
              "      <th>7678</th>\n",
              "      <td>\\r\\r\\n                    Effort for Distracti...</td>\n",
              "      <td>\\r\\r\\n\\r\\r\\n\\r\\r\\n\\r\\r\\nfor Henry Adams\\r\\r\\n\\...</td>\n",
              "      <td>Josephine Miles</td>\n",
              "      <td>NaN</td>\n",
              "    </tr>\n",
              "    <tr>\n",
              "      <th>7760</th>\n",
              "      <td>\\r\\r\\n                    South Country\\r\\r\\n ...</td>\n",
              "      <td>\\r\\r\\nAfter the whey-faced anonymity\\r\\r\\nOf r...</td>\n",
              "      <td>Kenneth Slessor</td>\n",
              "      <td>Nature,Landscapes &amp; Pastorals</td>\n",
              "    </tr>\n",
              "    <tr>\n",
              "      <th>13243</th>\n",
              "      <td>\\r\\r\\n                    My Madonna\\r\\r\\n    ...</td>\n",
              "      <td>\\r\\r\\nI haled me a woman from the street,\\r\\r\\...</td>\n",
              "      <td>Robert W. Service</td>\n",
              "      <td>Religion,Christianity,Arts &amp; Sciences,Painting...</td>\n",
              "    </tr>\n",
              "    <tr>\n",
              "      <th>8672</th>\n",
              "      <td>\\r\\r\\n                    Branch Library\\r\\r\\n...</td>\n",
              "      <td>\\r\\r\\nI wish I could find that skinny, long-be...</td>\n",
              "      <td>Edward Hirsch</td>\n",
              "      <td>Living,Activities,Indoor Activities,School &amp; L...</td>\n",
              "    </tr>\n",
              "  </tbody>\n",
              "</table>\n",
              "</div>"
            ],
            "text/plain": [
              "                                                   title  ...                                               tags\n",
              "126    \\r\\r\\n                    Elephant Armageddon\\...  ...  Living,Death,Sorrow & Grieving,Activities,Trav...\n",
              "7678   \\r\\r\\n                    Effort for Distracti...  ...                                                NaN\n",
              "7760   \\r\\r\\n                    South Country\\r\\r\\n ...  ...                      Nature,Landscapes & Pastorals\n",
              "13243  \\r\\r\\n                    My Madonna\\r\\r\\n    ...  ...  Religion,Christianity,Arts & Sciences,Painting...\n",
              "8672   \\r\\r\\n                    Branch Library\\r\\r\\n...  ...  Living,Activities,Indoor Activities,School & L...\n",
              "\n",
              "[5 rows x 4 columns]"
            ]
          },
          "metadata": {},
          "execution_count": 2
        }
      ]
    },
    {
      "cell_type": "code",
      "metadata": {
        "colab": {
          "base_uri": "https://localhost:8080/"
        },
        "id": "xugYPfgX3rFy",
        "outputId": "ffaa1627-8ccf-4ab7-de6c-2e44f8c8a2a7"
      },
      "source": [
        "corpus.shape"
      ],
      "execution_count": 3,
      "outputs": [
        {
          "output_type": "execute_result",
          "data": {
            "text/plain": [
              "(13854, 4)"
            ]
          },
          "metadata": {},
          "execution_count": 3
        }
      ]
    },
    {
      "cell_type": "code",
      "metadata": {
        "id": "TbyR1uWS_hbx"
      },
      "source": [
        "# Criando coluna com comprimento dos poemas\n",
        "corpus['len'] = corpus.text.str.len()"
      ],
      "execution_count": 4,
      "outputs": []
    },
    {
      "cell_type": "code",
      "metadata": {
        "colab": {
          "base_uri": "https://localhost:8080/",
          "height": 0
        },
        "id": "WOpHTDQx3iPP",
        "outputId": "fd259395-375c-4c41-affe-9f03a374a23b"
      },
      "source": [
        "# Boxplot do comprimento das strings de texto\n",
        "corpus.boxplot('len')"
      ],
      "execution_count": 5,
      "outputs": [
        {
          "output_type": "execute_result",
          "data": {
            "text/plain": [
              "<matplotlib.axes._subplots.AxesSubplot at 0x7f7a5ba13b50>"
            ]
          },
          "metadata": {},
          "execution_count": 5
        },
        {
          "output_type": "display_data",
          "data": {
            "image/png": "[encoded data removed]",
            "text/plain": [
              "<Figure size 432x288 with 1 Axes>"
            ]
          },
          "metadata": {
            "needs_background": "light"
          }
        }
      ]
    },
    {
      "cell_type": "markdown",
      "metadata": {
        "id": "-3S6V3i-4UEn"
      },
      "source": [
        "A base possui quase 14 mil poemas, cada um mapeado a um autor, e possuindo um conjunto de tags. Através do boxplot acima, percebe-se que grande maioria dos poemas tem menos de 1000 caracteres."
      ]
    },
    {
      "cell_type": "code",
      "metadata": {
        "colab": {
          "base_uri": "https://localhost:8080/",
          "height": 0
        },
        "id": "lk21IUr742uF",
        "outputId": "1da748db-6ed2-4dbe-b690-0ac88096d038"
      },
      "source": [
        "# Histograma do comprimento das strings\n",
        "corpus[corpus.len < 4000].len.hist()"
      ],
      "execution_count": 6,
      "outputs": [
        {
          "output_type": "execute_result",
          "data": {
            "text/plain": [
              "<matplotlib.axes._subplots.AxesSubplot at 0x7f7a5b29a0d0>"
            ]
          },
          "metadata": {},
          "execution_count": 6
        },
        {
          "output_type": "display_data",
          "data": {
            "image/png": "[encoded data removed]",
            "text/plain": [
              "<Figure size 432x288 with 1 Axes>"
            ]
          },
          "metadata": {
            "needs_background": "light"
          }
        }
      ]
    },
    {
      "cell_type": "code",
      "metadata": {
        "colab": {
          "base_uri": "https://localhost:8080/"
        },
        "id": "gVIkJN7Y5PeA",
        "outputId": "5a8e76c9-29a9-43de-e9e1-689b137bcf1a"
      },
      "source": [
        "# Analisando os autores\n",
        "corpus.poet.value_counts()"
      ],
      "execution_count": 7,
      "outputs": [
        {
          "output_type": "execute_result",
          "data": {
            "text/plain": [
              "William Shakespeare      85\n",
              "Alfred, Lord Tennyson    73\n",
              "Emily Dickinson          51\n",
              "William Wordsworth       51\n",
              "Rae Armantrout           49\n",
              "                         ..\n",
              "Eloise Greenfield         1\n",
              "David Wheatley            1\n",
              "Laren McClung             1\n",
              "Robert Hershon            1\n",
              "Philip Good               1\n",
              "Name: poet, Length: 3128, dtype: int64"
            ]
          },
          "metadata": {},
          "execution_count": 7
        }
      ]
    },
    {
      "cell_type": "code",
      "metadata": {
        "colab": {
          "base_uri": "https://localhost:8080/"
        },
        "id": "rong3GJQ5vwK",
        "outputId": "0954f90f-7e1e-48ca-e9fe-7e9ea9514851"
      },
      "source": [
        "# Analisando tags\n",
        "corpus.tags.sample(20)"
      ],
      "execution_count": 8,
      "outputs": [
        {
          "output_type": "execute_result",
          "data": {
            "text/plain": [
              "12503    Living,Parenthood,Religion,Social Commentaries...\n",
              "9611                                 Nature,Weather,Winter\n",
              "9309     Activities,Jobs & Working,Religion,Faith & Dou...\n",
              "9268              Love,Infatuation & Crushes,Romantic Love\n",
              "5662     Living,Life Choices,Activities,Travels & Journeys\n",
              "5818     Nature,Seas, Rivers, & Streams,Weather,Arts & ...\n",
              "267      Relationships,Family & Ancestors,Men & Women,M...\n",
              "5159                Arts & Sciences,Language & Linguistics\n",
              "3966                  Arts & Sciences,Painting & Sculpture\n",
              "13647             Relationships,Pets,Arts & Sciences,Music\n",
              "12926    Living,Growing Old,Infancy,Time & Brevity,Arts...\n",
              "896                 Religion,Christianity,God & the Divine\n",
              "10625    Living,Love,Relationships,Family & Ancestors,M...\n",
              "4174                                        Nature,Animals\n",
              "9818                  Arts & Sciences,Painting & Sculpture\n",
              "6680        Relationships,Friends & Enemies,Nature,Animals\n",
              "3201     Activities,Eating & Drinking,Social Commentari...\n",
              "7470     Living,Marriage & Companionship,Separation & D...\n",
              "921                         Arts & Sciences,Poetry & Poets\n",
              "13107    Living,Health & Illness,Relationships,Friends ...\n",
              "Name: tags, dtype: object"
            ]
          },
          "metadata": {},
          "execution_count": 8
        }
      ]
    },
    {
      "cell_type": "markdown",
      "metadata": {
        "id": "4He5II4yuSy3"
      },
      "source": [
        "## 1.1 Criando labels para autores"
      ]
    },
    {
      "cell_type": "markdown",
      "metadata": {
        "id": "hwEqvfNYupt4"
      },
      "source": [
        "Como a base possui muitos autores, inicialmente é feito uma seleção para utilizar apenas os autores mais frequentes como labels. Poemas de outros autores serão ignorados."
      ]
    },
    {
      "cell_type": "code",
      "metadata": {
        "colab": {
          "base_uri": "https://localhost:8080/"
        },
        "id": "A-U_2lO5jAvJ",
        "outputId": "b6cfd6c6-11c9-4a36-85a0-76f5ccfdf2be"
      },
      "source": [
        "# Identificando poetas de maior com maior número de poemas registrados\n",
        "nPoets = 5\n",
        "poets = corpus.poet.value_counts()[:5]\n",
        "poets"
      ],
      "execution_count": 9,
      "outputs": [
        {
          "output_type": "execute_result",
          "data": {
            "text/plain": [
              "William Shakespeare      85\n",
              "Alfred, Lord Tennyson    73\n",
              "Emily Dickinson          51\n",
              "William Wordsworth       51\n",
              "Rae Armantrout           49\n",
              "Name: poet, dtype: int64"
            ]
          },
          "metadata": {},
          "execution_count": 9
        }
      ]
    },
    {
      "cell_type": "code",
      "metadata": {
        "colab": {
          "base_uri": "https://localhost:8080/"
        },
        "id": "aeO743RLlpzq",
        "outputId": "1044e6ae-62c3-4e7e-97ce-b8f1b646e9a4"
      },
      "source": [
        "labels = list(poets.index) + ['Other']\n",
        "labels"
      ],
      "execution_count": 10,
      "outputs": [
        {
          "output_type": "execute_result",
          "data": {
            "text/plain": [
              "['William Shakespeare',\n",
              " 'Alfred, Lord Tennyson',\n",
              " 'Emily Dickinson',\n",
              " 'William Wordsworth',\n",
              " 'Rae Armantrout',\n",
              " 'Other']"
            ]
          },
          "metadata": {},
          "execution_count": 10
        }
      ]
    },
    {
      "cell_type": "code",
      "metadata": {
        "id": "MAk0hbcgldPA"
      },
      "source": [
        "# Criando coluna de label contendo os principais poetas\n",
        "corpus['label'] = corpus.poet.apply(lambda x: x if x in labels else 'Other' )"
      ],
      "execution_count": 11,
      "outputs": []
    },
    {
      "cell_type": "code",
      "metadata": {
        "id": "LauYXgUl6LxS"
      },
      "source": [
        "# Criando nova coluna para índice da label\n",
        "corpus['label_id'] = corpus.label.factorize()[0]\n"
      ],
      "execution_count": 12,
      "outputs": []
    },
    {
      "cell_type": "code",
      "metadata": {
        "colab": {
          "base_uri": "https://localhost:8080/"
        },
        "id": "VSzuWNma6OOJ",
        "outputId": "9a444f30-f200-4f68-849b-cd18b3a9ce79"
      },
      "source": [
        "# Mapeamento de labels para índices\n",
        "corpus_label_map = corpus.label.factorize()[1]\n",
        "corpus_label_map"
      ],
      "execution_count": 13,
      "outputs": [
        {
          "output_type": "execute_result",
          "data": {
            "text/plain": [
              "Index(['Other', 'William Shakespeare', 'Emily Dickinson',\n",
              "       'Alfred, Lord Tennyson', 'Rae Armantrout', 'William Wordsworth'],\n",
              "      dtype='object')"
            ]
          },
          "metadata": {},
          "execution_count": 13
        }
      ]
    },
    {
      "cell_type": "code",
      "metadata": {
        "colab": {
          "base_uri": "https://localhost:8080/",
          "height": 0
        },
        "id": "E1wGvByJ60nr",
        "outputId": "2c457707-4ba5-490e-dc57-014e88c80d82"
      },
      "source": [
        "import seaborn as sns\n",
        "import matplotlib.pyplot as plt\n",
        "\n",
        "plt.plot();\n",
        "sns.countplot(x=\"label\",data=corpus[corpus.label!='Other']);\n",
        "plt.xticks(rotation=90);"
      ],
      "execution_count": 14,
      "outputs": [
        {
          "output_type": "display_data",
          "data": {
            "image/png": "[encoded data removed]",
            "text/plain": [
              "<Figure size 432x288 with 1 Axes>"
            ]
          },
          "metadata": {
            "needs_background": "light"
          }
        }
      ]
    },
    {
      "cell_type": "markdown",
      "metadata": {
        "id": "1He6-Pv-uY4C"
      },
      "source": [
        "## 1.2 Criando labels para tags"
      ]
    },
    {
      "cell_type": "markdown",
      "metadata": {
        "id": "fkbCS9DEvjNl"
      },
      "source": [
        "As tags são outra possibilidade de target para a classificação. Porém, um poema pode conter 0 ou mais tags, então trata-se de um problema de classificação multivariada.\n",
        "\n",
        "É um problema bastante diferente da classificação por um único autor. O sklearn tem um material muito bom explicando esses diferentes tipos de classificação:  \n",
        "https://scikit-learn.org/stable/modules/multiclass.html#multiclass-multioutput-classification\n",
        "\n",
        "Para começar, é feita uma seleção das tags mais frequentes, e estas serão utilizadas para compor um vetor one-hot no qual cada posição corresponde à presença ou não da TAG."
      ]
    },
    {
      "cell_type": "code",
      "metadata": {
        "colab": {
          "base_uri": "https://localhost:8080/"
        },
        "id": "UjMPADoruQPQ",
        "outputId": "938efa22-b505-44c8-c898-cb7cbfe11605"
      },
      "source": [
        "# Encontrando tags mais comuns\n",
        "tags = corpus.tags.values\n",
        "tags[:5]"
      ],
      "execution_count": 15,
      "outputs": [
        {
          "output_type": "execute_result",
          "data": {
            "text/plain": [
              "array([nan, nan, nan, nan, nan], dtype=object)"
            ]
          },
          "metadata": {},
          "execution_count": 15
        }
      ]
    },
    {
      "cell_type": "code",
      "metadata": {
        "colab": {
          "base_uri": "https://localhost:8080/"
        },
        "id": "b7-B-d7GvaEo",
        "outputId": "2b0b0720-625a-4d22-da43-ffe752cef429"
      },
      "source": [
        "# Removendo nans\n",
        "tags = [t for t in tags if isinstance(t,str)]\n",
        "tags[:5]"
      ],
      "execution_count": 16,
      "outputs": [
        {
          "output_type": "execute_result",
          "data": {
            "text/plain": [
              "['Living,Time & Brevity,Relationships,Family & Ancestors,Nature,Landscapes & Pastorals,Seas, Rivers, & Streams,Social Commentaries,History & Politics',\n",
              " 'Religion,The Spiritual,Mythology & Folklore,Fairy-tales & Legends',\n",
              " 'Living,Parenthood,The Body,The Mind,Nature,Trees & Flowers',\n",
              " 'The Body,Family & Ancestors',\n",
              " 'Infancy,Parenthood,The Body']"
            ]
          },
          "metadata": {},
          "execution_count": 16
        }
      ]
    },
    {
      "cell_type": "code",
      "metadata": {
        "colab": {
          "base_uri": "https://localhost:8080/"
        },
        "id": "NRpegLptuvRm",
        "outputId": "8f1a5783-9d12-424c-8f2f-b5601d3a265d"
      },
      "source": [
        "# Dividindo listas de tags\n",
        "tags = [t.split(',') for t in tags]\n",
        "tags = [t for sublist in tags for t in sublist]\n",
        "tags[:5]"
      ],
      "execution_count": 17,
      "outputs": [
        {
          "output_type": "execute_result",
          "data": {
            "text/plain": [
              "['Living', 'Time & Brevity', 'Relationships', 'Family & Ancestors', 'Nature']"
            ]
          },
          "metadata": {},
          "execution_count": 17
        }
      ]
    },
    {
      "cell_type": "code",
      "metadata": {
        "colab": {
          "base_uri": "https://localhost:8080/"
        },
        "id": "-twUTxrEwhfL",
        "outputId": "64e71fae-24b3-4a89-b574-df35192a714c"
      },
      "source": [
        "# Value counts para determinar as tags mais comuns\n",
        "nTags = 9\n",
        "tags = pd.Series(tags)\n",
        "print(tags.value_counts()[:nTags])\n",
        "tags = tags.value_counts().index[:nTags]"
      ],
      "execution_count": 18,
      "outputs": [
        {
          "output_type": "stream",
          "name": "stdout",
          "text": [
            "Living                 6243\n",
            "Social Commentaries    4302\n",
            "Relationships          3856\n",
            "Nature                 3613\n",
            "Arts & Sciences        3039\n",
            "Love                   2126\n",
            "Activities             2107\n",
            "Death                  1547\n",
            "Religion               1483\n",
            "dtype: int64\n"
          ]
        }
      ]
    },
    {
      "cell_type": "code",
      "metadata": {
        "id": "PxJSKzkk1AdJ"
      },
      "source": [
        "# # Criando coluna para marcar que há alguma tag principal\n",
        "# corpus['has_tag'] = corpus.tags.apply(lambda x: sum([tag in x.split(',') for tag in tags]) if isinstance(x,str) else 0)\n",
        "# # Criando colunas para as principais tags\n",
        "# for tag in tags:\n",
        "#     corpus['tag_'+tag] = corpus.tags.apply(lambda x: 1 if isinstance(x,str) and tag in x.split(',') else 0 )"
      ],
      "execution_count": 19,
      "outputs": []
    },
    {
      "cell_type": "code",
      "metadata": {
        "colab": {
          "base_uri": "https://localhost:8080/"
        },
        "id": "WEfnZnzVdp9H",
        "outputId": "06845381-643f-41ab-ea1f-b04a2edebd58"
      },
      "source": [
        "# Criando funcao para vetorizar tags\n",
        "def tags2vector(x):\n",
        "    if isinstance(x, float):\n",
        "        return np.zeros(nTags, dtype='uint8')\n",
        "    x = x.split(',')\n",
        "    result = []\n",
        "    for tag in tags:\n",
        "        if tag in x:\n",
        "            result.append(1)\n",
        "        else:\n",
        "            result.append(0)\n",
        "    result = np.array(result, dtype='uint8')\n",
        "    return result\n",
        "\n",
        "corpus['tags_vectors'] = corpus.tags.apply(tags2vector)\n",
        "corpus.sample(5)['tags_vectors']"
      ],
      "execution_count": 20,
      "outputs": [
        {
          "output_type": "execute_result",
          "data": {
            "text/plain": [
              "60      [0, 0, 0, 0, 0, 0, 0, 0, 0]\n",
              "79      [0, 0, 0, 0, 0, 0, 0, 0, 0]\n",
              "2401    [0, 0, 0, 0, 0, 0, 0, 0, 0]\n",
              "3105    [1, 0, 0, 1, 0, 0, 0, 0, 0]\n",
              "649     [1, 1, 0, 0, 0, 0, 0, 0, 0]\n",
              "Name: tags_vectors, dtype: object"
            ]
          },
          "metadata": {},
          "execution_count": 20
        }
      ]
    },
    {
      "cell_type": "code",
      "metadata": {
        "id": "7GkO5O18AoAy"
      },
      "source": [
        "# Criando coluna para indicar a presença de alguma tag\n",
        "corpus['tags_present'] = corpus.tags_vectors.apply(lambda x : sum(x)) > 0"
      ],
      "execution_count": 21,
      "outputs": []
    },
    {
      "cell_type": "markdown",
      "metadata": {
        "id": "v9xeKq2A_XJO"
      },
      "source": [
        "## 1.3 Finalizando"
      ]
    },
    {
      "cell_type": "code",
      "metadata": {
        "colab": {
          "base_uri": "https://localhost:8080/",
          "height": 0
        },
        "id": "fhMFE8W8AuSt",
        "outputId": "da383c27-cdad-4903-9156-1658a51bc027"
      },
      "source": [
        "corpus.sample(5)"
      ],
      "execution_count": 22,
      "outputs": [
        {
          "output_type": "execute_result",
          "data": {
            "text/html": [
              "<div>\n",
              "<style scoped>\n",
              "    .dataframe tbody tr th:only-of-type {\n",
              "        vertical-align: middle;\n",
              "    }\n",
              "\n",
              "    .dataframe tbody tr th {\n",
              "        vertical-align: top;\n",
              "    }\n",
              "\n",
              "    .dataframe thead th {\n",
              "        text-align: right;\n",
              "    }\n",
              "</style>\n",
              "<table border=\"1\" class=\"dataframe\">\n",
              "  <thead>\n",
              "    <tr style=\"text-align: right;\">\n",
              "      <th></th>\n",
              "      <th>title</th>\n",
              "      <th>text</th>\n",
              "      <th>poet</th>\n",
              "      <th>tags</th>\n",
              "      <th>len</th>\n",
              "      <th>label</th>\n",
              "      <th>label_id</th>\n",
              "      <th>tags_vectors</th>\n",
              "      <th>tags_present</th>\n",
              "    </tr>\n",
              "  </thead>\n",
              "  <tbody>\n",
              "    <tr>\n",
              "      <th>7879</th>\n",
              "      <td>\\r\\r\\n                    [My prime of youth i...</td>\n",
              "      <td>\\r\\r\\nMy prime of youth is but a frost of care...</td>\n",
              "      <td>Chidiock Tichborne</td>\n",
              "      <td>Living,Death,Disappointment &amp; Failure,Growing ...</td>\n",
              "      <td>764</td>\n",
              "      <td>Other</td>\n",
              "      <td>0</td>\n",
              "      <td>[1, 0, 0, 0, 0, 0, 0, 1, 1]</td>\n",
              "      <td>True</td>\n",
              "    </tr>\n",
              "    <tr>\n",
              "      <th>9400</th>\n",
              "      <td>\\r\\r\\n                    Day Room\\r\\r\\n      ...</td>\n",
              "      <td>\\r\\r\\nHis head rose like a torch in a tomb.\\r\\...</td>\n",
              "      <td>Tom Sleigh</td>\n",
              "      <td>Living,Growing Old,Arts &amp; Sciences,Philosophy,...</td>\n",
              "      <td>2818</td>\n",
              "      <td>Other</td>\n",
              "      <td>0</td>\n",
              "      <td>[1, 1, 0, 0, 1, 0, 0, 0, 0]</td>\n",
              "      <td>True</td>\n",
              "    </tr>\n",
              "    <tr>\n",
              "      <th>5884</th>\n",
              "      <td>\\r\\r\\n                    Flat White Afternoon...</td>\n",
              "      <td>\\r\\r\\nForget about it for you’ll never win, ne...</td>\n",
              "      <td>Alan Gillis</td>\n",
              "      <td>Living,Life Choices,The Mind,Time &amp; Brevity,Ac...</td>\n",
              "      <td>1806</td>\n",
              "      <td>Other</td>\n",
              "      <td>0</td>\n",
              "      <td>[1, 1, 0, 0, 0, 0, 1, 0, 0]</td>\n",
              "      <td>True</td>\n",
              "    </tr>\n",
              "    <tr>\n",
              "      <th>7270</th>\n",
              "      <td>\\r\\r\\n                    Cor Cordium\\r\\r\\n   ...</td>\n",
              "      <td>\\r\\r\\nO heart of hearts, the chalice of love's...</td>\n",
              "      <td>Algernon Charles Swinburne</td>\n",
              "      <td>Living,Death,Sorrow &amp; Grieving,Arts &amp; Sciences...</td>\n",
              "      <td>711</td>\n",
              "      <td>Other</td>\n",
              "      <td>0</td>\n",
              "      <td>[1, 0, 0, 0, 1, 0, 0, 1, 0]</td>\n",
              "      <td>True</td>\n",
              "    </tr>\n",
              "    <tr>\n",
              "      <th>4579</th>\n",
              "      <td>\\r\\r\\n                    The Only Museum\\r\\r\\...</td>\n",
              "      <td>\\r\\r\\nby this point you must be hungry\\r\\r\\nfo...</td>\n",
              "      <td>Ben Purkert</td>\n",
              "      <td>Living,The Mind,Love,Nature,Weather,Religion,G...</td>\n",
              "      <td>509</td>\n",
              "      <td>Other</td>\n",
              "      <td>0</td>\n",
              "      <td>[1, 0, 0, 1, 1, 1, 0, 0, 1]</td>\n",
              "      <td>True</td>\n",
              "    </tr>\n",
              "  </tbody>\n",
              "</table>\n",
              "</div>"
            ],
            "text/plain": [
              "                                                  title  ... tags_present\n",
              "7879  \\r\\r\\n                    [My prime of youth i...  ...         True\n",
              "9400  \\r\\r\\n                    Day Room\\r\\r\\n      ...  ...         True\n",
              "5884  \\r\\r\\n                    Flat White Afternoon...  ...         True\n",
              "7270  \\r\\r\\n                    Cor Cordium\\r\\r\\n   ...  ...         True\n",
              "4579  \\r\\r\\n                    The Only Museum\\r\\r\\...  ...         True\n",
              "\n",
              "[5 rows x 9 columns]"
            ]
          },
          "metadata": {},
          "execution_count": 22
        }
      ]
    },
    {
      "cell_type": "code",
      "metadata": {
        "id": "A6xvz8Ug_W4Y"
      },
      "source": [
        "corpus_original = corpus.copy()"
      ],
      "execution_count": 23,
      "outputs": []
    },
    {
      "cell_type": "markdown",
      "metadata": {
        "id": "0stymOqY56cM"
      },
      "source": [
        "# 2. Processamento para Autores"
      ]
    },
    {
      "cell_type": "markdown",
      "metadata": {
        "id": "5obYUMyKAQ3a"
      },
      "source": [
        "## 2.0 Separando dataset\n"
      ]
    },
    {
      "cell_type": "code",
      "metadata": {
        "colab": {
          "base_uri": "https://localhost:8080/",
          "height": 0
        },
        "id": "I4Cy1hVM_z29",
        "outputId": "c1eb87a2-f63a-4089-e7cc-fb6dc53a21a9"
      },
      "source": [
        "corpus = corpus_original.copy()\n",
        "corpus.sample(5)"
      ],
      "execution_count": 24,
      "outputs": [
        {
          "output_type": "execute_result",
          "data": {
            "text/html": [
              "<div>\n",
              "<style scoped>\n",
              "    .dataframe tbody tr th:only-of-type {\n",
              "        vertical-align: middle;\n",
              "    }\n",
              "\n",
              "    .dataframe tbody tr th {\n",
              "        vertical-align: top;\n",
              "    }\n",
              "\n",
              "    .dataframe thead th {\n",
              "        text-align: right;\n",
              "    }\n",
              "</style>\n",
              "<table border=\"1\" class=\"dataframe\">\n",
              "  <thead>\n",
              "    <tr style=\"text-align: right;\">\n",
              "      <th></th>\n",
              "      <th>title</th>\n",
              "      <th>text</th>\n",
              "      <th>poet</th>\n",
              "      <th>tags</th>\n",
              "      <th>len</th>\n",
              "      <th>label</th>\n",
              "      <th>label_id</th>\n",
              "      <th>tags_vectors</th>\n",
              "      <th>tags_present</th>\n",
              "    </tr>\n",
              "  </thead>\n",
              "  <tbody>\n",
              "    <tr>\n",
              "      <th>5212</th>\n",
              "      <td>\\r\\r\\n                    Dolphins at Seven We...</td>\n",
              "      <td>\\r\\r\\nInward lush unpetaling purpose in pink b...</td>\n",
              "      <td>Rachel Jamison Webster</td>\n",
              "      <td>Living,The Body,The Mind,Nature,Animals,Seas, ...</td>\n",
              "      <td>910</td>\n",
              "      <td>Other</td>\n",
              "      <td>0</td>\n",
              "      <td>[1, 0, 0, 1, 0, 0, 0, 0, 0]</td>\n",
              "      <td>True</td>\n",
              "    </tr>\n",
              "    <tr>\n",
              "      <th>10261</th>\n",
              "      <td>\\r\\r\\n                    Foredoom\\r\\r\\n      ...</td>\n",
              "      <td>\\r\\r\\nHer life was dwarfed, and wed to blight,...</td>\n",
              "      <td>Georgia Douglas Johnson</td>\n",
              "      <td>Disappointment &amp; Failure,Social Commentaries,G...</td>\n",
              "      <td>151</td>\n",
              "      <td>Other</td>\n",
              "      <td>0</td>\n",
              "      <td>[0, 1, 0, 0, 0, 0, 0, 0, 0]</td>\n",
              "      <td>True</td>\n",
              "    </tr>\n",
              "    <tr>\n",
              "      <th>3871</th>\n",
              "      <td>\\r\\r\\n                    My Blue Shirt\\r\\r\\n ...</td>\n",
              "      <td>\\r\\r\\nhangs in the closet\\r\\r\\nof this small r...</td>\n",
              "      <td>Gary Whited</td>\n",
              "      <td>NaN</td>\n",
              "      <td>829</td>\n",
              "      <td>Other</td>\n",
              "      <td>0</td>\n",
              "      <td>[0, 0, 0, 0, 0, 0, 0, 0, 0]</td>\n",
              "      <td>False</td>\n",
              "    </tr>\n",
              "    <tr>\n",
              "      <th>559</th>\n",
              "      <td>\\r\\r\\n                    Advice from Rock Cre...</td>\n",
              "      <td>\\r\\r\\nWhat will survive us\\r\\r\\nhas already be...</td>\n",
              "      <td>Stephanie Burt</td>\n",
              "      <td>Living,Time &amp; Brevity,Nature,Animals,Social Co...</td>\n",
              "      <td>631</td>\n",
              "      <td>Other</td>\n",
              "      <td>0</td>\n",
              "      <td>[1, 1, 0, 1, 0, 0, 0, 0, 0]</td>\n",
              "      <td>True</td>\n",
              "    </tr>\n",
              "    <tr>\n",
              "      <th>10185</th>\n",
              "      <td>\\r\\r\\n                    [all the time I pray...</td>\n",
              "      <td>\\r\\r\\nAll the time I pray to Buddha I keep on ...</td>\n",
              "      <td>Kobayashi Issa</td>\n",
              "      <td>Religion,Buddhism</td>\n",
              "      <td>69</td>\n",
              "      <td>Other</td>\n",
              "      <td>0</td>\n",
              "      <td>[0, 0, 0, 0, 0, 0, 0, 0, 1]</td>\n",
              "      <td>True</td>\n",
              "    </tr>\n",
              "  </tbody>\n",
              "</table>\n",
              "</div>"
            ],
            "text/plain": [
              "                                                   title  ... tags_present\n",
              "5212   \\r\\r\\n                    Dolphins at Seven We...  ...         True\n",
              "10261  \\r\\r\\n                    Foredoom\\r\\r\\n      ...  ...         True\n",
              "3871   \\r\\r\\n                    My Blue Shirt\\r\\r\\n ...  ...        False\n",
              "559    \\r\\r\\n                    Advice from Rock Cre...  ...         True\n",
              "10185  \\r\\r\\n                    [all the time I pray...  ...         True\n",
              "\n",
              "[5 rows x 9 columns]"
            ]
          },
          "metadata": {},
          "execution_count": 24
        }
      ]
    },
    {
      "cell_type": "code",
      "metadata": {
        "colab": {
          "base_uri": "https://localhost:8080/",
          "height": 0
        },
        "id": "ITCD103Z-qpA",
        "outputId": "59ad0001-508e-4c3a-ee65-f112a36b7479"
      },
      "source": [
        "# Separando dataset por autores principais\n",
        "corpus_labeled = corpus[corpus.label!='Other']\n",
        "nSamples = len(corpus_labeled.index)//nPoets\n",
        "corpus_other = corpus[corpus.label=='Other'].sample(nSamples)\n",
        "corpus = pd.concat([corpus_labeled, corpus_other])\n",
        "\n",
        "print(corpus.shape)\n",
        "# contagem de textos em cada classe\n",
        "plt.plot();\n",
        "sns.countplot(x=\"label\",data=corpus);\n",
        "plt.xticks(rotation=90);"
      ],
      "execution_count": 25,
      "outputs": [
        {
          "output_type": "stream",
          "name": "stdout",
          "text": [
            "(370, 9)\n"
          ]
        },
        {
          "output_type": "display_data",
          "data": {
            "image/png": "[encoded data removed]",
            "text/plain": [
              "<Figure size 432x288 with 1 Axes>"
            ]
          },
          "metadata": {
            "needs_background": "light"
          }
        }
      ]
    },
    {
      "cell_type": "markdown",
      "metadata": {
        "id": "KTmsinz67sCd"
      },
      "source": [
        "## 2.1. Stems e Lemmas"
      ]
    },
    {
      "cell_type": "code",
      "metadata": {
        "colab": {
          "base_uri": "https://localhost:8080/"
        },
        "id": "_X0bR_1J58Is",
        "outputId": "a72a603f-8eff-42df-cbfd-f20f25487dc2"
      },
      "source": [
        "import nltk\n",
        "nltk.download(\"punkt\")\n",
        "nltk.download(\"stopwords\")\n",
        "nltk.download(\"wordnet\")"
      ],
      "execution_count": 26,
      "outputs": [
        {
          "output_type": "stream",
          "name": "stdout",
          "text": [
            "[nltk_data] Downloading package punkt to /root/nltk_data...\n",
            "[nltk_data]   Unzipping tokenizers/punkt.zip.\n",
            "[nltk_data] Downloading package stopwords to /root/nltk_data...\n",
            "[nltk_data]   Unzipping corpora/stopwords.zip.\n",
            "[nltk_data] Downloading package wordnet to /root/nltk_data...\n",
            "[nltk_data]   Unzipping corpora/wordnet.zip.\n"
          ]
        },
        {
          "output_type": "execute_result",
          "data": {
            "text/plain": [
              "True"
            ]
          },
          "metadata": {},
          "execution_count": 26
        }
      ]
    },
    {
      "cell_type": "code",
      "metadata": {
        "colab": {
          "base_uri": "https://localhost:8080/"
        },
        "id": "gFV3LEiiTTNf",
        "outputId": "21abb581-f01f-4d34-c77e-59d629cb6edd"
      },
      "source": [
        "# Tokenizer sem alterações\n",
        "from nltk.tokenize import wordpunct_tokenize\n",
        "\n",
        "wordpunct_tokenize(\"Sample poem. Ends here.\")"
      ],
      "execution_count": 27,
      "outputs": [
        {
          "output_type": "execute_result",
          "data": {
            "text/plain": [
              "['Sample', 'poem', '.', 'Ends', 'here', '.']"
            ]
          },
          "metadata": {},
          "execution_count": 27
        }
      ]
    },
    {
      "cell_type": "code",
      "metadata": {
        "id": "rnNk2bh05_WS"
      },
      "source": [
        "# Criando tokenizador customizado\n",
        "from nltk.tokenize import wordpunct_tokenize\n",
        "from nltk.corpus import stopwords\n",
        "stopwords = stopwords.words('english')\n",
        "\n",
        "from nltk.stem.porter import PorterStemmer\n",
        "stm = PorterStemmer()\n",
        "\n",
        "from nltk.stem.wordnet import WordNetLemmatizer\n",
        "wnl = WordNetLemmatizer()\n",
        "\n",
        "import string\n",
        "\n",
        "def preproc_tokenizer(text, reduc='stemmer'):\n",
        "    words = wordpunct_tokenize(text) \n",
        "    # Removendo pontuação e tornando lowercase\n",
        "    #words = [word.lower() for word in words]\n",
        "    #words = [word for word in words if word not in string.punctuation]\n",
        "    words = [word.lower() for word in words if word.isalpha()]\n",
        "    # Removendo stopwords\n",
        "    words = [word for word in words if word not in stopwords]\n",
        "    \n",
        "    if reduc.lower() == 'lemmatizer':\n",
        "        words = [wnl.lemmatize(word) for word in words] \n",
        "    else:\n",
        "        words = [stm.stem(word) for word in words]\n",
        "    return words"
      ],
      "execution_count": 28,
      "outputs": []
    },
    {
      "cell_type": "code",
      "metadata": {
        "colab": {
          "base_uri": "https://localhost:8080/"
        },
        "id": "s39NAgdATeaU",
        "outputId": "75e6cf92-04cd-4725-c21e-37da4a10c6f5"
      },
      "source": [
        "# Funções separadas serão úteis posteriormente\n",
        "def tokenizer_lemma(text):\n",
        "    return preproc_tokenizer(text, reduc='lemmatizer')\n",
        "def tokenizer_stem(text):\n",
        "    return preproc_tokenizer(text, reduc='stemmer')\n",
        "\n",
        "tokenizer_lemma(\"Sample poem. Ends here.\")"
      ],
      "execution_count": 29,
      "outputs": [
        {
          "output_type": "execute_result",
          "data": {
            "text/plain": [
              "['sample', 'poem', 'end']"
            ]
          },
          "metadata": {},
          "execution_count": 29
        }
      ]
    },
    {
      "cell_type": "code",
      "metadata": {
        "id": "_t9sWCsS6m41"
      },
      "source": [
        "# Wordclouds\n",
        "import matplotlib.pyplot as plt\n",
        "from wordcloud import WordCloud\n",
        "from collections import Counter\n",
        "\n",
        "def gen_wordcloud(texts, title, size=50):\n",
        "    # conta a frequencia de cada termo \n",
        "    frequencies = Counter(token for doc in texts for token in set(doc))\n",
        "    \n",
        "    # gera a nuvem de palavras\n",
        "    wc = WordCloud()\n",
        "    wc.generate_from_frequencies(dict(frequencies.most_common(size)))\n",
        "    \n",
        "    # plota a nuvem\n",
        "    plt.figure()\n",
        "    plt.imshow(wc, interpolation=\"bilinear\")\n",
        "    plt.title(title)\n",
        "    plt.axis(\"off\")\n",
        "    plt.show()"
      ],
      "execution_count": 30,
      "outputs": []
    },
    {
      "cell_type": "code",
      "metadata": {
        "colab": {
          "base_uri": "https://localhost:8080/",
          "height": 0
        },
        "id": "q3K7eNbW6tiD",
        "outputId": "c2323e56-f572-4190-b893-ca6638282e45"
      },
      "source": [
        "# Wordclouds\n",
        "gen_wordcloud(corpus.text.apply(tokenizer_stem),\"Stems\", 15)\n",
        "gen_wordcloud(corpus.text.apply(tokenizer_lemma),\"Lemmas\", 15)"
      ],
      "execution_count": 31,
      "outputs": [
        {
          "output_type": "display_data",
          "data": {
            "image/png": "[encoded data removed]",
            "text/plain": [
              "<Figure size 432x288 with 1 Axes>"
            ]
          },
          "metadata": {
            "needs_background": "light"
          }
        },
        {
          "output_type": "display_data",
          "data": {
            "image/png": "[encoded data removed]",
            "text/plain": [
              "<Figure size 432x288 with 1 Axes>"
            ]
          },
          "metadata": {
            "needs_background": "light"
          }
        }
      ]
    },
    {
      "cell_type": "markdown",
      "metadata": {
        "id": "9Zg_xnlsEVPB"
      },
      "source": [
        "## 2.3. Pipeline (Vectorizer + Random Forests)\n"
      ]
    },
    {
      "cell_type": "markdown",
      "metadata": {
        "id": "rF-Bd9ycbsYc"
      },
      "source": [
        "**Vetorizador**  \n",
        "O tfidf foi escolhido para este teste, junto com o tokenizador de lemmas.  \n",
        "O número mínimo de termos por documento foi 1, pois alguns poemas são bastante\n",
        "curtos, e podem utilizar um vocabulário bem variado."
      ]
    },
    {
      "cell_type": "code",
      "metadata": {
        "id": "f8TqZAuM9-uu"
      },
      "source": [
        "# Vectorizer\n",
        "from sklearn.feature_extraction.text import TfidfVectorizer\n",
        "\n",
        "tfidf_vectorizer = TfidfVectorizer(tokenizer=tokenizer_lemma, stop_words='english', min_df=1)"
      ],
      "execution_count": 32,
      "outputs": []
    },
    {
      "cell_type": "markdown",
      "metadata": {
        "id": "VYXTKe6IcH6v"
      },
      "source": [
        "**Classificador**  \n",
        "O random forest foi escolhido para ser possível analisar os termos mais importantes depois."
      ]
    },
    {
      "cell_type": "code",
      "metadata": {
        "id": "B4oG4L4L9a8V"
      },
      "source": [
        "# Classifier\n",
        "from sklearn.ensemble import RandomForestClassifier\n",
        "\n",
        "clf = RandomForestClassifier(n_estimators=100, random_state=42)"
      ],
      "execution_count": 33,
      "outputs": []
    },
    {
      "cell_type": "code",
      "metadata": {
        "id": "_T9-taeK9YxN"
      },
      "source": [
        "# Pipeline\n",
        "from sklearn.pipeline import Pipeline\n",
        "from sklearn.metrics import plot_confusion_matrix, classification_report\n",
        "\n",
        "pipeline = Pipeline([\n",
        "    ('vect', tfidf_vectorizer),\n",
        "    ('clf', clf)\n",
        "])"
      ],
      "execution_count": 34,
      "outputs": []
    },
    {
      "cell_type": "markdown",
      "metadata": {
        "id": "g5jPablBcWeA"
      },
      "source": [
        "**Data Split**  \n",
        "10% de dados para o conjunto de teste pois o conjunto de dados é muito pequeno."
      ]
    },
    {
      "cell_type": "code",
      "metadata": {
        "id": "-vRS-LE3GKMV"
      },
      "source": [
        "# Data Split\n",
        "from sklearn.model_selection import train_test_split\n",
        "\n",
        "train_corpus, test_corpus =  train_test_split(corpus, test_size=0.1, random_state=0)"
      ],
      "execution_count": 35,
      "outputs": []
    },
    {
      "cell_type": "code",
      "metadata": {
        "colab": {
          "base_uri": "https://localhost:8080/"
        },
        "id": "vtHNziphGmhM",
        "outputId": "17627a3f-e7d9-4a04-d542-d1346a5d4f6e"
      },
      "source": [
        "# Model training and evaluation\n",
        "print( pipeline.fit(train_corpus.text.values, train_corpus.label.values) )\n",
        "\n",
        "from sklearn import metrics\n",
        "\n",
        "predictions = pipeline.predict(test_corpus.text)\n",
        "accuracy = metrics.accuracy_score(test_corpus.label, predictions)\n",
        "f1score = metrics.f1_score(test_corpus.label, predictions, average=\"weighted\")\n",
        "print(\"accuracy: {:0.2f}\\nf1score:  {:0.2f}\".format(accuracy,f1score))"
      ],
      "execution_count": 36,
      "outputs": [
        {
          "output_type": "stream",
          "name": "stderr",
          "text": [
            "/usr/local/lib/python3.7/dist-packages/sklearn/feature_extraction/text.py:401: UserWarning: Your stop_words may be inconsistent with your preprocessing. Tokenizing the stop words generated tokens ['le', 'u'] not in stop_words.\n",
            "  % sorted(inconsistent)\n"
          ]
        },
        {
          "output_type": "stream",
          "name": "stdout",
          "text": [
            "Pipeline(steps=[('vect',\n",
            "                 TfidfVectorizer(stop_words='english',\n",
            "                                 tokenizer=<function tokenizer_lemma at 0x7f7a451830e0>)),\n",
            "                ('clf', RandomForestClassifier(random_state=42))])\n",
            "accuracy: 0.70\n",
            "f1score:  0.70\n"
          ]
        }
      ]
    },
    {
      "cell_type": "code",
      "metadata": {
        "colab": {
          "base_uri": "https://localhost:8080/",
          "height": 0
        },
        "id": "XypkkZWyHpJ4",
        "outputId": "4ba52f04-ae23-4f43-a581-eb715a8cd179"
      },
      "source": [
        "# Confusion Matrix\n",
        "from sklearn.metrics import plot_confusion_matrix, classification_report\n",
        "plt.rcParams[\"figure.figsize\"] = (10,10)\n",
        "fig = plot_confusion_matrix(pipeline, test_corpus.text, test_corpus.label,\n",
        "                                 cmap=plt.cm.Blues,\n",
        "                                 normalize='true')\n",
        "plt.xticks(rotation=90);"
      ],
      "execution_count": 37,
      "outputs": [
        {
          "output_type": "stream",
          "name": "stderr",
          "text": [
            "/usr/local/lib/python3.7/dist-packages/sklearn/utils/deprecation.py:87: FutureWarning: Function plot_confusion_matrix is deprecated; Function `plot_confusion_matrix` is deprecated in 1.0 and will be removed in 1.2. Use one of the class methods: ConfusionMatrixDisplay.from_predictions or ConfusionMatrixDisplay.from_estimator.\n",
            "  warnings.warn(msg, category=FutureWarning)\n"
          ]
        },
        {
          "output_type": "display_data",
          "data": {
            "image/png": "[encoded data removed]",
            "text/plain": [
              "<Figure size 720x720 with 2 Axes>"
            ]
          },
          "metadata": {
            "needs_background": "light"
          }
        }
      ]
    },
    {
      "cell_type": "code",
      "metadata": {
        "colab": {
          "base_uri": "https://localhost:8080/",
          "height": 0
        },
        "id": "r2PkNy0FNKbA",
        "outputId": "f13e088a-0ebb-47a8-8166-6150e0371dc9"
      },
      "source": [
        "# Tokens mais importantes\n",
        "import numpy as np\n",
        "\n",
        "nwords = 20\n",
        "counts_importance_idx = pipeline['clf'].feature_importances_.argsort()[-nwords:]\n",
        "\n",
        "tree_indices = np.arange(0, nwords) + 0.5\n",
        "\n",
        "fig, (ax1) = plt.subplots(1, 1, figsize=(8, 8))\n",
        "ax1.barh(tree_indices,\n",
        "         pipeline['clf'].feature_importances_[counts_importance_idx], height=0.7)\n",
        "ax1.set_yticklabels(np.array(pipeline['vect'].get_feature_names())[counts_importance_idx])\n",
        "ax1.set_yticks(tree_indices)\n",
        "ax1.set_ylim((0, nwords))\n",
        "ax1.set_title(\"TF-IDF\")\n",
        "\n",
        "fig.tight_layout()\n",
        "plt.show()"
      ],
      "execution_count": 38,
      "outputs": [
        {
          "output_type": "stream",
          "name": "stderr",
          "text": [
            "/usr/local/lib/python3.7/dist-packages/sklearn/utils/deprecation.py:87: FutureWarning: Function get_feature_names is deprecated; get_feature_names is deprecated in 1.0 and will be removed in 1.2. Please use get_feature_names_out instead.\n",
            "  warnings.warn(msg, category=FutureWarning)\n"
          ]
        },
        {
          "output_type": "display_data",
          "data": {
            "image/png": "[encoded data removed]",
            "text/plain": [
              "<Figure size 576x576 with 1 Axes>"
            ]
          },
          "metadata": {
            "needs_background": "light"
          }
        }
      ]
    },
    {
      "cell_type": "markdown",
      "metadata": {
        "id": "YOaeF5NhcohJ"
      },
      "source": [
        "**Resultados**  \n",
        "Note que em um conjunto de dados tão pequeno, um resultado apenas difícilmente é um bom indicativo da robustez do modelo."
      ]
    },
    {
      "cell_type": "markdown",
      "metadata": {
        "id": "CgSYs_4-bFD8"
      },
      "source": [
        "Desse primeiro teste, pode-se perceber que é fácil classificar o autor Shakespeare pelo uso de palavras incomuns no inglês atual.  \n",
        "Abaixo, uma lista de palavras utilizadas por Shakespeare:  \n",
        "https://www.improvazilla.com/shakespearean-vocabulary-list"
      ]
    },
    {
      "cell_type": "markdown",
      "metadata": {
        "id": "wH6oG5ZjEnA2"
      },
      "source": [
        "## 2.4. Testando Múltiplos Pipelines\n",
        "\n"
      ]
    },
    {
      "cell_type": "markdown",
      "metadata": {
        "id": "6OT81Uj8s-gy"
      },
      "source": [
        "Nesta seção, múltiplas combinações de lematizador/stemmer, tokenizador, e classificador são testadas.  \n",
        "Validação cruzada é utilizada para garantir que os resultados de acurácia e f1score sejam menos enviesados pela escolha do conjunto de treino."
      ]
    },
    {
      "cell_type": "markdown",
      "metadata": {
        "id": "GoIDrQm6tUqn"
      },
      "source": [
        "A validação cruzada KFOLD é um método de validação no qual o dataset é dividido em K folds.  \n",
        "A cada iteração, um fold é utilizado com conjunto de teste, e os outros são utilizados como conjunto de treinamento.  \n",
        "Dessa forma, o dataset inteiro será utilizado para teste pelo menos uma vez.  \n",
        "Ao final, das K iterações, a média da métrica escolhida é calculada para resultad na métrica final\n"
      ]
    },
    {
      "cell_type": "code",
      "metadata": {
        "id": "Khm8hzEbYaVN"
      },
      "source": [
        "# Data Split\n",
        "X = corpus.text.values\n",
        "y = np.stack(corpus.label_id.values, axis=0)\n",
        "\n",
        "# from sklearn.model_selection import train_test_split\n",
        "\n",
        "# X_train, y_train, X_test, y_test = train_test_split(X,y, test_size=0.1, random_state=0)\n",
        "# print(\"X_train.shape\", X_train.shape)\n",
        "# print(\"y_train.shape\", y_train.shape)\n",
        "# print(\"X_test.shape\", X_test.shape)\n",
        "# print(\"y_test.shape\", y_test.shape)"
      ],
      "execution_count": 39,
      "outputs": []
    },
    {
      "cell_type": "code",
      "metadata": {
        "id": "788CGp3CEwDR"
      },
      "source": [
        "# Vetorizadores usando lemmas e stems\n",
        "from sklearn.feature_extraction.text import TfidfVectorizer\n",
        "from sklearn.feature_extraction.text import CountVectorizer\n",
        "\n",
        "vectorizer_tfidf_lemma = TfidfVectorizer(tokenizer=tokenizer_lemma, stop_words='english', min_df=1)\n",
        "vectorizer_tfidf_stem  = TfidfVectorizer(tokenizer=tokenizer_stem,  stop_words='english', min_df=1)\n",
        "vectorizer_count_lemma = CountVectorizer(tokenizer=tokenizer_lemma, stop_words='english', min_df=1)\n",
        "vectorizer_count_stem  = CountVectorizer(tokenizer=tokenizer_stem,  stop_words='english', min_df=1)\n",
        "vectorizers = {\n",
        "    'tfidf_lemma': vectorizer_tfidf_lemma,\n",
        "    'tfidf_stem': vectorizer_tfidf_stem,\n",
        "    'count_lemma': vectorizer_count_lemma,\n",
        "    'count_stem': vectorizer_count_stem}"
      ],
      "execution_count": 40,
      "outputs": []
    },
    {
      "cell_type": "code",
      "metadata": {
        "id": "3XRkVdPbq15z"
      },
      "source": [
        "# Passo intermediário para o classificador GaussianNB\n",
        "#https://stackoverflow.com/questions/28384680/scikit-learns-pipeline-a-sparse-matrix-was-passed-but-dense-data-is-required\n",
        "from sklearn.base import TransformerMixin\n",
        "class DenseTransformer(TransformerMixin):\n",
        "    def fit(self, X, y=None, **fit_params):\n",
        "        return self\n",
        "    def transform(self, X, y=None, **fit_params):\n",
        "        return X.todense()"
      ],
      "execution_count": 41,
      "outputs": []
    },
    {
      "cell_type": "code",
      "metadata": {
        "id": "HaPR7eSPE04A"
      },
      "source": [
        "# Testanto classificadores diferentes \n",
        "from sklearn.ensemble import RandomForestClassifier\n",
        "from sklearn.naive_bayes import MultinomialNB\n",
        "from sklearn.naive_bayes import GaussianNB\n",
        "from sklearn.svm import LinearSVC\n",
        "from sklearn.linear_model import LogisticRegression\n",
        "from sklearn.neural_network import MLPClassifier\n",
        "\n",
        "classifiers = {\n",
        "    'RandomForest': RandomForestClassifier(random_state=1),\n",
        "    'MultinomialNB': MultinomialNB(),\n",
        "    'GaussianNB': GaussianNB(),\n",
        "    'LinearSVC': LinearSVC(random_state=1),\n",
        "    'LogisticRegression': LogisticRegression(random_state=1),\n",
        "    'MLP': MLPClassifier(random_state=1)}"
      ],
      "execution_count": 42,
      "outputs": []
    },
    {
      "cell_type": "code",
      "metadata": {
        "id": "uWhgt6CEFIUx"
      },
      "source": [
        "from sklearn.pipeline import Pipeline\n",
        "from sklearn import metrics\n",
        "from sklearn.metrics import plot_confusion_matrix, classification_report\n",
        "import time\n",
        "from collections import defaultdict\n",
        "import warnings\n",
        "warnings.filterwarnings(\"ignore\")\n",
        "import gc\n",
        "from sklearn.model_selection import KFold"
      ],
      "execution_count": 43,
      "outputs": []
    },
    {
      "cell_type": "code",
      "metadata": {
        "colab": {
          "base_uri": "https://localhost:8080/"
        },
        "id": "VJsatQ9Kxugg",
        "outputId": "34c05f5a-b68b-4d68-f008-9587aa15fab2"
      },
      "source": [
        "# Utilizando KFold\n",
        "folds = 10\n",
        "\n",
        "# Definindo o número de folds, K=10\n",
        "kf = KFold(n_splits=folds, random_state=1, shuffle=True) \n",
        "\n",
        "# Dicionário de resultados\n",
        "results = defaultdict(lambda:defaultdict(list))\n",
        "\n",
        "# Rodando Validação Cruzada\n",
        "for i, (train_index, test_index) in enumerate(kf.split(X)):\n",
        "    print(f\"\\nFOLD {i+1}________________________\")\n",
        "    start_fold = time.time()\n",
        "    # Dividindo os dados de acordo com as listas de índices geradas pelo kf.split()\n",
        "    X_train, X_test = X[train_index], X[test_index]\n",
        "    y_train, y_test = y[train_index], y[test_index]\n",
        "    gc.collect()\n",
        "\n",
        "    for clf_name, clf in classifiers.items():\n",
        "        for vect_name, vect in vectorizers.items():\n",
        "            start = time.time()\n",
        "            try:\n",
        "                # Construindo Pipeline\n",
        "                pipeline_name = clf_name+'_'+vect_name\n",
        "                print(f\"  pipeline: {pipeline_name.ljust(31)}\",end=\" | \")\n",
        "                if clf_name!=\"GaussianNB\":\n",
        "                    pipeline = Pipeline([\n",
        "                        ('vect', vect),\n",
        "                        ('clf', clf)\n",
        "                    ])\n",
        "                else:\n",
        "                    pipeline = Pipeline([\n",
        "                        ('vect', vect),\n",
        "                        ('to_dense', DenseTransformer()),\n",
        "                        ('clf', clf)\n",
        "                    ])\n",
        "\n",
        "                # Treinando\n",
        "                print(\"train\",end=\" | \")\n",
        "                pipeline.fit(X_train, y_train)\n",
        "\n",
        "                # Avaliando\n",
        "                print(\"eval\",end=\" | \")\n",
        "                y_pred = pipeline.predict(X_test)\n",
        "                accuracy = metrics.accuracy_score(y_test, y_pred)\n",
        "                f1score =        metrics.f1_score(y_test, y_pred, average=\"micro\")\n",
        "                #cf =     metrics.confusion_matrix(y_test, y_pred)\n",
        "\n",
        "                # Salvando resultados\n",
        "                results[pipeline_name]['accuracy'].append(accuracy)\n",
        "                results[pipeline_name]['f1score'].append(f1score)\n",
        "                #results[pipeline_name]['cf'] = cf\n",
        "\n",
        "                print(\"accuracy: {:0.2f}\".format(accuracy),end=\" | \")\n",
        "                print(\"f1score: {:0.2f}\".format(f1score),end=\" | \")\n",
        "                \n",
        "            except Exception as e:\n",
        "                # Erro\n",
        "                results[pipeline_name]['exception'].append(str(e))\n",
        "                accuracy = f1score = cf = None\n",
        "                print(f\"exception: {str(e)}\",end=\" | \")\n",
        "\n",
        "            # Salvando resultados\n",
        "            runtime = time.time() - start\n",
        "            results[pipeline_name]['runtime'] = runtime\n",
        "            print(\"runtime: {:0.2f} s \\n\".format(runtime),end=\"\")\n",
        "    runtime_fold = time.time() - start_fold\n",
        "    end_time = runtime_fold*(folds-(i+1))\n",
        "    print(\"  fold runtime: {:0.2f} m \\n\".format(runtime_fold/60),end=\"\")\n",
        "    print(\"  remaining runtime: {:0.2f} m \\n\".format(end_time/60),end=\"\")\n"
      ],
      "execution_count": 44,
      "outputs": [
        {
          "output_type": "stream",
          "name": "stdout",
          "text": [
            "\n",
            "FOLD 1________________________\n",
            "  pipeline: RandomForest_tfidf_lemma        | train | eval | accuracy: 0.62 | f1score: 0.62 | runtime: 1.00 s \n",
            "  pipeline: RandomForest_tfidf_stem         | train | eval | accuracy: 0.68 | f1score: 0.68 | runtime: 1.96 s \n",
            "  pipeline: RandomForest_count_lemma        | train | eval | accuracy: 0.68 | f1score: 0.68 | runtime: 1.00 s \n",
            "  pipeline: RandomForest_count_stem         | train | eval | accuracy: 0.59 | f1score: 0.59 | runtime: 2.00 s \n",
            "  pipeline: MultinomialNB_tfidf_lemma       | train | eval | accuracy: 0.41 | f1score: 0.41 | runtime: 0.60 s \n",
            "  pipeline: MultinomialNB_tfidf_stem        | train | eval | accuracy: 0.41 | f1score: 0.41 | runtime: 1.64 s \n",
            "  pipeline: MultinomialNB_count_lemma       | train | eval | accuracy: 0.51 | f1score: 0.51 | runtime: 0.62 s \n",
            "  pipeline: MultinomialNB_count_stem        | train | eval | accuracy: 0.59 | f1score: 0.59 | runtime: 1.65 s \n",
            "  pipeline: GaussianNB_tfidf_lemma          | train | eval | accuracy: 0.49 | f1score: 0.49 | runtime: 0.66 s \n",
            "  pipeline: GaussianNB_tfidf_stem           | train | eval | accuracy: 0.49 | f1score: 0.49 | runtime: 1.67 s \n",
            "  pipeline: GaussianNB_count_lemma          | train | eval | accuracy: 0.46 | f1score: 0.46 | runtime: 0.67 s \n",
            "  pipeline: GaussianNB_count_stem           | train | eval | accuracy: 0.46 | f1score: 0.46 | runtime: 1.65 s \n",
            "  pipeline: LinearSVC_tfidf_lemma           | train | eval | accuracy: 0.78 | f1score: 0.78 | runtime: 0.63 s \n",
            "  pipeline: LinearSVC_tfidf_stem            | train | eval | accuracy: 0.76 | f1score: 0.76 | runtime: 1.60 s \n",
            "  pipeline: LinearSVC_count_lemma           | train | eval | accuracy: 0.70 | f1score: 0.70 | runtime: 0.60 s \n",
            "  pipeline: LinearSVC_count_stem            | train | eval | accuracy: 0.68 | f1score: 0.68 | runtime: 1.61 s \n",
            "  pipeline: LogisticRegression_tfidf_lemma  | train | eval | accuracy: 0.65 | f1score: 0.65 | runtime: 1.04 s \n",
            "  pipeline: LogisticRegression_tfidf_stem   | train | eval | accuracy: 0.65 | f1score: 0.65 | runtime: 2.03 s \n",
            "  pipeline: LogisticRegression_count_lemma  | train | eval | accuracy: 0.65 | f1score: 0.65 | runtime: 1.22 s \n",
            "  pipeline: LogisticRegression_count_stem   | train | eval | accuracy: 0.68 | f1score: 0.68 | runtime: 2.12 s \n",
            "  pipeline: MLP_tfidf_lemma                 | train | eval | accuracy: 0.68 | f1score: 0.68 | runtime: 12.27 s \n",
            "  pipeline: MLP_tfidf_stem                  | train | eval | accuracy: 0.70 | f1score: 0.70 | runtime: 12.33 s \n",
            "  pipeline: MLP_count_lemma                 | train | eval | accuracy: 0.68 | f1score: 0.68 | runtime: 7.45 s \n",
            "  pipeline: MLP_count_stem                  | train | eval | accuracy: 0.76 | f1score: 0.76 | runtime: 7.68 s \n",
            "  fold runtime: 1.10 m \n",
            "  remaining runtime: 9.87 m \n",
            "\n",
            "FOLD 2________________________\n",
            "  pipeline: RandomForest_tfidf_lemma        | train | eval | accuracy: 0.46 | f1score: 0.46 | runtime: 0.97 s \n",
            "  pipeline: RandomForest_tfidf_stem         | train | eval | accuracy: 0.46 | f1score: 0.46 | runtime: 1.94 s \n",
            "  pipeline: RandomForest_count_lemma        | train | eval | accuracy: 0.49 | f1score: 0.49 | runtime: 0.97 s \n",
            "  pipeline: RandomForest_count_stem         | train | eval | accuracy: 0.41 | f1score: 0.41 | runtime: 1.94 s \n",
            "  pipeline: MultinomialNB_tfidf_lemma       | train | eval | accuracy: 0.30 | f1score: 0.30 | runtime: 0.59 s \n",
            "  pipeline: MultinomialNB_tfidf_stem        | train | eval | accuracy: 0.32 | f1score: 0.32 | runtime: 1.60 s \n",
            "  pipeline: MultinomialNB_count_lemma       | train | eval | accuracy: 0.43 | f1score: 0.43 | runtime: 0.60 s \n",
            "  pipeline: MultinomialNB_count_stem        | train | eval | accuracy: 0.51 | f1score: 0.51 | runtime: 1.59 s \n",
            "  pipeline: GaussianNB_tfidf_lemma          | train | eval | accuracy: 0.49 | f1score: 0.49 | runtime: 0.65 s \n",
            "  pipeline: GaussianNB_tfidf_stem           | train | eval | accuracy: 0.49 | f1score: 0.49 | runtime: 1.64 s \n",
            "  pipeline: GaussianNB_count_lemma          | train | eval | accuracy: 0.49 | f1score: 0.49 | runtime: 0.67 s \n",
            "  pipeline: GaussianNB_count_stem           | train | eval | accuracy: 0.49 | f1score: 0.49 | runtime: 1.64 s \n",
            "  pipeline: LinearSVC_tfidf_lemma           | train | eval | accuracy: 0.59 | f1score: 0.59 | runtime: 0.60 s \n",
            "  pipeline: LinearSVC_tfidf_stem            | train | eval | accuracy: 0.57 | f1score: 0.57 | runtime: 1.61 s \n",
            "  pipeline: LinearSVC_count_lemma           | train | eval | accuracy: 0.49 | f1score: 0.49 | runtime: 0.59 s \n",
            "  pipeline: LinearSVC_count_stem            | train | eval | accuracy: 0.51 | f1score: 0.51 | runtime: 1.60 s \n",
            "  pipeline: LogisticRegression_tfidf_lemma  | train | eval | accuracy: 0.46 | f1score: 0.46 | runtime: 1.10 s \n",
            "  pipeline: LogisticRegression_tfidf_stem   | train | eval | accuracy: 0.51 | f1score: 0.51 | runtime: 2.05 s \n",
            "  pipeline: LogisticRegression_count_lemma  | train | eval | accuracy: 0.49 | f1score: 0.49 | runtime: 1.14 s \n",
            "  pipeline: LogisticRegression_count_stem   | train | eval | accuracy: 0.51 | f1score: 0.51 | runtime: 2.32 s \n",
            "  pipeline: MLP_tfidf_lemma                 | train | eval | accuracy: 0.46 | f1score: 0.46 | runtime: 12.44 s \n",
            "  pipeline: MLP_tfidf_stem                  | train | eval | accuracy: 0.51 | f1score: 0.51 | runtime: 12.02 s \n",
            "  pipeline: MLP_count_lemma                 | train | eval | accuracy: 0.43 | f1score: 0.43 | runtime: 7.29 s \n",
            "  pipeline: MLP_count_stem                  | train | eval | accuracy: 0.49 | f1score: 0.49 | runtime: 7.49 s \n",
            "  fold runtime: 1.09 m \n",
            "  remaining runtime: 8.69 m \n",
            "\n",
            "FOLD 3________________________\n",
            "  pipeline: RandomForest_tfidf_lemma        | train | eval | accuracy: 0.54 | f1score: 0.54 | runtime: 0.97 s \n",
            "  pipeline: RandomForest_tfidf_stem         | train | eval | accuracy: 0.51 | f1score: 0.51 | runtime: 1.98 s \n",
            "  pipeline: RandomForest_count_lemma        | train | eval | accuracy: 0.54 | f1score: 0.54 | runtime: 0.98 s \n",
            "  pipeline: RandomForest_count_stem         | train | eval | accuracy: 0.54 | f1score: 0.54 | runtime: 1.91 s \n",
            "  pipeline: MultinomialNB_tfidf_lemma       | train | eval | accuracy: 0.49 | f1score: 0.49 | runtime: 0.60 s \n",
            "  pipeline: MultinomialNB_tfidf_stem        | train | eval | accuracy: 0.49 | f1score: 0.49 | runtime: 1.59 s \n",
            "  pipeline: MultinomialNB_count_lemma       | train | eval | accuracy: 0.57 | f1score: 0.57 | runtime: 0.59 s \n",
            "  pipeline: MultinomialNB_count_stem        | train | eval | accuracy: 0.68 | f1score: 0.68 | runtime: 1.58 s \n",
            "  pipeline: GaussianNB_tfidf_lemma          | train | eval | accuracy: 0.51 | f1score: 0.51 | runtime: 0.64 s \n",
            "  pipeline: GaussianNB_tfidf_stem           | train | eval | accuracy: 0.49 | f1score: 0.49 | runtime: 1.63 s \n",
            "  pipeline: GaussianNB_count_lemma          | train | eval | accuracy: 0.54 | f1score: 0.54 | runtime: 0.67 s \n",
            "  pipeline: GaussianNB_count_stem           | train | eval | accuracy: 0.49 | f1score: 0.49 | runtime: 1.64 s \n",
            "  pipeline: LinearSVC_tfidf_lemma           | train | eval | accuracy: 0.78 | f1score: 0.78 | runtime: 0.60 s \n",
            "  pipeline: LinearSVC_tfidf_stem            | train | eval | accuracy: 0.81 | f1score: 0.81 | runtime: 1.60 s \n",
            "  pipeline: LinearSVC_count_lemma           | train | eval | accuracy: 0.62 | f1score: 0.62 | runtime: 0.60 s \n",
            "  pipeline: LinearSVC_count_stem            | train | eval | accuracy: 0.62 | f1score: 0.62 | runtime: 1.60 s \n",
            "  pipeline: LogisticRegression_tfidf_lemma  | train | eval | accuracy: 0.65 | f1score: 0.65 | runtime: 1.14 s \n",
            "  pipeline: LogisticRegression_tfidf_stem   | train | eval | accuracy: 0.68 | f1score: 0.68 | runtime: 2.10 s \n",
            "  pipeline: LogisticRegression_count_lemma  | train | eval | accuracy: 0.62 | f1score: 0.62 | runtime: 1.20 s \n",
            "  pipeline: LogisticRegression_count_stem   | train | eval | accuracy: 0.65 | f1score: 0.65 | runtime: 2.24 s \n",
            "  pipeline: MLP_tfidf_lemma                 | train | eval | accuracy: 0.78 | f1score: 0.78 | runtime: 11.86 s \n",
            "  pipeline: MLP_tfidf_stem                  | train | eval | accuracy: 0.81 | f1score: 0.81 | runtime: 11.86 s \n",
            "  pipeline: MLP_count_lemma                 | train | eval | accuracy: 0.76 | f1score: 0.76 | runtime: 7.54 s \n",
            "  pipeline: MLP_count_stem                  | train | eval | accuracy: 0.76 | f1score: 0.76 | runtime: 7.55 s \n",
            "  fold runtime: 1.08 m \n",
            "  remaining runtime: 7.56 m \n",
            "\n",
            "FOLD 4________________________\n",
            "  pipeline: RandomForest_tfidf_lemma        | train | eval | accuracy: 0.51 | f1score: 0.51 | runtime: 0.95 s \n",
            "  pipeline: RandomForest_tfidf_stem         | train | eval | accuracy: 0.59 | f1score: 0.59 | runtime: 1.97 s \n",
            "  pipeline: RandomForest_count_lemma        | train | eval | accuracy: 0.51 | f1score: 0.51 | runtime: 0.97 s \n",
            "  pipeline: RandomForest_count_stem         | train | eval | accuracy: 0.57 | f1score: 0.57 | runtime: 1.93 s \n",
            "  pipeline: MultinomialNB_tfidf_lemma       | train | eval | accuracy: 0.35 | f1score: 0.35 | runtime: 0.59 s \n",
            "  pipeline: MultinomialNB_tfidf_stem        | train | eval | accuracy: 0.38 | f1score: 0.38 | runtime: 1.59 s \n",
            "  pipeline: MultinomialNB_count_lemma       | train | eval | accuracy: 0.54 | f1score: 0.54 | runtime: 0.59 s \n",
            "  pipeline: MultinomialNB_count_stem        | train | eval | accuracy: 0.57 | f1score: 0.57 | runtime: 1.59 s \n",
            "  pipeline: GaussianNB_tfidf_lemma          | train | eval | accuracy: 0.54 | f1score: 0.54 | runtime: 0.64 s \n",
            "  pipeline: GaussianNB_tfidf_stem           | train | eval | accuracy: 0.57 | f1score: 0.57 | runtime: 1.63 s \n",
            "  pipeline: GaussianNB_count_lemma          | train | eval | accuracy: 0.54 | f1score: 0.54 | runtime: 0.67 s \n",
            "  pipeline: GaussianNB_count_stem           | train | eval | accuracy: 0.54 | f1score: 0.54 | runtime: 1.64 s \n",
            "  pipeline: LinearSVC_tfidf_lemma           | train | eval | accuracy: 0.70 | f1score: 0.70 | runtime: 0.60 s \n",
            "  pipeline: LinearSVC_tfidf_stem            | train | eval | accuracy: 0.73 | f1score: 0.73 | runtime: 1.61 s \n",
            "  pipeline: LinearSVC_count_lemma           | train | eval | accuracy: 0.70 | f1score: 0.70 | runtime: 0.60 s \n",
            "  pipeline: LinearSVC_count_stem            | train | eval | accuracy: 0.73 | f1score: 0.73 | runtime: 1.59 s \n",
            "  pipeline: LogisticRegression_tfidf_lemma  | train | eval | accuracy: 0.49 | f1score: 0.49 | runtime: 1.09 s \n",
            "  pipeline: LogisticRegression_tfidf_stem   | train | eval | accuracy: 0.51 | f1score: 0.51 | runtime: 1.99 s \n",
            "  pipeline: LogisticRegression_count_lemma  | train | eval | accuracy: 0.70 | f1score: 0.70 | runtime: 1.23 s \n",
            "  pipeline: LogisticRegression_count_stem   | train | eval | accuracy: 0.73 | f1score: 0.73 | runtime: 2.28 s \n",
            "  pipeline: MLP_tfidf_lemma                 | train | eval | accuracy: 0.68 | f1score: 0.68 | runtime: 12.14 s \n",
            "  pipeline: MLP_tfidf_stem                  | train | eval | accuracy: 0.65 | f1score: 0.65 | runtime: 11.48 s \n",
            "  pipeline: MLP_count_lemma                 | train | eval | accuracy: 0.68 | f1score: 0.68 | runtime: 7.25 s \n",
            "  pipeline: MLP_count_stem                  | train | eval | accuracy: 0.62 | f1score: 0.62 | runtime: 7.64 s \n",
            "  fold runtime: 1.07 m \n",
            "  remaining runtime: 6.44 m \n",
            "\n",
            "FOLD 5________________________\n",
            "  pipeline: RandomForest_tfidf_lemma        | train | eval | accuracy: 0.51 | f1score: 0.51 | runtime: 0.94 s \n",
            "  pipeline: RandomForest_tfidf_stem         | train | eval | accuracy: 0.68 | f1score: 0.68 | runtime: 1.93 s \n",
            "  pipeline: RandomForest_count_lemma        | train | eval | accuracy: 0.59 | f1score: 0.59 | runtime: 0.96 s \n",
            "  pipeline: RandomForest_count_stem         | train | eval | accuracy: 0.62 | f1score: 0.62 | runtime: 1.93 s \n",
            "  pipeline: MultinomialNB_tfidf_lemma       | train | eval | accuracy: 0.49 | f1score: 0.49 | runtime: 0.60 s \n",
            "  pipeline: MultinomialNB_tfidf_stem        | train | eval | accuracy: 0.51 | f1score: 0.51 | runtime: 1.60 s \n",
            "  pipeline: MultinomialNB_count_lemma       | train | eval | accuracy: 0.54 | f1score: 0.54 | runtime: 0.58 s \n",
            "  pipeline: MultinomialNB_count_stem        | train | eval | accuracy: 0.57 | f1score: 0.57 | runtime: 1.58 s \n",
            "  pipeline: GaussianNB_tfidf_lemma          | train | eval | accuracy: 0.51 | f1score: 0.51 | runtime: 0.63 s \n",
            "  pipeline: GaussianNB_tfidf_stem           | train | eval | accuracy: 0.51 | f1score: 0.51 | runtime: 1.65 s \n",
            "  pipeline: GaussianNB_count_lemma          | train | eval | accuracy: 0.51 | f1score: 0.51 | runtime: 0.67 s \n",
            "  pipeline: GaussianNB_count_stem           | train | eval | accuracy: 0.51 | f1score: 0.51 | runtime: 1.64 s \n",
            "  pipeline: LinearSVC_tfidf_lemma           | train | eval | accuracy: 0.68 | f1score: 0.68 | runtime: 0.60 s \n",
            "  pipeline: LinearSVC_tfidf_stem            | train | eval | accuracy: 0.68 | f1score: 0.68 | runtime: 1.61 s \n",
            "  pipeline: LinearSVC_count_lemma           | train | eval | accuracy: 0.68 | f1score: 0.68 | runtime: 0.58 s \n",
            "  pipeline: LinearSVC_count_stem            | train | eval | accuracy: 0.65 | f1score: 0.65 | runtime: 1.60 s \n",
            "  pipeline: LogisticRegression_tfidf_lemma  | train | eval | accuracy: 0.54 | f1score: 0.54 | runtime: 1.04 s \n",
            "  pipeline: LogisticRegression_tfidf_stem   | train | eval | accuracy: 0.62 | f1score: 0.62 | runtime: 1.93 s \n",
            "  pipeline: LogisticRegression_count_lemma  | train | eval | accuracy: 0.70 | f1score: 0.70 | runtime: 1.24 s \n",
            "  pipeline: LogisticRegression_count_stem   | train | eval | accuracy: 0.70 | f1score: 0.70 | runtime: 2.27 s \n",
            "  pipeline: MLP_tfidf_lemma                 | train | eval | accuracy: 0.70 | f1score: 0.70 | runtime: 12.51 s \n",
            "  pipeline: MLP_tfidf_stem                  | train | eval | accuracy: 0.65 | f1score: 0.65 | runtime: 11.96 s \n",
            "  pipeline: MLP_count_lemma                 | train | eval | accuracy: 0.68 | f1score: 0.68 | runtime: 7.55 s \n",
            "  pipeline: MLP_count_stem                  | train | eval | accuracy: 0.70 | f1score: 0.70 | runtime: 7.85 s \n",
            "  fold runtime: 1.09 m \n",
            "  remaining runtime: 5.47 m \n",
            "\n",
            "FOLD 6________________________\n",
            "  pipeline: RandomForest_tfidf_lemma        | train | eval | accuracy: 0.65 | f1score: 0.65 | runtime: 0.98 s \n",
            "  pipeline: RandomForest_tfidf_stem         | train | eval | accuracy: 0.68 | f1score: 0.68 | runtime: 1.93 s \n",
            "  pipeline: RandomForest_count_lemma        | train | eval | accuracy: 0.62 | f1score: 0.62 | runtime: 0.96 s \n",
            "  pipeline: RandomForest_count_stem         | train | eval | accuracy: 0.65 | f1score: 0.65 | runtime: 1.95 s \n",
            "  pipeline: MultinomialNB_tfidf_lemma       | train | eval | accuracy: 0.41 | f1score: 0.41 | runtime: 0.62 s \n",
            "  pipeline: MultinomialNB_tfidf_stem        | train | eval | accuracy: 0.38 | f1score: 0.38 | runtime: 1.63 s \n",
            "  pipeline: MultinomialNB_count_lemma       | train | eval | accuracy: 0.49 | f1score: 0.49 | runtime: 0.60 s \n",
            "  pipeline: MultinomialNB_count_stem        | train | eval | accuracy: 0.49 | f1score: 0.49 | runtime: 1.60 s \n",
            "  pipeline: GaussianNB_tfidf_lemma          | train | eval | accuracy: 0.43 | f1score: 0.43 | runtime: 0.65 s \n",
            "  pipeline: GaussianNB_tfidf_stem           | train | eval | accuracy: 0.43 | f1score: 0.43 | runtime: 1.65 s \n",
            "  pipeline: GaussianNB_count_lemma          | train | eval | accuracy: 0.46 | f1score: 0.46 | runtime: 0.65 s \n",
            "  pipeline: GaussianNB_count_stem           | train | eval | accuracy: 0.43 | f1score: 0.43 | runtime: 1.66 s \n",
            "  pipeline: LinearSVC_tfidf_lemma           | train | eval | accuracy: 0.73 | f1score: 0.73 | runtime: 0.61 s \n",
            "  pipeline: LinearSVC_tfidf_stem            | train | eval | accuracy: 0.70 | f1score: 0.70 | runtime: 1.60 s \n",
            "  pipeline: LinearSVC_count_lemma           | train | eval | accuracy: 0.65 | f1score: 0.65 | runtime: 0.60 s \n",
            "  pipeline: LinearSVC_count_stem            | train | eval | accuracy: 0.68 | f1score: 0.68 | runtime: 1.60 s \n",
            "  pipeline: LogisticRegression_tfidf_lemma  | train | eval | accuracy: 0.51 | f1score: 0.51 | runtime: 1.10 s \n",
            "  pipeline: LogisticRegression_tfidf_stem   | train | eval | accuracy: 0.51 | f1score: 0.51 | runtime: 1.93 s \n",
            "  pipeline: LogisticRegression_count_lemma  | train | eval | accuracy: 0.70 | f1score: 0.70 | runtime: 1.12 s \n",
            "  pipeline: LogisticRegression_count_stem   | train | eval | accuracy: 0.70 | f1score: 0.70 | runtime: 2.13 s \n",
            "  pipeline: MLP_tfidf_lemma                 | train | eval | accuracy: 0.68 | f1score: 0.68 | runtime: 12.94 s \n",
            "  pipeline: MLP_tfidf_stem                  | train | eval | accuracy: 0.73 | f1score: 0.73 | runtime: 11.92 s \n",
            "  pipeline: MLP_count_lemma                 | train | eval | accuracy: 0.73 | f1score: 0.73 | runtime: 8.03 s \n",
            "  pipeline: MLP_count_stem                  | train | eval | accuracy: 0.78 | f1score: 0.78 | runtime: 8.14 s \n",
            "  fold runtime: 1.11 m \n",
            "  remaining runtime: 4.45 m \n",
            "\n",
            "FOLD 7________________________\n",
            "  pipeline: RandomForest_tfidf_lemma        | train | eval | accuracy: 0.54 | f1score: 0.54 | runtime: 0.97 s \n",
            "  pipeline: RandomForest_tfidf_stem         | train | eval | accuracy: 0.46 | f1score: 0.46 | runtime: 1.94 s \n",
            "  pipeline: RandomForest_count_lemma        | train | eval | accuracy: 0.38 | f1score: 0.38 | runtime: 0.95 s \n",
            "  pipeline: RandomForest_count_stem         | train | eval | accuracy: 0.43 | f1score: 0.43 | runtime: 1.93 s \n",
            "  pipeline: MultinomialNB_tfidf_lemma       | train | eval | accuracy: 0.35 | f1score: 0.35 | runtime: 0.60 s \n",
            "  pipeline: MultinomialNB_tfidf_stem        | train | eval | accuracy: 0.35 | f1score: 0.35 | runtime: 1.60 s \n",
            "  pipeline: MultinomialNB_count_lemma       | train | eval | accuracy: 0.59 | f1score: 0.59 | runtime: 0.58 s \n",
            "  pipeline: MultinomialNB_count_stem        | train | eval | accuracy: 0.68 | f1score: 0.68 | runtime: 1.59 s \n",
            "  pipeline: GaussianNB_tfidf_lemma          | train | eval | accuracy: 0.54 | f1score: 0.54 | runtime: 0.64 s \n",
            "  pipeline: GaussianNB_tfidf_stem           | train | eval | accuracy: 0.57 | f1score: 0.57 | runtime: 1.64 s \n",
            "  pipeline: GaussianNB_count_lemma          | train | eval | accuracy: 0.57 | f1score: 0.57 | runtime: 0.63 s \n",
            "  pipeline: GaussianNB_count_stem           | train | eval | accuracy: 0.59 | f1score: 0.59 | runtime: 1.64 s \n",
            "  pipeline: LinearSVC_tfidf_lemma           | train | eval | accuracy: 0.62 | f1score: 0.62 | runtime: 0.60 s \n",
            "  pipeline: LinearSVC_tfidf_stem            | train | eval | accuracy: 0.65 | f1score: 0.65 | runtime: 1.62 s \n",
            "  pipeline: LinearSVC_count_lemma           | train | eval | accuracy: 0.51 | f1score: 0.51 | runtime: 0.58 s \n",
            "  pipeline: LinearSVC_count_stem            | train | eval | accuracy: 0.49 | f1score: 0.49 | runtime: 1.58 s \n",
            "  pipeline: LogisticRegression_tfidf_lemma  | train | eval | accuracy: 0.59 | f1score: 0.59 | runtime: 1.20 s \n",
            "  pipeline: LogisticRegression_tfidf_stem   | train | eval | accuracy: 0.57 | f1score: 0.57 | runtime: 2.03 s \n",
            "  pipeline: LogisticRegression_count_lemma  | train | eval | accuracy: 0.51 | f1score: 0.51 | runtime: 1.17 s \n",
            "  pipeline: LogisticRegression_count_stem   | train | eval | accuracy: 0.51 | f1score: 0.51 | runtime: 2.19 s \n",
            "  pipeline: MLP_tfidf_lemma                 | train | eval | accuracy: 0.68 | f1score: 0.68 | runtime: 12.69 s \n",
            "  pipeline: MLP_tfidf_stem                  | train | eval | accuracy: 0.62 | f1score: 0.62 | runtime: 11.78 s \n",
            "  pipeline: MLP_count_lemma                 | train | eval | accuracy: 0.59 | f1score: 0.59 | runtime: 7.59 s \n",
            "  pipeline: MLP_count_stem                  | train | eval | accuracy: 0.54 | f1score: 0.54 | runtime: 7.91 s \n",
            "  fold runtime: 1.10 m \n",
            "  remaining runtime: 3.29 m \n",
            "\n",
            "FOLD 8________________________\n",
            "  pipeline: RandomForest_tfidf_lemma        | train | eval | accuracy: 0.51 | f1score: 0.51 | runtime: 0.96 s \n",
            "  pipeline: RandomForest_tfidf_stem         | train | eval | accuracy: 0.49 | f1score: 0.49 | runtime: 1.94 s \n",
            "  pipeline: RandomForest_count_lemma        | train | eval | accuracy: 0.43 | f1score: 0.43 | runtime: 0.94 s \n",
            "  pipeline: RandomForest_count_stem         | train | eval | accuracy: 0.46 | f1score: 0.46 | runtime: 1.95 s \n",
            "  pipeline: MultinomialNB_tfidf_lemma       | train | eval | accuracy: 0.41 | f1score: 0.41 | runtime: 0.61 s \n",
            "  pipeline: MultinomialNB_tfidf_stem        | train | eval | accuracy: 0.41 | f1score: 0.41 | runtime: 1.60 s \n",
            "  pipeline: MultinomialNB_count_lemma       | train | eval | accuracy: 0.59 | f1score: 0.59 | runtime: 0.58 s \n",
            "  pipeline: MultinomialNB_count_stem        | train | eval | accuracy: 0.59 | f1score: 0.59 | runtime: 1.59 s \n",
            "  pipeline: GaussianNB_tfidf_lemma          | train | eval | accuracy: 0.54 | f1score: 0.54 | runtime: 0.65 s \n",
            "  pipeline: GaussianNB_tfidf_stem           | train | eval | accuracy: 0.49 | f1score: 0.49 | runtime: 1.64 s \n",
            "  pipeline: GaussianNB_count_lemma          | train | eval | accuracy: 0.57 | f1score: 0.57 | runtime: 0.65 s \n",
            "  pipeline: GaussianNB_count_stem           | train | eval | accuracy: 0.49 | f1score: 0.49 | runtime: 1.65 s \n",
            "  pipeline: LinearSVC_tfidf_lemma           | train | eval | accuracy: 0.59 | f1score: 0.59 | runtime: 0.63 s \n",
            "  pipeline: LinearSVC_tfidf_stem            | train | eval | accuracy: 0.62 | f1score: 0.62 | runtime: 1.62 s \n",
            "  pipeline: LinearSVC_count_lemma           | train | eval | accuracy: 0.57 | f1score: 0.57 | runtime: 0.60 s \n",
            "  pipeline: LinearSVC_count_stem            | train | eval | accuracy: 0.49 | f1score: 0.49 | runtime: 1.59 s \n",
            "  pipeline: LogisticRegression_tfidf_lemma  | train | eval | accuracy: 0.49 | f1score: 0.49 | runtime: 1.08 s \n",
            "  pipeline: LogisticRegression_tfidf_stem   | train | eval | accuracy: 0.46 | f1score: 0.46 | runtime: 2.14 s \n",
            "  pipeline: LogisticRegression_count_lemma  | train | eval | accuracy: 0.54 | f1score: 0.54 | runtime: 1.14 s \n",
            "  pipeline: LogisticRegression_count_stem   | train | eval | accuracy: 0.54 | f1score: 0.54 | runtime: 2.30 s \n",
            "  pipeline: MLP_tfidf_lemma                 | train | eval | accuracy: 0.54 | f1score: 0.54 | runtime: 13.16 s \n",
            "  pipeline: MLP_tfidf_stem                  | train | eval | accuracy: 0.59 | f1score: 0.59 | runtime: 12.26 s \n",
            "  pipeline: MLP_count_lemma                 | train | eval | accuracy: 0.59 | f1score: 0.59 | runtime: 8.32 s \n",
            "  pipeline: MLP_count_stem                  | train | eval | accuracy: 0.59 | f1score: 0.59 | runtime: 7.96 s \n",
            "  fold runtime: 1.13 m \n",
            "  remaining runtime: 2.26 m \n",
            "\n",
            "FOLD 9________________________\n",
            "  pipeline: RandomForest_tfidf_lemma        | train | eval | accuracy: 0.57 | f1score: 0.57 | runtime: 0.94 s \n",
            "  pipeline: RandomForest_tfidf_stem         | train | eval | accuracy: 0.59 | f1score: 0.59 | runtime: 1.94 s \n",
            "  pipeline: RandomForest_count_lemma        | train | eval | accuracy: 0.54 | f1score: 0.54 | runtime: 0.96 s \n",
            "  pipeline: RandomForest_count_stem         | train | eval | accuracy: 0.57 | f1score: 0.57 | runtime: 1.93 s \n",
            "  pipeline: MultinomialNB_tfidf_lemma       | train | eval | accuracy: 0.35 | f1score: 0.35 | runtime: 0.60 s \n",
            "  pipeline: MultinomialNB_tfidf_stem        | train | eval | accuracy: 0.35 | f1score: 0.35 | runtime: 1.60 s \n",
            "  pipeline: MultinomialNB_count_lemma       | train | eval | accuracy: 0.59 | f1score: 0.59 | runtime: 0.58 s \n",
            "  pipeline: MultinomialNB_count_stem        | train | eval | accuracy: 0.62 | f1score: 0.62 | runtime: 1.57 s \n",
            "  pipeline: GaussianNB_tfidf_lemma          | train | eval | accuracy: 0.49 | f1score: 0.49 | runtime: 0.62 s \n",
            "  pipeline: GaussianNB_tfidf_stem           | train | eval | accuracy: 0.51 | f1score: 0.51 | runtime: 1.62 s \n",
            "  pipeline: GaussianNB_count_lemma          | train | eval | accuracy: 0.46 | f1score: 0.46 | runtime: 0.65 s \n",
            "  pipeline: GaussianNB_count_stem           | train | eval | accuracy: 0.49 | f1score: 0.49 | runtime: 1.64 s \n",
            "  pipeline: LinearSVC_tfidf_lemma           | train | eval | accuracy: 0.84 | f1score: 0.84 | runtime: 0.61 s \n",
            "  pipeline: LinearSVC_tfidf_stem            | train | eval | accuracy: 0.86 | f1score: 0.86 | runtime: 1.64 s \n",
            "  pipeline: LinearSVC_count_lemma           | train | eval | accuracy: 0.62 | f1score: 0.62 | runtime: 0.61 s \n",
            "  pipeline: LinearSVC_count_stem            | train | eval | accuracy: 0.68 | f1score: 0.68 | runtime: 1.63 s \n",
            "  pipeline: LogisticRegression_tfidf_lemma  | train | eval | accuracy: 0.59 | f1score: 0.59 | runtime: 1.11 s \n",
            "  pipeline: LogisticRegression_tfidf_stem   | train | eval | accuracy: 0.68 | f1score: 0.68 | runtime: 1.97 s \n",
            "  pipeline: LogisticRegression_count_lemma  | train | eval | accuracy: 0.62 | f1score: 0.62 | runtime: 1.40 s \n",
            "  pipeline: LogisticRegression_count_stem   | train | eval | accuracy: 0.73 | f1score: 0.73 | runtime: 2.25 s \n",
            "  pipeline: MLP_tfidf_lemma                 | train | eval | accuracy: 0.68 | f1score: 0.68 | runtime: 11.26 s \n",
            "  pipeline: MLP_tfidf_stem                  | train | eval | accuracy: 0.81 | f1score: 0.81 | runtime: 11.22 s \n",
            "  pipeline: MLP_count_lemma                 | train | eval | accuracy: 0.65 | f1score: 0.65 | runtime: 6.94 s \n",
            "  pipeline: MLP_count_stem                  | train | eval | accuracy: 0.76 | f1score: 0.76 | runtime: 7.39 s \n",
            "  fold runtime: 1.05 m \n",
            "  remaining runtime: 1.05 m \n",
            "\n",
            "FOLD 10________________________\n",
            "  pipeline: RandomForest_tfidf_lemma        | train | eval | accuracy: 0.62 | f1score: 0.62 | runtime: 0.97 s \n",
            "  pipeline: RandomForest_tfidf_stem         | train | eval | accuracy: 0.68 | f1score: 0.68 | runtime: 1.99 s \n",
            "  pipeline: RandomForest_count_lemma        | train | eval | accuracy: 0.62 | f1score: 0.62 | runtime: 0.98 s \n",
            "  pipeline: RandomForest_count_stem         | train | eval | accuracy: 0.65 | f1score: 0.65 | runtime: 2.01 s \n",
            "  pipeline: MultinomialNB_tfidf_lemma       | train | eval | accuracy: 0.51 | f1score: 0.51 | runtime: 0.59 s \n",
            "  pipeline: MultinomialNB_tfidf_stem        | train | eval | accuracy: 0.54 | f1score: 0.54 | runtime: 1.62 s \n",
            "  pipeline: MultinomialNB_count_lemma       | train | eval | accuracy: 0.68 | f1score: 0.68 | runtime: 0.59 s \n",
            "  pipeline: MultinomialNB_count_stem        | train | eval | accuracy: 0.65 | f1score: 0.65 | runtime: 1.65 s \n",
            "  pipeline: GaussianNB_tfidf_lemma          | train | eval | accuracy: 0.62 | f1score: 0.62 | runtime: 0.68 s \n",
            "  pipeline: GaussianNB_tfidf_stem           | train | eval | accuracy: 0.57 | f1score: 0.57 | runtime: 1.70 s \n",
            "  pipeline: GaussianNB_count_lemma          | train | eval | accuracy: 0.62 | f1score: 0.62 | runtime: 0.69 s \n",
            "  pipeline: GaussianNB_count_stem           | train | eval | accuracy: 0.57 | f1score: 0.57 | runtime: 1.72 s \n",
            "  pipeline: LinearSVC_tfidf_lemma           | train | eval | accuracy: 0.73 | f1score: 0.73 | runtime: 0.64 s \n",
            "  pipeline: LinearSVC_tfidf_stem            | train | eval | accuracy: 0.73 | f1score: 0.73 | runtime: 1.63 s \n",
            "  pipeline: LinearSVC_count_lemma           | train | eval | accuracy: 0.78 | f1score: 0.78 | runtime: 0.63 s \n",
            "  pipeline: LinearSVC_count_stem            | train | eval | accuracy: 0.78 | f1score: 0.78 | runtime: 1.65 s \n",
            "  pipeline: LogisticRegression_tfidf_lemma  | train | eval | accuracy: 0.65 | f1score: 0.65 | runtime: 1.15 s \n",
            "  pipeline: LogisticRegression_tfidf_stem   | train | eval | accuracy: 0.62 | f1score: 0.62 | runtime: 1.98 s \n",
            "  pipeline: LogisticRegression_count_lemma  | train | eval | accuracy: 0.78 | f1score: 0.78 | runtime: 1.26 s \n",
            "  pipeline: LogisticRegression_count_stem   | train | eval | accuracy: 0.81 | f1score: 0.81 | runtime: 2.31 s \n",
            "  pipeline: MLP_tfidf_lemma                 | train | eval | accuracy: 0.73 | f1score: 0.73 | runtime: 12.54 s \n",
            "  pipeline: MLP_tfidf_stem                  | train | eval | accuracy: 0.68 | f1score: 0.68 | runtime: 12.08 s \n",
            "  pipeline: MLP_count_lemma                 | train | eval | accuracy: 0.70 | f1score: 0.70 | runtime: 7.90 s \n",
            "  pipeline: MLP_count_stem                  | train | eval | accuracy: 0.65 | f1score: 0.65 | runtime: 8.09 s \n",
            "  fold runtime: 1.12 m \n",
            "  remaining runtime: 0.00 m \n"
          ]
        }
      ]
    },
    {
      "cell_type": "markdown",
      "metadata": {
        "id": "vzS24PgZWQMp"
      },
      "source": [
        "## 2.5 Resultados"
      ]
    },
    {
      "cell_type": "code",
      "metadata": {
        "id": "tCmdfhNo4GF9"
      },
      "source": [
        "#results"
      ],
      "execution_count": 45,
      "outputs": []
    },
    {
      "cell_type": "code",
      "metadata": {
        "colab": {
          "base_uri": "https://localhost:8080/",
          "height": 143
        },
        "id": "RdYFZWYWU7JR",
        "outputId": "d0f77c03-589c-4891-8be9-8c39d1b5d8ad"
      },
      "source": [
        "# Lendo dicionários como dataframe\n",
        "resultsDF = pd.DataFrame.from_dict(results, orient='index')\n",
        "resultsDF.sample(3)"
      ],
      "execution_count": 46,
      "outputs": [
        {
          "output_type": "execute_result",
          "data": {
            "text/html": [
              "<div>\n",
              "<style scoped>\n",
              "    .dataframe tbody tr th:only-of-type {\n",
              "        vertical-align: middle;\n",
              "    }\n",
              "\n",
              "    .dataframe tbody tr th {\n",
              "        vertical-align: top;\n",
              "    }\n",
              "\n",
              "    .dataframe thead th {\n",
              "        text-align: right;\n",
              "    }\n",
              "</style>\n",
              "<table border=\"1\" class=\"dataframe\">\n",
              "  <thead>\n",
              "    <tr style=\"text-align: right;\">\n",
              "      <th></th>\n",
              "      <th>accuracy</th>\n",
              "      <th>f1score</th>\n",
              "      <th>runtime</th>\n",
              "    </tr>\n",
              "  </thead>\n",
              "  <tbody>\n",
              "    <tr>\n",
              "      <th>LinearSVC_count_stem</th>\n",
              "      <td>[0.6756756756756757, 0.5135135135135135, 0.621...</td>\n",
              "      <td>[0.6756756756756757, 0.5135135135135135, 0.621...</td>\n",
              "      <td>1.647079</td>\n",
              "    </tr>\n",
              "    <tr>\n",
              "      <th>LogisticRegression_count_stem</th>\n",
              "      <td>[0.6756756756756757, 0.5135135135135135, 0.648...</td>\n",
              "      <td>[0.6756756756756757, 0.5135135135135135, 0.648...</td>\n",
              "      <td>2.311773</td>\n",
              "    </tr>\n",
              "    <tr>\n",
              "      <th>RandomForest_tfidf_stem</th>\n",
              "      <td>[0.6756756756756757, 0.4594594594594595, 0.513...</td>\n",
              "      <td>[0.6756756756756757, 0.4594594594594595, 0.513...</td>\n",
              "      <td>1.991210</td>\n",
              "    </tr>\n",
              "  </tbody>\n",
              "</table>\n",
              "</div>"
            ],
            "text/plain": [
              "                                                                        accuracy  ...   runtime\n",
              "LinearSVC_count_stem           [0.6756756756756757, 0.5135135135135135, 0.621...  ...  1.647079\n",
              "LogisticRegression_count_stem  [0.6756756756756757, 0.5135135135135135, 0.648...  ...  2.311773\n",
              "RandomForest_tfidf_stem        [0.6756756756756757, 0.4594594594594595, 0.513...  ...  1.991210\n",
              "\n",
              "[3 rows x 3 columns]"
            ]
          },
          "metadata": {},
          "execution_count": 46
        }
      ]
    },
    {
      "cell_type": "code",
      "metadata": {
        "colab": {
          "base_uri": "https://localhost:8080/",
          "height": 268
        },
        "id": "l02ZZjUX3zSX",
        "outputId": "51d10573-24ee-4b48-c03d-3607d0603322"
      },
      "source": [
        "# Calculando métricas dos folds\n",
        "resultsDF['acc_mean'] = resultsDF.accuracy.apply(np.mean)\n",
        "resultsDF['acc_min'] = resultsDF.accuracy.apply(np.min)\n",
        "resultsDF['acc_max'] = resultsDF.accuracy.apply(np.max)\n",
        "resultsDF['acc_std'] = resultsDF.accuracy.apply(np.std)\n",
        "\n",
        "resultsDF['f1_mean'] = resultsDF.f1score.apply(np.mean)\n",
        "resultsDF['f1_min'] = resultsDF.f1score.apply(np.min)\n",
        "resultsDF['f1_max'] = resultsDF.f1score.apply(np.max)\n",
        "resultsDF['f1_std'] = resultsDF.f1score.apply(np.std)\n",
        "resultsDF.sample(3)"
      ],
      "execution_count": 47,
      "outputs": [
        {
          "output_type": "execute_result",
          "data": {
            "text/html": [
              "<div>\n",
              "<style scoped>\n",
              "    .dataframe tbody tr th:only-of-type {\n",
              "        vertical-align: middle;\n",
              "    }\n",
              "\n",
              "    .dataframe tbody tr th {\n",
              "        vertical-align: top;\n",
              "    }\n",
              "\n",
              "    .dataframe thead th {\n",
              "        text-align: right;\n",
              "    }\n",
              "</style>\n",
              "<table border=\"1\" class=\"dataframe\">\n",
              "  <thead>\n",
              "    <tr style=\"text-align: right;\">\n",
              "      <th></th>\n",
              "      <th>accuracy</th>\n",
              "      <th>f1score</th>\n",
              "      <th>runtime</th>\n",
              "      <th>acc_mean</th>\n",
              "      <th>acc_min</th>\n",
              "      <th>acc_max</th>\n",
              "      <th>acc_std</th>\n",
              "      <th>f1_mean</th>\n",
              "      <th>f1_min</th>\n",
              "      <th>f1_max</th>\n",
              "      <th>f1_std</th>\n",
              "    </tr>\n",
              "  </thead>\n",
              "  <tbody>\n",
              "    <tr>\n",
              "      <th>LogisticRegression_count_stem</th>\n",
              "      <td>[0.6756756756756757, 0.5135135135135135, 0.648...</td>\n",
              "      <td>[0.6756756756756757, 0.5135135135135135, 0.648...</td>\n",
              "      <td>2.311773</td>\n",
              "      <td>0.656757</td>\n",
              "      <td>0.513514</td>\n",
              "      <td>0.810811</td>\n",
              "      <td>0.096733</td>\n",
              "      <td>0.656757</td>\n",
              "      <td>0.513514</td>\n",
              "      <td>0.810811</td>\n",
              "      <td>0.096733</td>\n",
              "    </tr>\n",
              "    <tr>\n",
              "      <th>LinearSVC_tfidf_stem</th>\n",
              "      <td>[0.7567567567567568, 0.5675675675675675, 0.810...</td>\n",
              "      <td>[0.7567567567567567, 0.5675675675675675, 0.810...</td>\n",
              "      <td>1.629116</td>\n",
              "      <td>0.710811</td>\n",
              "      <td>0.567568</td>\n",
              "      <td>0.864865</td>\n",
              "      <td>0.083784</td>\n",
              "      <td>0.710811</td>\n",
              "      <td>0.567568</td>\n",
              "      <td>0.864865</td>\n",
              "      <td>0.083784</td>\n",
              "    </tr>\n",
              "    <tr>\n",
              "      <th>LogisticRegression_tfidf_stem</th>\n",
              "      <td>[0.6486486486486487, 0.5135135135135135, 0.675...</td>\n",
              "      <td>[0.6486486486486487, 0.5135135135135135, 0.675...</td>\n",
              "      <td>1.983589</td>\n",
              "      <td>0.581081</td>\n",
              "      <td>0.459459</td>\n",
              "      <td>0.675676</td>\n",
              "      <td>0.073769</td>\n",
              "      <td>0.581081</td>\n",
              "      <td>0.459459</td>\n",
              "      <td>0.675676</td>\n",
              "      <td>0.073769</td>\n",
              "    </tr>\n",
              "  </tbody>\n",
              "</table>\n",
              "</div>"
            ],
            "text/plain": [
              "                                                                        accuracy  ...    f1_std\n",
              "LogisticRegression_count_stem  [0.6756756756756757, 0.5135135135135135, 0.648...  ...  0.096733\n",
              "LinearSVC_tfidf_stem           [0.7567567567567568, 0.5675675675675675, 0.810...  ...  0.083784\n",
              "LogisticRegression_tfidf_stem  [0.6486486486486487, 0.5135135135135135, 0.675...  ...  0.073769\n",
              "\n",
              "[3 rows x 11 columns]"
            ]
          },
          "metadata": {},
          "execution_count": 47
        }
      ]
    },
    {
      "cell_type": "code",
      "metadata": {
        "colab": {
          "base_uri": "https://localhost:8080/",
          "height": 802
        },
        "id": "0nOzEnjeWBqg",
        "outputId": "521a6006-7f4a-49d2-b843-a706002c96a8"
      },
      "source": [
        "# Pipelines organizados por melhor acurácia\n",
        "resultsDF.drop(['accuracy','f1score'],1).sort_values(by='acc_mean', ascending=False)"
      ],
      "execution_count": 48,
      "outputs": [
        {
          "output_type": "execute_result",
          "data": {
            "text/html": [
              "<div>\n",
              "<style scoped>\n",
              "    .dataframe tbody tr th:only-of-type {\n",
              "        vertical-align: middle;\n",
              "    }\n",
              "\n",
              "    .dataframe tbody tr th {\n",
              "        vertical-align: top;\n",
              "    }\n",
              "\n",
              "    .dataframe thead th {\n",
              "        text-align: right;\n",
              "    }\n",
              "</style>\n",
              "<table border=\"1\" class=\"dataframe\">\n",
              "  <thead>\n",
              "    <tr style=\"text-align: right;\">\n",
              "      <th></th>\n",
              "      <th>runtime</th>\n",
              "      <th>acc_mean</th>\n",
              "      <th>acc_min</th>\n",
              "      <th>acc_max</th>\n",
              "      <th>acc_std</th>\n",
              "      <th>f1_mean</th>\n",
              "      <th>f1_min</th>\n",
              "      <th>f1_max</th>\n",
              "      <th>f1_std</th>\n",
              "    </tr>\n",
              "  </thead>\n",
              "  <tbody>\n",
              "    <tr>\n",
              "      <th>LinearSVC_tfidf_stem</th>\n",
              "      <td>1.629116</td>\n",
              "      <td>0.710811</td>\n",
              "      <td>0.567568</td>\n",
              "      <td>0.864865</td>\n",
              "      <td>0.083784</td>\n",
              "      <td>0.710811</td>\n",
              "      <td>0.567568</td>\n",
              "      <td>0.864865</td>\n",
              "      <td>0.083784</td>\n",
              "    </tr>\n",
              "    <tr>\n",
              "      <th>LinearSVC_tfidf_lemma</th>\n",
              "      <td>0.637812</td>\n",
              "      <td>0.705405</td>\n",
              "      <td>0.594595</td>\n",
              "      <td>0.837838</td>\n",
              "      <td>0.079672</td>\n",
              "      <td>0.705405</td>\n",
              "      <td>0.594595</td>\n",
              "      <td>0.837838</td>\n",
              "      <td>0.079672</td>\n",
              "    </tr>\n",
              "    <tr>\n",
              "      <th>MLP_tfidf_stem</th>\n",
              "      <td>12.078553</td>\n",
              "      <td>0.675676</td>\n",
              "      <td>0.513514</td>\n",
              "      <td>0.810811</td>\n",
              "      <td>0.087994</td>\n",
              "      <td>0.675676</td>\n",
              "      <td>0.513514</td>\n",
              "      <td>0.810811</td>\n",
              "      <td>0.087994</td>\n",
              "    </tr>\n",
              "    <tr>\n",
              "      <th>MLP_count_stem</th>\n",
              "      <td>8.093532</td>\n",
              "      <td>0.664865</td>\n",
              "      <td>0.486486</td>\n",
              "      <td>0.783784</td>\n",
              "      <td>0.097597</td>\n",
              "      <td>0.664865</td>\n",
              "      <td>0.486486</td>\n",
              "      <td>0.783784</td>\n",
              "      <td>0.097597</td>\n",
              "    </tr>\n",
              "    <tr>\n",
              "      <th>MLP_tfidf_lemma</th>\n",
              "      <td>12.537113</td>\n",
              "      <td>0.659459</td>\n",
              "      <td>0.459459</td>\n",
              "      <td>0.783784</td>\n",
              "      <td>0.088159</td>\n",
              "      <td>0.659459</td>\n",
              "      <td>0.459459</td>\n",
              "      <td>0.783784</td>\n",
              "      <td>0.088159</td>\n",
              "    </tr>\n",
              "    <tr>\n",
              "      <th>LogisticRegression_count_stem</th>\n",
              "      <td>2.311773</td>\n",
              "      <td>0.656757</td>\n",
              "      <td>0.513514</td>\n",
              "      <td>0.810811</td>\n",
              "      <td>0.096733</td>\n",
              "      <td>0.656757</td>\n",
              "      <td>0.513514</td>\n",
              "      <td>0.810811</td>\n",
              "      <td>0.096733</td>\n",
              "    </tr>\n",
              "    <tr>\n",
              "      <th>MLP_count_lemma</th>\n",
              "      <td>7.904246</td>\n",
              "      <td>0.648649</td>\n",
              "      <td>0.432432</td>\n",
              "      <td>0.756757</td>\n",
              "      <td>0.087160</td>\n",
              "      <td>0.648649</td>\n",
              "      <td>0.432432</td>\n",
              "      <td>0.756757</td>\n",
              "      <td>0.087160</td>\n",
              "    </tr>\n",
              "    <tr>\n",
              "      <th>LinearSVC_count_lemma</th>\n",
              "      <td>0.630198</td>\n",
              "      <td>0.632432</td>\n",
              "      <td>0.486486</td>\n",
              "      <td>0.783784</td>\n",
              "      <td>0.086486</td>\n",
              "      <td>0.632432</td>\n",
              "      <td>0.486486</td>\n",
              "      <td>0.783784</td>\n",
              "      <td>0.086486</td>\n",
              "    </tr>\n",
              "    <tr>\n",
              "      <th>LogisticRegression_count_lemma</th>\n",
              "      <td>1.255824</td>\n",
              "      <td>0.632432</td>\n",
              "      <td>0.486486</td>\n",
              "      <td>0.783784</td>\n",
              "      <td>0.090611</td>\n",
              "      <td>0.632432</td>\n",
              "      <td>0.486486</td>\n",
              "      <td>0.783784</td>\n",
              "      <td>0.090611</td>\n",
              "    </tr>\n",
              "    <tr>\n",
              "      <th>LinearSVC_count_stem</th>\n",
              "      <td>1.647079</td>\n",
              "      <td>0.629730</td>\n",
              "      <td>0.486486</td>\n",
              "      <td>0.783784</td>\n",
              "      <td>0.097485</td>\n",
              "      <td>0.629730</td>\n",
              "      <td>0.486486</td>\n",
              "      <td>0.783784</td>\n",
              "      <td>0.097485</td>\n",
              "    </tr>\n",
              "    <tr>\n",
              "      <th>MultinomialNB_count_stem</th>\n",
              "      <td>1.647689</td>\n",
              "      <td>0.594595</td>\n",
              "      <td>0.486486</td>\n",
              "      <td>0.675676</td>\n",
              "      <td>0.060434</td>\n",
              "      <td>0.594595</td>\n",
              "      <td>0.486486</td>\n",
              "      <td>0.675676</td>\n",
              "      <td>0.060434</td>\n",
              "    </tr>\n",
              "    <tr>\n",
              "      <th>LogisticRegression_tfidf_stem</th>\n",
              "      <td>1.983589</td>\n",
              "      <td>0.581081</td>\n",
              "      <td>0.459459</td>\n",
              "      <td>0.675676</td>\n",
              "      <td>0.073769</td>\n",
              "      <td>0.581081</td>\n",
              "      <td>0.459459</td>\n",
              "      <td>0.675676</td>\n",
              "      <td>0.073769</td>\n",
              "    </tr>\n",
              "    <tr>\n",
              "      <th>RandomForest_tfidf_stem</th>\n",
              "      <td>1.991210</td>\n",
              "      <td>0.581081</td>\n",
              "      <td>0.459459</td>\n",
              "      <td>0.675676</td>\n",
              "      <td>0.089025</td>\n",
              "      <td>0.581081</td>\n",
              "      <td>0.459459</td>\n",
              "      <td>0.675676</td>\n",
              "      <td>0.089025</td>\n",
              "    </tr>\n",
              "    <tr>\n",
              "      <th>LogisticRegression_tfidf_lemma</th>\n",
              "      <td>1.150912</td>\n",
              "      <td>0.562162</td>\n",
              "      <td>0.459459</td>\n",
              "      <td>0.648649</td>\n",
              "      <td>0.070270</td>\n",
              "      <td>0.562162</td>\n",
              "      <td>0.459459</td>\n",
              "      <td>0.648649</td>\n",
              "      <td>0.070270</td>\n",
              "    </tr>\n",
              "    <tr>\n",
              "      <th>RandomForest_tfidf_lemma</th>\n",
              "      <td>0.972195</td>\n",
              "      <td>0.554054</td>\n",
              "      <td>0.459459</td>\n",
              "      <td>0.648649</td>\n",
              "      <td>0.057014</td>\n",
              "      <td>0.554054</td>\n",
              "      <td>0.459459</td>\n",
              "      <td>0.648649</td>\n",
              "      <td>0.057014</td>\n",
              "    </tr>\n",
              "    <tr>\n",
              "      <th>MultinomialNB_count_lemma</th>\n",
              "      <td>0.594708</td>\n",
              "      <td>0.554054</td>\n",
              "      <td>0.432432</td>\n",
              "      <td>0.675676</td>\n",
              "      <td>0.064243</td>\n",
              "      <td>0.554054</td>\n",
              "      <td>0.432432</td>\n",
              "      <td>0.675676</td>\n",
              "      <td>0.064243</td>\n",
              "    </tr>\n",
              "    <tr>\n",
              "      <th>RandomForest_count_stem</th>\n",
              "      <td>2.009035</td>\n",
              "      <td>0.548649</td>\n",
              "      <td>0.405405</td>\n",
              "      <td>0.648649</td>\n",
              "      <td>0.083784</td>\n",
              "      <td>0.548649</td>\n",
              "      <td>0.405405</td>\n",
              "      <td>0.648649</td>\n",
              "      <td>0.083784</td>\n",
              "    </tr>\n",
              "    <tr>\n",
              "      <th>RandomForest_count_lemma</th>\n",
              "      <td>0.980135</td>\n",
              "      <td>0.540541</td>\n",
              "      <td>0.378378</td>\n",
              "      <td>0.675676</td>\n",
              "      <td>0.087160</td>\n",
              "      <td>0.540541</td>\n",
              "      <td>0.378378</td>\n",
              "      <td>0.675676</td>\n",
              "      <td>0.087160</td>\n",
              "    </tr>\n",
              "    <tr>\n",
              "      <th>GaussianNB_count_lemma</th>\n",
              "      <td>0.685483</td>\n",
              "      <td>0.521622</td>\n",
              "      <td>0.459459</td>\n",
              "      <td>0.621622</td>\n",
              "      <td>0.052755</td>\n",
              "      <td>0.521622</td>\n",
              "      <td>0.459459</td>\n",
              "      <td>0.621622</td>\n",
              "      <td>0.052755</td>\n",
              "    </tr>\n",
              "    <tr>\n",
              "      <th>GaussianNB_tfidf_lemma</th>\n",
              "      <td>0.675289</td>\n",
              "      <td>0.516216</td>\n",
              "      <td>0.432432</td>\n",
              "      <td>0.621622</td>\n",
              "      <td>0.047509</td>\n",
              "      <td>0.516216</td>\n",
              "      <td>0.432432</td>\n",
              "      <td>0.621622</td>\n",
              "      <td>0.047509</td>\n",
              "    </tr>\n",
              "    <tr>\n",
              "      <th>GaussianNB_tfidf_stem</th>\n",
              "      <td>1.704041</td>\n",
              "      <td>0.510811</td>\n",
              "      <td>0.432432</td>\n",
              "      <td>0.567568</td>\n",
              "      <td>0.042648</td>\n",
              "      <td>0.510811</td>\n",
              "      <td>0.432432</td>\n",
              "      <td>0.567568</td>\n",
              "      <td>0.042648</td>\n",
              "    </tr>\n",
              "    <tr>\n",
              "      <th>GaussianNB_count_stem</th>\n",
              "      <td>1.715327</td>\n",
              "      <td>0.505405</td>\n",
              "      <td>0.432432</td>\n",
              "      <td>0.594595</td>\n",
              "      <td>0.046890</td>\n",
              "      <td>0.505405</td>\n",
              "      <td>0.432432</td>\n",
              "      <td>0.594595</td>\n",
              "      <td>0.046890</td>\n",
              "    </tr>\n",
              "    <tr>\n",
              "      <th>MultinomialNB_tfidf_stem</th>\n",
              "      <td>1.624113</td>\n",
              "      <td>0.413514</td>\n",
              "      <td>0.324324</td>\n",
              "      <td>0.540541</td>\n",
              "      <td>0.070530</td>\n",
              "      <td>0.413514</td>\n",
              "      <td>0.324324</td>\n",
              "      <td>0.540541</td>\n",
              "      <td>0.070530</td>\n",
              "    </tr>\n",
              "    <tr>\n",
              "      <th>MultinomialNB_tfidf_lemma</th>\n",
              "      <td>0.594429</td>\n",
              "      <td>0.405405</td>\n",
              "      <td>0.297297</td>\n",
              "      <td>0.513514</td>\n",
              "      <td>0.067297</td>\n",
              "      <td>0.405405</td>\n",
              "      <td>0.297297</td>\n",
              "      <td>0.513514</td>\n",
              "      <td>0.067297</td>\n",
              "    </tr>\n",
              "  </tbody>\n",
              "</table>\n",
              "</div>"
            ],
            "text/plain": [
              "                                  runtime  acc_mean  ...    f1_max    f1_std\n",
              "LinearSVC_tfidf_stem             1.629116  0.710811  ...  0.864865  0.083784\n",
              "LinearSVC_tfidf_lemma            0.637812  0.705405  ...  0.837838  0.079672\n",
              "MLP_tfidf_stem                  12.078553  0.675676  ...  0.810811  0.087994\n",
              "MLP_count_stem                   8.093532  0.664865  ...  0.783784  0.097597\n",
              "MLP_tfidf_lemma                 12.537113  0.659459  ...  0.783784  0.088159\n",
              "LogisticRegression_count_stem    2.311773  0.656757  ...  0.810811  0.096733\n",
              "MLP_count_lemma                  7.904246  0.648649  ...  0.756757  0.087160\n",
              "LinearSVC_count_lemma            0.630198  0.632432  ...  0.783784  0.086486\n",
              "LogisticRegression_count_lemma   1.255824  0.632432  ...  0.783784  0.090611\n",
              "LinearSVC_count_stem             1.647079  0.629730  ...  0.783784  0.097485\n",
              "MultinomialNB_count_stem         1.647689  0.594595  ...  0.675676  0.060434\n",
              "LogisticRegression_tfidf_stem    1.983589  0.581081  ...  0.675676  0.073769\n",
              "RandomForest_tfidf_stem          1.991210  0.581081  ...  0.675676  0.089025\n",
              "LogisticRegression_tfidf_lemma   1.150912  0.562162  ...  0.648649  0.070270\n",
              "RandomForest_tfidf_lemma         0.972195  0.554054  ...  0.648649  0.057014\n",
              "MultinomialNB_count_lemma        0.594708  0.554054  ...  0.675676  0.064243\n",
              "RandomForest_count_stem          2.009035  0.548649  ...  0.648649  0.083784\n",
              "RandomForest_count_lemma         0.980135  0.540541  ...  0.675676  0.087160\n",
              "GaussianNB_count_lemma           0.685483  0.521622  ...  0.621622  0.052755\n",
              "GaussianNB_tfidf_lemma           0.675289  0.516216  ...  0.621622  0.047509\n",
              "GaussianNB_tfidf_stem            1.704041  0.510811  ...  0.567568  0.042648\n",
              "GaussianNB_count_stem            1.715327  0.505405  ...  0.594595  0.046890\n",
              "MultinomialNB_tfidf_stem         1.624113  0.413514  ...  0.540541  0.070530\n",
              "MultinomialNB_tfidf_lemma        0.594429  0.405405  ...  0.513514  0.067297\n",
              "\n",
              "[24 rows x 9 columns]"
            ]
          },
          "metadata": {},
          "execution_count": 48
        }
      ]
    },
    {
      "cell_type": "code",
      "metadata": {
        "colab": {
          "base_uri": "https://localhost:8080/",
          "height": 135
        },
        "id": "1lSYJuuNIapY",
        "outputId": "195d0d4a-5b00-4bbe-9e86-96ae22cd468a"
      },
      "source": [
        "# Analisando elementos dos pipelines\n",
        "lss = list(map(lambda x: x.split('_'), resultsDF.index))\n",
        "resultsDF['clf'], resultsDF['vect'], resultsDF['lemma_stem'] = zip(*lss)\n",
        "resultsDF.sample()"
      ],
      "execution_count": 49,
      "outputs": [
        {
          "output_type": "execute_result",
          "data": {
            "text/html": [
              "<div>\n",
              "<style scoped>\n",
              "    .dataframe tbody tr th:only-of-type {\n",
              "        vertical-align: middle;\n",
              "    }\n",
              "\n",
              "    .dataframe tbody tr th {\n",
              "        vertical-align: top;\n",
              "    }\n",
              "\n",
              "    .dataframe thead th {\n",
              "        text-align: right;\n",
              "    }\n",
              "</style>\n",
              "<table border=\"1\" class=\"dataframe\">\n",
              "  <thead>\n",
              "    <tr style=\"text-align: right;\">\n",
              "      <th></th>\n",
              "      <th>accuracy</th>\n",
              "      <th>f1score</th>\n",
              "      <th>runtime</th>\n",
              "      <th>acc_mean</th>\n",
              "      <th>acc_min</th>\n",
              "      <th>acc_max</th>\n",
              "      <th>acc_std</th>\n",
              "      <th>f1_mean</th>\n",
              "      <th>f1_min</th>\n",
              "      <th>f1_max</th>\n",
              "      <th>f1_std</th>\n",
              "      <th>clf</th>\n",
              "      <th>vect</th>\n",
              "      <th>lemma_stem</th>\n",
              "    </tr>\n",
              "  </thead>\n",
              "  <tbody>\n",
              "    <tr>\n",
              "      <th>LogisticRegression_count_stem</th>\n",
              "      <td>[0.6756756756756757, 0.5135135135135135, 0.648...</td>\n",
              "      <td>[0.6756756756756757, 0.5135135135135135, 0.648...</td>\n",
              "      <td>2.311773</td>\n",
              "      <td>0.656757</td>\n",
              "      <td>0.513514</td>\n",
              "      <td>0.810811</td>\n",
              "      <td>0.096733</td>\n",
              "      <td>0.656757</td>\n",
              "      <td>0.513514</td>\n",
              "      <td>0.810811</td>\n",
              "      <td>0.096733</td>\n",
              "      <td>LogisticRegression</td>\n",
              "      <td>count</td>\n",
              "      <td>stem</td>\n",
              "    </tr>\n",
              "  </tbody>\n",
              "</table>\n",
              "</div>"
            ],
            "text/plain": [
              "                                                                        accuracy  ... lemma_stem\n",
              "LogisticRegression_count_stem  [0.6756756756756757, 0.5135135135135135, 0.648...  ...       stem\n",
              "\n",
              "[1 rows x 14 columns]"
            ]
          },
          "metadata": {},
          "execution_count": 49
        }
      ]
    },
    {
      "cell_type": "code",
      "metadata": {
        "colab": {
          "base_uri": "https://localhost:8080/",
          "height": 269
        },
        "id": "mVF4GUQ5IapY",
        "outputId": "2dd11143-8c7c-4dd6-db89-e2374a80f149"
      },
      "source": [
        "# Agrupando por classificador\n",
        "agg_map = {\n",
        "    'acc_mean':'mean',\n",
        "    'f1_mean':'mean',\n",
        "    'runtime':'mean',\n",
        "}\n",
        "resultsDF.dropna(subset=['accuracy'])\\\n",
        "    .groupby(['clf']).agg(agg_map).sort_values(by='acc_mean', ascending=False)"
      ],
      "execution_count": 50,
      "outputs": [
        {
          "output_type": "execute_result",
          "data": {
            "text/html": [
              "<div>\n",
              "<style scoped>\n",
              "    .dataframe tbody tr th:only-of-type {\n",
              "        vertical-align: middle;\n",
              "    }\n",
              "\n",
              "    .dataframe tbody tr th {\n",
              "        vertical-align: top;\n",
              "    }\n",
              "\n",
              "    .dataframe thead th {\n",
              "        text-align: right;\n",
              "    }\n",
              "</style>\n",
              "<table border=\"1\" class=\"dataframe\">\n",
              "  <thead>\n",
              "    <tr style=\"text-align: right;\">\n",
              "      <th></th>\n",
              "      <th>acc_mean</th>\n",
              "      <th>f1_mean</th>\n",
              "      <th>runtime</th>\n",
              "    </tr>\n",
              "    <tr>\n",
              "      <th>clf</th>\n",
              "      <th></th>\n",
              "      <th></th>\n",
              "      <th></th>\n",
              "    </tr>\n",
              "  </thead>\n",
              "  <tbody>\n",
              "    <tr>\n",
              "      <th>LinearSVC</th>\n",
              "      <td>0.669595</td>\n",
              "      <td>0.669595</td>\n",
              "      <td>1.136051</td>\n",
              "    </tr>\n",
              "    <tr>\n",
              "      <th>MLP</th>\n",
              "      <td>0.662162</td>\n",
              "      <td>0.662162</td>\n",
              "      <td>10.153361</td>\n",
              "    </tr>\n",
              "    <tr>\n",
              "      <th>LogisticRegression</th>\n",
              "      <td>0.608108</td>\n",
              "      <td>0.608108</td>\n",
              "      <td>1.675524</td>\n",
              "    </tr>\n",
              "    <tr>\n",
              "      <th>RandomForest</th>\n",
              "      <td>0.556081</td>\n",
              "      <td>0.556081</td>\n",
              "      <td>1.488144</td>\n",
              "    </tr>\n",
              "    <tr>\n",
              "      <th>GaussianNB</th>\n",
              "      <td>0.513514</td>\n",
              "      <td>0.513514</td>\n",
              "      <td>1.195035</td>\n",
              "    </tr>\n",
              "    <tr>\n",
              "      <th>MultinomialNB</th>\n",
              "      <td>0.491892</td>\n",
              "      <td>0.491892</td>\n",
              "      <td>1.115235</td>\n",
              "    </tr>\n",
              "  </tbody>\n",
              "</table>\n",
              "</div>"
            ],
            "text/plain": [
              "                    acc_mean   f1_mean    runtime\n",
              "clf                                              \n",
              "LinearSVC           0.669595  0.669595   1.136051\n",
              "MLP                 0.662162  0.662162  10.153361\n",
              "LogisticRegression  0.608108  0.608108   1.675524\n",
              "RandomForest        0.556081  0.556081   1.488144\n",
              "GaussianNB          0.513514  0.513514   1.195035\n",
              "MultinomialNB       0.491892  0.491892   1.115235"
            ]
          },
          "metadata": {},
          "execution_count": 50
        }
      ]
    },
    {
      "cell_type": "code",
      "metadata": {
        "colab": {
          "base_uri": "https://localhost:8080/",
          "height": 143
        },
        "id": "zyKw0dQnIapZ",
        "outputId": "f092c5d3-d2d4-4b84-e343-1b6e0157a103"
      },
      "source": [
        "# Agrupando por vetorizador\n",
        "resultsDF.dropna(subset=['accuracy'])\\\n",
        "    .groupby(['vect']).agg(agg_map).sort_values(by='acc_mean', ascending=False)"
      ],
      "execution_count": 51,
      "outputs": [
        {
          "output_type": "execute_result",
          "data": {
            "text/html": [
              "<div>\n",
              "<style scoped>\n",
              "    .dataframe tbody tr th:only-of-type {\n",
              "        vertical-align: middle;\n",
              "    }\n",
              "\n",
              "    .dataframe tbody tr th {\n",
              "        vertical-align: top;\n",
              "    }\n",
              "\n",
              "    .dataframe thead th {\n",
              "        text-align: right;\n",
              "    }\n",
              "</style>\n",
              "<table border=\"1\" class=\"dataframe\">\n",
              "  <thead>\n",
              "    <tr style=\"text-align: right;\">\n",
              "      <th></th>\n",
              "      <th>acc_mean</th>\n",
              "      <th>f1_mean</th>\n",
              "      <th>runtime</th>\n",
              "    </tr>\n",
              "    <tr>\n",
              "      <th>vect</th>\n",
              "      <th></th>\n",
              "      <th></th>\n",
              "      <th></th>\n",
              "    </tr>\n",
              "  </thead>\n",
              "  <tbody>\n",
              "    <tr>\n",
              "      <th>count</th>\n",
              "      <td>0.594144</td>\n",
              "      <td>0.594144</td>\n",
              "      <td>2.456252</td>\n",
              "    </tr>\n",
              "    <tr>\n",
              "      <th>tfidf</th>\n",
              "      <td>0.572973</td>\n",
              "      <td>0.572973</td>\n",
              "      <td>3.131531</td>\n",
              "    </tr>\n",
              "  </tbody>\n",
              "</table>\n",
              "</div>"
            ],
            "text/plain": [
              "       acc_mean   f1_mean   runtime\n",
              "vect                               \n",
              "count  0.594144  0.594144  2.456252\n",
              "tfidf  0.572973  0.572973  3.131531"
            ]
          },
          "metadata": {},
          "execution_count": 51
        }
      ]
    },
    {
      "cell_type": "code",
      "metadata": {
        "colab": {
          "base_uri": "https://localhost:8080/",
          "height": 143
        },
        "id": "9LQu491cIapZ",
        "outputId": "860011e2-0bb9-4547-acdc-b233816736b2"
      },
      "source": [
        "# Agrupando por lemma/stem\n",
        "resultsDF.dropna(subset=['accuracy'])\\\n",
        "    .groupby(['lemma_stem']).agg(agg_map).sort_values(by='acc_mean', ascending=False)"
      ],
      "execution_count": 52,
      "outputs": [
        {
          "output_type": "execute_result",
          "data": {
            "text/html": [
              "<div>\n",
              "<style scoped>\n",
              "    .dataframe tbody tr th:only-of-type {\n",
              "        vertical-align: middle;\n",
              "    }\n",
              "\n",
              "    .dataframe tbody tr th {\n",
              "        vertical-align: top;\n",
              "    }\n",
              "\n",
              "    .dataframe thead th {\n",
              "        text-align: right;\n",
              "    }\n",
              "</style>\n",
              "<table border=\"1\" class=\"dataframe\">\n",
              "  <thead>\n",
              "    <tr style=\"text-align: right;\">\n",
              "      <th></th>\n",
              "      <th>acc_mean</th>\n",
              "      <th>f1_mean</th>\n",
              "      <th>runtime</th>\n",
              "    </tr>\n",
              "    <tr>\n",
              "      <th>lemma_stem</th>\n",
              "      <th></th>\n",
              "      <th></th>\n",
              "      <th></th>\n",
              "    </tr>\n",
              "  </thead>\n",
              "  <tbody>\n",
              "    <tr>\n",
              "      <th>stem</th>\n",
              "      <td>0.589414</td>\n",
              "      <td>0.589414</td>\n",
              "      <td>3.202921</td>\n",
              "    </tr>\n",
              "    <tr>\n",
              "      <th>lemma</th>\n",
              "      <td>0.577703</td>\n",
              "      <td>0.577703</td>\n",
              "      <td>2.384862</td>\n",
              "    </tr>\n",
              "  </tbody>\n",
              "</table>\n",
              "</div>"
            ],
            "text/plain": [
              "            acc_mean   f1_mean   runtime\n",
              "lemma_stem                              \n",
              "stem        0.589414  0.589414  3.202921\n",
              "lemma       0.577703  0.577703  2.384862"
            ]
          },
          "metadata": {},
          "execution_count": 52
        }
      ]
    },
    {
      "cell_type": "code",
      "metadata": {
        "id": "vrMnRqmu9Ju1"
      },
      "source": [
        "# Salvando resultados em csv\n",
        "resultsDF.to_csv('results_poets.csv', sep=';')\n",
        "results_ = results.copy()\n",
        "resultsDF_ = resultsDF.copy()"
      ],
      "execution_count": 54,
      "outputs": []
    },
    {
      "cell_type": "markdown",
      "metadata": {
        "id": "-HjAEFU79oIs"
      },
      "source": [
        "## 2.6 Recriando melhor pipeline e realizando testes"
      ]
    },
    {
      "cell_type": "code",
      "metadata": {
        "colab": {
          "base_uri": "https://localhost:8080/"
        },
        "id": "wkCuLFhAYDGC",
        "outputId": "a22c338c-131d-4154-bf90-39d555b34e17"
      },
      "source": [
        "# Data Split\n",
        "X = corpus.text.values\n",
        "y = np.stack(corpus.label_id.values, axis=0)\n",
        "\n",
        "from sklearn.model_selection import train_test_split\n",
        "\n",
        "X_train, X_test, y_train, y_test = train_test_split(X,y, test_size=0.1, random_state=0)\n",
        "print(\"X_train.shape\", X_train.shape)\n",
        "print(\"y_train.shape\", y_train.shape)\n",
        "print(\"X_test.shape\", X_test.shape)\n",
        "print(\"y_test.shape\", y_test.shape)"
      ],
      "execution_count": 55,
      "outputs": [
        {
          "output_type": "stream",
          "name": "stdout",
          "text": [
            "X_train.shape (333,)\n",
            "y_train.shape (333,)\n",
            "X_test.shape (37,)\n",
            "y_test.shape (37,)\n"
          ]
        }
      ]
    },
    {
      "cell_type": "code",
      "metadata": {
        "colab": {
          "base_uri": "https://localhost:8080/"
        },
        "id": "T4IabT2I9uI0",
        "outputId": "ecd5181f-0971-4930-c791-98282f9db46e"
      },
      "source": [
        "# Construindo Pipeline\n",
        "pipeline = Pipeline([\n",
        "    ('vect', vectorizers['tfidf_lemma']),\n",
        "    ('clf', classifiers['LinearSVC'])\n",
        "])\n",
        "# Treinando\n",
        "pipeline.fit(X_train, y_train)\n",
        "\n",
        "# Avaliando\n",
        "y_pred = pipeline.predict(X_test)\n",
        "accuracy = metrics.accuracy_score(y_test, y_pred)\n",
        "f1score =        metrics.f1_score(y_test, y_pred, average=\"micro\")\n",
        "cf =     metrics.confusion_matrix(y_test, y_pred)\n",
        "\n",
        "# Imprimindo\n",
        "print(\"accuracy: {:0.2f}\".format(accuracy))\n",
        "print(\"f1score: {:0.2f}\".format(f1score))\n",
        "print(\"cf:\\n\", cf)"
      ],
      "execution_count": 56,
      "outputs": [
        {
          "output_type": "stream",
          "name": "stdout",
          "text": [
            "accuracy: 0.70\n",
            "f1score: 0.70\n",
            "cf:\n",
            " [[3 0 0 0 0 0]\n",
            " [0 7 0 1 0 0]\n",
            " [2 0 5 1 0 0]\n",
            " [3 0 0 4 0 0]\n",
            " [3 0 1 0 2 0]\n",
            " [0 0 0 0 0 5]]\n"
          ]
        }
      ]
    },
    {
      "cell_type": "code",
      "metadata": {
        "colab": {
          "base_uri": "https://localhost:8080/"
        },
        "id": "SXBj338j-vc5",
        "outputId": "0aed2eba-3406-4417-b48d-4ad5ec2d077b"
      },
      "source": [
        "# Utilizando o modelo em um poema qualquer\n",
        "# Selecionando poema\n",
        "p = corpus.text.iloc[40]\n",
        "print(corpus.iloc[40])\n",
        "print(\"poem:\\n\",p[:200].__repr__())"
      ],
      "execution_count": 57,
      "outputs": [
        {
          "output_type": "stream",
          "name": "stdout",
          "text": [
            "title           \\r\\r\\n                    Speech: Bottom's Dre...\n",
            "text            \\r\\r\\n\\r\\r\\n\\r\\r\\n\\r\\r\\n(from A Midsummer Nigh...\n",
            "poet                                          William Shakespeare\n",
            "tags                                                          NaN\n",
            "len                                                          1015\n",
            "label                                         William Shakespeare\n",
            "label_id                                                        1\n",
            "tags_vectors                          [0, 0, 0, 0, 0, 0, 0, 0, 0]\n",
            "tags_present                                                False\n",
            "Name: 3075, dtype: object\n",
            "poem:\n",
            " \"\\r\\r\\n\\r\\r\\n\\r\\r\\n\\r\\r\\n(from A Midsummer Night's Dream, spoken by Bottom)\\r\\r\\n\\r\\r\\n\\r\\r\\n\\r\\r\\nWhen my cue comes, call me, and I will answer. My next is “Most fair Pyramus.” Heigh-ho! Peter Quince? Flute the bellows-mende\"\n"
          ]
        }
      ]
    },
    {
      "cell_type": "code",
      "metadata": {
        "colab": {
          "base_uri": "https://localhost:8080/"
        },
        "id": "kc07Iq0K-suE",
        "outputId": "4d5718a6-526b-48be-e9fb-f6559a12daf7"
      },
      "source": [
        "# Utilizando o modelo em um poema qualquer\n",
        "# Classificando\n",
        "r = pipeline.predict([p])\n",
        "print(\"prediction:\", r)\n",
        "label = corpus_label_map[r]\n",
        "print(\"label:\",label)"
      ],
      "execution_count": 58,
      "outputs": [
        {
          "output_type": "stream",
          "name": "stdout",
          "text": [
            "prediction: [1]\n",
            "label: Index(['William Shakespeare'], dtype='object')\n"
          ]
        }
      ]
    },
    {
      "cell_type": "code",
      "metadata": {
        "colab": {
          "base_uri": "https://localhost:8080/",
          "height": 0
        },
        "id": "fbhZtMLU_d7H",
        "outputId": "bd4e3e50-1cb4-4fa8-a502-adc1a74396e4"
      },
      "source": [
        "# Confusion Matrix\n",
        "from sklearn.metrics import plot_confusion_matrix, classification_report\n",
        "plt.rcParams[\"figure.figsize\"] = (10,10)\n",
        "fig = plot_confusion_matrix(pipeline, X_test, y_test,\n",
        "                                 cmap=plt.cm.Blues,\n",
        "                                 normalize='true')\n",
        "plt.xticks(rotation=90);"
      ],
      "execution_count": 59,
      "outputs": [
        {
          "output_type": "display_data",
          "data": {
            "image/png": "[encoded data removed]",
            "text/plain": [
              "<Figure size 720x720 with 2 Axes>"
            ]
          },
          "metadata": {
            "needs_background": "light"
          }
        }
      ]
    },
    {
      "cell_type": "markdown",
      "metadata": {
        "id": "mxm5tHw4huF_"
      },
      "source": [
        "# 3 Processamento para tags"
      ]
    },
    {
      "cell_type": "markdown",
      "metadata": {
        "id": "JdlG5U0CAVeu"
      },
      "source": [
        "Como há um número maior de dados tageados com as tags mais frequentes, não utilizou-se o KFOLD. \n",
        "Primeiramente, um conjunto menor, de 50% dos dados foi utilizado.  \n",
        "Desse conjunto, 30% dos dados foi selecionado para treino.  "
      ]
    },
    {
      "cell_type": "markdown",
      "metadata": {
        "id": "GjGj6TigAYJG"
      },
      "source": [
        "## 3.0 Separando dataset\n"
      ]
    },
    {
      "cell_type": "code",
      "metadata": {
        "id": "hh1bDfEUAcH7"
      },
      "source": [
        "# Separando dataset novamente\n",
        "corpus = corpus_original"
      ],
      "execution_count": 60,
      "outputs": []
    },
    {
      "cell_type": "code",
      "metadata": {
        "id": "8BwDohv2AZ_1"
      },
      "source": [
        "# Separando dataset\n",
        "corpus_labeled = corpus[corpus['tags_present']]\n",
        "nSamples = len(corpus_labeled.index)//nTags\n",
        "corpus_other = corpus[corpus['tags_present']==False]\n",
        "corpus_other = corpus_other.sample(min(nSamples, len(corpus_other.index)))\n",
        "corpus = pd.concat([corpus_labeled, corpus_other])"
      ],
      "execution_count": 61,
      "outputs": []
    },
    {
      "cell_type": "code",
      "metadata": {
        "colab": {
          "base_uri": "https://localhost:8080/"
        },
        "id": "hGb8SRfSXt5O",
        "outputId": "ab577173-ddcd-480a-ee28-d9100dd71105"
      },
      "source": [
        "corpus.shape"
      ],
      "execution_count": 62,
      "outputs": [
        {
          "output_type": "execute_result",
          "data": {
            "text/plain": [
              "(13854, 9)"
            ]
          },
          "metadata": {},
          "execution_count": 62
        }
      ]
    },
    {
      "cell_type": "code",
      "metadata": {
        "colab": {
          "base_uri": "https://localhost:8080/",
          "height": 0
        },
        "id": "d2ghonOcXdVI",
        "outputId": "294da5f5-8518-4480-90b6-b12389cbd791"
      },
      "source": [
        "corpus.sample(3)"
      ],
      "execution_count": 63,
      "outputs": [
        {
          "output_type": "execute_result",
          "data": {
            "text/html": [
              "<div>\n",
              "<style scoped>\n",
              "    .dataframe tbody tr th:only-of-type {\n",
              "        vertical-align: middle;\n",
              "    }\n",
              "\n",
              "    .dataframe tbody tr th {\n",
              "        vertical-align: top;\n",
              "    }\n",
              "\n",
              "    .dataframe thead th {\n",
              "        text-align: right;\n",
              "    }\n",
              "</style>\n",
              "<table border=\"1\" class=\"dataframe\">\n",
              "  <thead>\n",
              "    <tr style=\"text-align: right;\">\n",
              "      <th></th>\n",
              "      <th>title</th>\n",
              "      <th>text</th>\n",
              "      <th>poet</th>\n",
              "      <th>tags</th>\n",
              "      <th>len</th>\n",
              "      <th>label</th>\n",
              "      <th>label_id</th>\n",
              "      <th>tags_vectors</th>\n",
              "      <th>tags_present</th>\n",
              "    </tr>\n",
              "  </thead>\n",
              "  <tbody>\n",
              "    <tr>\n",
              "      <th>4014</th>\n",
              "      <td>\\r\\r\\n                    Less, much less\\r\\r\\...</td>\n",
              "      <td>\\r\\r\\nHe hardly spoke any words\\r\\r\\nonly two ...</td>\n",
              "      <td>Moniza Alvi</td>\n",
              "      <td>Living,Death,The Body,Nature,Animals</td>\n",
              "      <td>1000</td>\n",
              "      <td>Other</td>\n",
              "      <td>0</td>\n",
              "      <td>[1, 0, 0, 1, 0, 0, 0, 1, 0]</td>\n",
              "      <td>True</td>\n",
              "    </tr>\n",
              "    <tr>\n",
              "      <th>13052</th>\n",
              "      <td>\\r\\r\\n                    Recollections of the...</td>\n",
              "      <td>\\r\\r\\nWhen the breeze of a joyful dawn blew fr...</td>\n",
              "      <td>Alfred, Lord Tennyson</td>\n",
              "      <td>Nature,Landscapes &amp; Pastorals,Religion,Islam,M...</td>\n",
              "      <td>5377</td>\n",
              "      <td>Alfred, Lord Tennyson</td>\n",
              "      <td>3</td>\n",
              "      <td>[0, 0, 0, 1, 0, 0, 0, 0, 1]</td>\n",
              "      <td>True</td>\n",
              "    </tr>\n",
              "    <tr>\n",
              "      <th>8844</th>\n",
              "      <td>\\r\\r\\n                    Arcade: The Search f...</td>\n",
              "      <td>\\r\\r\\nThe Pontalba Apartments in the View-Mast...</td>\n",
              "      <td>Bin Ramke</td>\n",
              "      <td>Living,Coming of Age,Relationships,Men &amp; Women...</td>\n",
              "      <td>486</td>\n",
              "      <td>Other</td>\n",
              "      <td>0</td>\n",
              "      <td>[1, 0, 1, 1, 0, 0, 0, 0, 0]</td>\n",
              "      <td>True</td>\n",
              "    </tr>\n",
              "  </tbody>\n",
              "</table>\n",
              "</div>"
            ],
            "text/plain": [
              "                                                   title  ... tags_present\n",
              "4014   \\r\\r\\n                    Less, much less\\r\\r\\...  ...         True\n",
              "13052  \\r\\r\\n                    Recollections of the...  ...         True\n",
              "8844   \\r\\r\\n                    Arcade: The Search f...  ...         True\n",
              "\n",
              "[3 rows x 9 columns]"
            ]
          },
          "metadata": {},
          "execution_count": 63
        }
      ]
    },
    {
      "cell_type": "code",
      "metadata": {
        "id": "oBLvdse6kuLg",
        "colab": {
          "base_uri": "https://localhost:8080/"
        },
        "outputId": "fcfd7d63-f8a2-4025-e91c-f6f6df06c585"
      },
      "source": [
        "# Data Split\n",
        "from sklearn.model_selection import train_test_split\n",
        "\n",
        "# Data Split\n",
        "X = corpus.text.values\n",
        "y = np.stack(corpus.tags_vectors.values, axis=0)\n",
        "\n",
        "X_, _, y_, _ = train_test_split(X,y, test_size=0.3, random_state=0)\n",
        "\n",
        "X_train, X_test, y_train, y_test = train_test_split(X_,y_, test_size=0.3, random_state=1)\n",
        "print(\"X_train.shape\", X_train.shape)\n",
        "print(\"y_train.shape\", y_train.shape)\n",
        "print(\"X_test.shape\", X_test.shape)\n",
        "print(\"y_test.shape\", y_test.shape)"
      ],
      "execution_count": 64,
      "outputs": [
        {
          "output_type": "stream",
          "name": "stdout",
          "text": [
            "X_train.shape (6787,)\n",
            "y_train.shape (6787, 9)\n",
            "X_test.shape (2910,)\n",
            "y_test.shape (2910, 9)\n"
          ]
        }
      ]
    },
    {
      "cell_type": "markdown",
      "metadata": {
        "id": "oz-VZBdq-w7D"
      },
      "source": [
        "## 3.1 Múltiplos Pipelines\n"
      ]
    },
    {
      "cell_type": "code",
      "metadata": {
        "id": "bocUulIamHn1"
      },
      "source": [
        "# Testanto classificadores diferentes para output multiclasse\n",
        "from sklearn.multioutput import MultiOutputClassifier\n",
        "from sklearn.ensemble import RandomForestClassifier\n",
        "from sklearn.naive_bayes import MultinomialNB\n",
        "from sklearn.naive_bayes import GaussianNB\n",
        "from sklearn.svm import LinearSVC\n",
        "from sklearn.linear_model import LogisticRegression\n",
        "from sklearn.neural_network import MLPClassifier\n",
        "\n",
        "classifiers = {\n",
        "    'RandomForest':        RandomForestClassifier(n_estimators=100, random_state=1),\n",
        "    'MRandomForest':       MultiOutputClassifier(RandomForestClassifier(n_estimators=100, random_state=1)),\n",
        "    'MMultinomialNB':      MultiOutputClassifier(MultinomialNB()),\n",
        "    'MGaussianNB':         MultiOutputClassifier(GaussianNB()),\n",
        "    'MLinearSVC':          MultiOutputClassifier(LinearSVC(random_state=1)),\n",
        "    'MLogisticRegression': MultiOutputClassifier(LogisticRegression(random_state=1)),\n",
        "    # Não incluindo MLP pois demora muito para treinar\n",
        "    #'MLP':                 MLPClassifier(random_state=1),\n",
        "    #'MMLP':                MultiOutputClassifier(MLPClassifier(random_state=1))\n",
        "}"
      ],
      "execution_count": 65,
      "outputs": []
    },
    {
      "cell_type": "markdown",
      "metadata": {
        "id": "d2qkyRu6kBCK"
      },
      "source": [
        "Um detalhe importante sobre a classificação para múltiplas saídas utilizando o SKLEARN, é que as métricas de avaliação precisam de todas as classes verdadeiras para que um exemplo seja classificado como correto. \n",
        "___\n",
        "Exemplo:  \n",
        "Saída do classificador = [101]; Valor real: [001];  \n",
        "esse exemplo será avaliado como errado, pois nem todas as labels foram atribuídas corretamente.\n",
        "___\n",
        "Isso levará a métricas com valores muito baixos. Para ter mais granularidade sobre os valores das métricas de cada classe predita, foram implementadas as funções a seguir, que realizam uma avaliação por tag."
      ]
    },
    {
      "cell_type": "code",
      "metadata": {
        "id": "tqCmdP9EjQIU"
      },
      "source": [
        "# Definindo medidas de acurácia para cada tag\n",
        "def accuracy_score_multioutput(y_test,y_pred):\n",
        "    result = []\n",
        "    for i in range(y_test.shape[1]):\n",
        "        y_t = y_test[:,i]\n",
        "        y_p = y_pred[:,i]\n",
        "        acc = metrics.accuracy_score(y_t, y_p)\n",
        "        result.append(acc)\n",
        "    result = np.array(result)\n",
        "    return result\n",
        "def f1_score_multioutput(y_test,y_pred):\n",
        "    result = []\n",
        "    for i in range(y_test.shape[1]):\n",
        "        y_t = y_test[:,i]\n",
        "        y_p = y_pred[:,i]\n",
        "        acc = metrics.f1_score(y_t, y_p)\n",
        "        result.append(acc)\n",
        "    result = np.array(result)\n",
        "    return result"
      ],
      "execution_count": 66,
      "outputs": []
    },
    {
      "cell_type": "code",
      "metadata": {
        "id": "r_ckC7_zmvnE"
      },
      "source": [
        "from sklearn.pipeline import Pipeline\n",
        "from sklearn import metrics\n",
        "from sklearn.metrics import plot_confusion_matrix, classification_report\n",
        "import time\n",
        "from collections import defaultdict\n",
        "import warnings\n",
        "warnings.filterwarnings(\"ignore\")\n",
        "import gc\n",
        "from sklearn.model_selection import KFold"
      ],
      "execution_count": 67,
      "outputs": []
    },
    {
      "cell_type": "code",
      "metadata": {
        "colab": {
          "base_uri": "https://localhost:8080/"
        },
        "id": "jEuFXSinhigu",
        "outputId": "d79cee1b-179a-48f2-d0b1-8dd0d7252658"
      },
      "source": [
        "# Iterando \n",
        "import time\n",
        "from collections import defaultdict\n",
        "results = defaultdict(dict)\n",
        "\n",
        "for clf_name, clf in classifiers.items():\n",
        "    for vect_name, vect in vectorizers.items():\n",
        "        start = time.time()\n",
        "        try:\n",
        "            # Construindo Pipeline\n",
        "            pipeline_name = clf_name+'_'+vect_name\n",
        "            print(f\"  pipeline: {pipeline_name.ljust(31)}\",end=\" | \")\n",
        "            if clf_name!=\"MGaussianNB\":\n",
        "                pipeline = Pipeline([\n",
        "                    ('vect', vect),\n",
        "                    ('clf', clf)\n",
        "                ])\n",
        "            else:\n",
        "                pipeline = Pipeline([\n",
        "                    ('vect', vect),\n",
        "                    ('to_dense', DenseTransformer()),\n",
        "                    ('clf', clf)\n",
        "                ])\n",
        "\n",
        "            # Treinando\n",
        "            print(\"train\",end=\" | \")\n",
        "            pipeline.fit(X_train, y_train)\n",
        "\n",
        "            # Avaliando\n",
        "            print(\"eval\",end=\" | \")\n",
        "            y_pred = pipeline.predict(X_test)\n",
        "\n",
        "            accuracy = metrics.accuracy_score(y_test, y_pred)\n",
        "            f1score = metrics.f1_score(y_test, y_pred, average=\"micro\")\n",
        "\n",
        "            maccuracy = accuracy_score_multioutput(y_test, y_pred)\n",
        "            mf1score = f1_score_multioutput(y_test, y_pred)\n",
        "\n",
        "            # Salvando resultados\n",
        "            results[pipeline_name]['accuracy'] = accuracy\n",
        "            results[pipeline_name]['f1score'] = f1score\n",
        "            results[pipeline_name]['maccuracy'] = maccuracy\n",
        "            results[pipeline_name]['mf1score'] = mf1score\n",
        "\n",
        "            print(\"accuracy: {:0.2f}\".format(accuracy),end=\" | \")\n",
        "            print(\"f1score: {:0.2f}\".format(f1score),end=\" | \")\n",
        "            print(\"maccuracy: {:0.2f}\".format(np.mean(maccuracy)),end=\" | \")\n",
        "            print(\"mf1score: {:0.2f}\".format(np.mean(mf1score)),end=\" | \")\n",
        "            \n",
        "        except Exception as e:\n",
        "            # Erro\n",
        "            results[pipeline_name]['exception'] = str(e)\n",
        "            accuracy = f1score = cf = None\n",
        "            print(f\"exception: {str(e)}\",end=\" | \")\n",
        "\n",
        "        # Salvando resultados\n",
        "        runtime = time.time() - start\n",
        "        results[pipeline_name]['runtime'] = runtime\n",
        "        print(\"runtime: {:0.2f} s \\n\".format(runtime),end=\"\")"
      ],
      "execution_count": 68,
      "outputs": [
        {
          "output_type": "stream",
          "name": "stdout",
          "text": [
            "  pipeline: RandomForest_tfidf_lemma        | train | eval | accuracy: 0.09 | f1score: 0.10 | maccuracy: 0.77 | mf1score: 0.06 | runtime: 48.58 s \n",
            "  pipeline: RandomForest_tfidf_stem         | train | eval | accuracy: 0.09 | f1score: 0.11 | maccuracy: 0.78 | mf1score: 0.06 | runtime: 70.27 s \n",
            "  pipeline: RandomForest_count_lemma        | train | eval | accuracy: 0.09 | f1score: 0.12 | maccuracy: 0.77 | mf1score: 0.06 | runtime: 47.89 s \n",
            "  pipeline: RandomForest_count_stem         | train | eval | accuracy: 0.09 | f1score: 0.13 | maccuracy: 0.77 | mf1score: 0.06 | runtime: 69.60 s \n",
            "  pipeline: MRandomForest_tfidf_lemma       | train | eval | accuracy: 0.09 | f1score: 0.21 | maccuracy: 0.78 | mf1score: 0.10 | runtime: 132.01 s \n",
            "  pipeline: MRandomForest_tfidf_stem        | train | eval | accuracy: 0.10 | f1score: 0.23 | maccuracy: 0.78 | mf1score: 0.12 | runtime: 148.48 s \n",
            "  pipeline: MRandomForest_count_lemma       | train | eval | accuracy: 0.09 | f1score: 0.25 | maccuracy: 0.78 | mf1score: 0.14 | runtime: 133.51 s \n",
            "  pipeline: MRandomForest_count_stem        | train | eval | accuracy: 0.10 | f1score: 0.25 | maccuracy: 0.78 | mf1score: 0.14 | runtime: 145.04 s \n",
            "  pipeline: MMultinomialNB_tfidf_lemma      | train | eval | accuracy: 0.09 | f1score: 0.05 | maccuracy: 0.77 | mf1score: 0.02 | runtime: 15.04 s \n",
            "  pipeline: MMultinomialNB_tfidf_stem       | train | eval | accuracy: 0.09 | f1score: 0.05 | maccuracy: 0.77 | mf1score: 0.02 | runtime: 41.70 s \n",
            "  pipeline: MMultinomialNB_count_lemma      | train | eval | accuracy: 0.10 | f1score: 0.42 | maccuracy: 0.78 | mf1score: 0.29 | runtime: 15.09 s \n",
            "  pipeline: MMultinomialNB_count_stem       | train | eval | accuracy: 0.11 | f1score: 0.43 | maccuracy: 0.78 | mf1score: 0.30 | runtime: 41.84 s \n",
            "  pipeline: MGaussianNB_tfidf_lemma         | train | eval | accuracy: 0.04 | f1score: 0.32 | maccuracy: 0.67 | mf1score: 0.25 | runtime: 96.39 s \n",
            "  pipeline: MGaussianNB_tfidf_stem          | train | eval | accuracy: 0.04 | f1score: 0.34 | maccuracy: 0.64 | mf1score: 0.28 | runtime: 95.16 s \n",
            "  pipeline: MGaussianNB_count_lemma         | train | eval | accuracy: 0.04 | f1score: 0.33 | maccuracy: 0.67 | mf1score: 0.26 | runtime: 96.63 s \n",
            "  pipeline: MGaussianNB_count_stem          | train | eval | accuracy: 0.03 | f1score: 0.34 | maccuracy: 0.63 | mf1score: 0.28 | runtime: 101.25 s \n",
            "  pipeline: MLinearSVC_tfidf_lemma          | train | eval | accuracy: 0.12 | f1score: 0.43 | maccuracy: 0.79 | mf1score: 0.37 | runtime: 16.74 s \n",
            "  pipeline: MLinearSVC_tfidf_stem           | train | eval | accuracy: 0.13 | f1score: 0.44 | maccuracy: 0.79 | mf1score: 0.38 | runtime: 43.33 s \n",
            "  pipeline: MLinearSVC_count_lemma          | train | eval | accuracy: 0.08 | f1score: 0.43 | maccuracy: 0.75 | mf1score: 0.40 | runtime: 29.06 s \n",
            "  pipeline: MLinearSVC_count_stem           | train | eval | accuracy: 0.08 | f1score: 0.43 | maccuracy: 0.75 | mf1score: 0.40 | runtime: 53.45 s \n",
            "  pipeline: MLogisticRegression_tfidf_lemma | train | eval | accuracy: 0.12 | f1score: 0.32 | maccuracy: 0.79 | mf1score: 0.23 | runtime: 25.50 s \n",
            "  pipeline: MLogisticRegression_tfidf_stem  | train | eval | accuracy: 0.13 | f1score: 0.34 | maccuracy: 0.80 | mf1score: 0.25 | runtime: 49.95 s \n",
            "  pipeline: MLogisticRegression_count_lemma | train | eval | accuracy: 0.11 | f1score: 0.44 | maccuracy: 0.78 | mf1score: 0.40 | runtime: 36.72 s \n",
            "  pipeline: MLogisticRegression_count_stem  | train | eval | accuracy: 0.11 | f1score: 0.45 | maccuracy: 0.77 | mf1score: 0.40 | runtime: 58.90 s \n"
          ]
        }
      ]
    },
    {
      "cell_type": "markdown",
      "metadata": {
        "id": "rdjMWFPk7DpX"
      },
      "source": [
        "## 3.2 Resultados"
      ]
    },
    {
      "cell_type": "code",
      "metadata": {
        "id": "J3I0zHtH7GiV",
        "colab": {
          "base_uri": "https://localhost:8080/",
          "height": 196
        },
        "outputId": "14c665aa-880d-490c-ac80-75390d11dd18"
      },
      "source": [
        "# Lendo dicionários como dataframe\n",
        "resultsDF = pd.DataFrame.from_dict(results, orient='index')\n",
        "resultsDF.sample(3)"
      ],
      "execution_count": 69,
      "outputs": [
        {
          "output_type": "execute_result",
          "data": {
            "text/html": [
              "<div>\n",
              "<style scoped>\n",
              "    .dataframe tbody tr th:only-of-type {\n",
              "        vertical-align: middle;\n",
              "    }\n",
              "\n",
              "    .dataframe tbody tr th {\n",
              "        vertical-align: top;\n",
              "    }\n",
              "\n",
              "    .dataframe thead th {\n",
              "        text-align: right;\n",
              "    }\n",
              "</style>\n",
              "<table border=\"1\" class=\"dataframe\">\n",
              "  <thead>\n",
              "    <tr style=\"text-align: right;\">\n",
              "      <th></th>\n",
              "      <th>accuracy</th>\n",
              "      <th>f1score</th>\n",
              "      <th>maccuracy</th>\n",
              "      <th>mf1score</th>\n",
              "      <th>runtime</th>\n",
              "    </tr>\n",
              "  </thead>\n",
              "  <tbody>\n",
              "    <tr>\n",
              "      <th>MMultinomialNB_tfidf_lemma</th>\n",
              "      <td>0.087973</td>\n",
              "      <td>0.052972</td>\n",
              "      <td>[0.5738831615120275, 0.6951890034364261, 0.706...</td>\n",
              "      <td>[0.21219822109275732, 0.002249718785151856, 0....</td>\n",
              "      <td>15.041277</td>\n",
              "    </tr>\n",
              "    <tr>\n",
              "      <th>RandomForest_count_lemma</th>\n",
              "      <td>0.092440</td>\n",
              "      <td>0.116945</td>\n",
              "      <td>[0.5872852233676976, 0.7003436426116838, 0.705...</td>\n",
              "      <td>[0.34905149051490514, 0.052173913043478265, 0....</td>\n",
              "      <td>47.889495</td>\n",
              "    </tr>\n",
              "    <tr>\n",
              "      <th>MMultinomialNB_count_stem</th>\n",
              "      <td>0.106529</td>\n",
              "      <td>0.431652</td>\n",
              "      <td>[0.5879725085910653, 0.7103092783505155, 0.696...</td>\n",
              "      <td>[0.6059809398619783, 0.5135603000577035, 0.357...</td>\n",
              "      <td>41.835261</td>\n",
              "    </tr>\n",
              "  </tbody>\n",
              "</table>\n",
              "</div>"
            ],
            "text/plain": [
              "                            accuracy  ...    runtime\n",
              "MMultinomialNB_tfidf_lemma  0.087973  ...  15.041277\n",
              "RandomForest_count_lemma    0.092440  ...  47.889495\n",
              "MMultinomialNB_count_stem   0.106529  ...  41.835261\n",
              "\n",
              "[3 rows x 5 columns]"
            ]
          },
          "metadata": {},
          "execution_count": 69
        }
      ]
    },
    {
      "cell_type": "code",
      "metadata": {
        "id": "MSpxHSRomKiy",
        "colab": {
          "base_uri": "https://localhost:8080/",
          "height": 268
        },
        "outputId": "15fa3205-e0cf-4dad-87a8-06303b02ac6c"
      },
      "source": [
        "# Calculando métricas dos scores multioutput\n",
        "resultsDF['macc_mean'] = resultsDF.maccuracy.apply(np.mean)\n",
        "resultsDF['macc_min'] =  resultsDF.maccuracy.apply(np.min)\n",
        "resultsDF['macc_max'] =  resultsDF.maccuracy.apply(np.max)\n",
        "resultsDF['macc_std'] =  resultsDF.maccuracy.apply(np.std)\n",
        "\n",
        "resultsDF['mf1_mean'] = resultsDF.mf1score.apply(np.mean)\n",
        "resultsDF['mf1_min'] =  resultsDF.mf1score.apply(np.min)\n",
        "resultsDF['mf1_max'] =  resultsDF.mf1score.apply(np.max)\n",
        "resultsDF['mf1_std'] =  resultsDF.mf1score.apply(np.std)\n",
        "resultsDF.sample(3)"
      ],
      "execution_count": 70,
      "outputs": [
        {
          "output_type": "execute_result",
          "data": {
            "text/html": [
              "<div>\n",
              "<style scoped>\n",
              "    .dataframe tbody tr th:only-of-type {\n",
              "        vertical-align: middle;\n",
              "    }\n",
              "\n",
              "    .dataframe tbody tr th {\n",
              "        vertical-align: top;\n",
              "    }\n",
              "\n",
              "    .dataframe thead th {\n",
              "        text-align: right;\n",
              "    }\n",
              "</style>\n",
              "<table border=\"1\" class=\"dataframe\">\n",
              "  <thead>\n",
              "    <tr style=\"text-align: right;\">\n",
              "      <th></th>\n",
              "      <th>accuracy</th>\n",
              "      <th>f1score</th>\n",
              "      <th>maccuracy</th>\n",
              "      <th>mf1score</th>\n",
              "      <th>runtime</th>\n",
              "      <th>macc_mean</th>\n",
              "      <th>macc_min</th>\n",
              "      <th>macc_max</th>\n",
              "      <th>macc_std</th>\n",
              "      <th>mf1_mean</th>\n",
              "      <th>mf1_min</th>\n",
              "      <th>mf1_max</th>\n",
              "      <th>mf1_std</th>\n",
              "    </tr>\n",
              "  </thead>\n",
              "  <tbody>\n",
              "    <tr>\n",
              "      <th>MLinearSVC_tfidf_lemma</th>\n",
              "      <td>0.119244</td>\n",
              "      <td>0.430396</td>\n",
              "      <td>[0.6054982817869415, 0.7474226804123711, 0.715...</td>\n",
              "      <td>[0.5422647527910686, 0.5180327868852458, 0.392...</td>\n",
              "      <td>16.738151</td>\n",
              "      <td>0.790493</td>\n",
              "      <td>0.605498</td>\n",
              "      <td>0.903436</td>\n",
              "      <td>0.090175</td>\n",
              "      <td>0.368829</td>\n",
              "      <td>0.163993</td>\n",
              "      <td>0.542265</td>\n",
              "      <td>0.119940</td>\n",
              "    </tr>\n",
              "    <tr>\n",
              "      <th>MRandomForest_tfidf_lemma</th>\n",
              "      <td>0.089003</td>\n",
              "      <td>0.207180</td>\n",
              "      <td>[0.6065292096219931, 0.722680412371134, 0.7079...</td>\n",
              "      <td>[0.49934411893310016, 0.22627037392138066, 0.0...</td>\n",
              "      <td>132.014356</td>\n",
              "      <td>0.779076</td>\n",
              "      <td>0.606529</td>\n",
              "      <td>0.891065</td>\n",
              "      <td>0.089770</td>\n",
              "      <td>0.103564</td>\n",
              "      <td>0.000000</td>\n",
              "      <td>0.499344</td>\n",
              "      <td>0.153906</td>\n",
              "    </tr>\n",
              "    <tr>\n",
              "      <th>MRandomForest_tfidf_stem</th>\n",
              "      <td>0.096907</td>\n",
              "      <td>0.226272</td>\n",
              "      <td>[0.6164948453608248, 0.7278350515463917, 0.709...</td>\n",
              "      <td>[0.5214408233276158, 0.2693726937269373, 0.040...</td>\n",
              "      <td>148.483191</td>\n",
              "      <td>0.781176</td>\n",
              "      <td>0.616495</td>\n",
              "      <td>0.891409</td>\n",
              "      <td>0.086984</td>\n",
              "      <td>0.115281</td>\n",
              "      <td>0.000000</td>\n",
              "      <td>0.521441</td>\n",
              "      <td>0.162629</td>\n",
              "    </tr>\n",
              "  </tbody>\n",
              "</table>\n",
              "</div>"
            ],
            "text/plain": [
              "                           accuracy   f1score  ...   mf1_max   mf1_std\n",
              "MLinearSVC_tfidf_lemma     0.119244  0.430396  ...  0.542265  0.119940\n",
              "MRandomForest_tfidf_lemma  0.089003  0.207180  ...  0.499344  0.153906\n",
              "MRandomForest_tfidf_stem   0.096907  0.226272  ...  0.521441  0.162629\n",
              "\n",
              "[3 rows x 13 columns]"
            ]
          },
          "metadata": {},
          "execution_count": 70
        }
      ]
    },
    {
      "cell_type": "code",
      "metadata": {
        "id": "naPCM2y57dHl",
        "colab": {
          "base_uri": "https://localhost:8080/",
          "height": 802
        },
        "outputId": "58126f83-0792-434a-b2c2-39700c878420"
      },
      "source": [
        "# Pipelines organizados por melhor acurácia média\n",
        "resultsDF.drop(['maccuracy','mf1score'],1).sort_values(by='macc_mean', ascending=False)"
      ],
      "execution_count": 71,
      "outputs": [
        {
          "output_type": "execute_result",
          "data": {
            "text/html": [
              "<div>\n",
              "<style scoped>\n",
              "    .dataframe tbody tr th:only-of-type {\n",
              "        vertical-align: middle;\n",
              "    }\n",
              "\n",
              "    .dataframe tbody tr th {\n",
              "        vertical-align: top;\n",
              "    }\n",
              "\n",
              "    .dataframe thead th {\n",
              "        text-align: right;\n",
              "    }\n",
              "</style>\n",
              "<table border=\"1\" class=\"dataframe\">\n",
              "  <thead>\n",
              "    <tr style=\"text-align: right;\">\n",
              "      <th></th>\n",
              "      <th>accuracy</th>\n",
              "      <th>f1score</th>\n",
              "      <th>runtime</th>\n",
              "      <th>macc_mean</th>\n",
              "      <th>macc_min</th>\n",
              "      <th>macc_max</th>\n",
              "      <th>macc_std</th>\n",
              "      <th>mf1_mean</th>\n",
              "      <th>mf1_min</th>\n",
              "      <th>mf1_max</th>\n",
              "      <th>mf1_std</th>\n",
              "    </tr>\n",
              "  </thead>\n",
              "  <tbody>\n",
              "    <tr>\n",
              "      <th>MLogisticRegression_tfidf_stem</th>\n",
              "      <td>0.125773</td>\n",
              "      <td>0.344819</td>\n",
              "      <td>49.949044</td>\n",
              "      <td>0.796716</td>\n",
              "      <td>0.637457</td>\n",
              "      <td>0.894502</td>\n",
              "      <td>0.079007</td>\n",
              "      <td>0.248962</td>\n",
              "      <td>0.017241</td>\n",
              "      <td>0.544276</td>\n",
              "      <td>0.163035</td>\n",
              "    </tr>\n",
              "    <tr>\n",
              "      <th>MLogisticRegression_tfidf_lemma</th>\n",
              "      <td>0.120275</td>\n",
              "      <td>0.324392</td>\n",
              "      <td>25.497506</td>\n",
              "      <td>0.794196</td>\n",
              "      <td>0.628866</td>\n",
              "      <td>0.894502</td>\n",
              "      <td>0.081006</td>\n",
              "      <td>0.227327</td>\n",
              "      <td>0.000000</td>\n",
              "      <td>0.528796</td>\n",
              "      <td>0.164244</td>\n",
              "    </tr>\n",
              "    <tr>\n",
              "      <th>MLinearSVC_tfidf_stem</th>\n",
              "      <td>0.129210</td>\n",
              "      <td>0.442521</td>\n",
              "      <td>43.325091</td>\n",
              "      <td>0.790951</td>\n",
              "      <td>0.612371</td>\n",
              "      <td>0.901031</td>\n",
              "      <td>0.087884</td>\n",
              "      <td>0.384261</td>\n",
              "      <td>0.206430</td>\n",
              "      <td>0.555205</td>\n",
              "      <td>0.110786</td>\n",
              "    </tr>\n",
              "    <tr>\n",
              "      <th>MLinearSVC_tfidf_lemma</th>\n",
              "      <td>0.119244</td>\n",
              "      <td>0.430396</td>\n",
              "      <td>16.738151</td>\n",
              "      <td>0.790493</td>\n",
              "      <td>0.605498</td>\n",
              "      <td>0.903436</td>\n",
              "      <td>0.090175</td>\n",
              "      <td>0.368829</td>\n",
              "      <td>0.163993</td>\n",
              "      <td>0.542265</td>\n",
              "      <td>0.119940</td>\n",
              "    </tr>\n",
              "    <tr>\n",
              "      <th>MRandomForest_tfidf_stem</th>\n",
              "      <td>0.096907</td>\n",
              "      <td>0.226272</td>\n",
              "      <td>148.483191</td>\n",
              "      <td>0.781176</td>\n",
              "      <td>0.616495</td>\n",
              "      <td>0.891409</td>\n",
              "      <td>0.086984</td>\n",
              "      <td>0.115281</td>\n",
              "      <td>0.000000</td>\n",
              "      <td>0.521441</td>\n",
              "      <td>0.162629</td>\n",
              "    </tr>\n",
              "    <tr>\n",
              "      <th>MRandomForest_count_stem</th>\n",
              "      <td>0.097251</td>\n",
              "      <td>0.251725</td>\n",
              "      <td>145.042750</td>\n",
              "      <td>0.780489</td>\n",
              "      <td>0.604467</td>\n",
              "      <td>0.890722</td>\n",
              "      <td>0.089388</td>\n",
              "      <td>0.144693</td>\n",
              "      <td>0.011869</td>\n",
              "      <td>0.518611</td>\n",
              "      <td>0.159839</td>\n",
              "    </tr>\n",
              "    <tr>\n",
              "      <th>MRandomForest_tfidf_lemma</th>\n",
              "      <td>0.089003</td>\n",
              "      <td>0.207180</td>\n",
              "      <td>132.014356</td>\n",
              "      <td>0.779076</td>\n",
              "      <td>0.606529</td>\n",
              "      <td>0.891065</td>\n",
              "      <td>0.089770</td>\n",
              "      <td>0.103564</td>\n",
              "      <td>0.000000</td>\n",
              "      <td>0.499344</td>\n",
              "      <td>0.153906</td>\n",
              "    </tr>\n",
              "    <tr>\n",
              "      <th>MRandomForest_count_lemma</th>\n",
              "      <td>0.086598</td>\n",
              "      <td>0.247278</td>\n",
              "      <td>133.512999</td>\n",
              "      <td>0.778236</td>\n",
              "      <td>0.594845</td>\n",
              "      <td>0.891409</td>\n",
              "      <td>0.091748</td>\n",
              "      <td>0.140475</td>\n",
              "      <td>0.005952</td>\n",
              "      <td>0.514215</td>\n",
              "      <td>0.157677</td>\n",
              "    </tr>\n",
              "    <tr>\n",
              "      <th>MMultinomialNB_count_stem</th>\n",
              "      <td>0.106529</td>\n",
              "      <td>0.431652</td>\n",
              "      <td>41.835261</td>\n",
              "      <td>0.777587</td>\n",
              "      <td>0.587973</td>\n",
              "      <td>0.883162</td>\n",
              "      <td>0.092140</td>\n",
              "      <td>0.304912</td>\n",
              "      <td>0.017341</td>\n",
              "      <td>0.605981</td>\n",
              "      <td>0.198582</td>\n",
              "    </tr>\n",
              "    <tr>\n",
              "      <th>MMultinomialNB_count_lemma</th>\n",
              "      <td>0.098969</td>\n",
              "      <td>0.421574</td>\n",
              "      <td>15.089371</td>\n",
              "      <td>0.777243</td>\n",
              "      <td>0.579038</td>\n",
              "      <td>0.885223</td>\n",
              "      <td>0.094744</td>\n",
              "      <td>0.289209</td>\n",
              "      <td>0.017341</td>\n",
              "      <td>0.605475</td>\n",
              "      <td>0.199151</td>\n",
              "    </tr>\n",
              "    <tr>\n",
              "      <th>MLogisticRegression_count_lemma</th>\n",
              "      <td>0.105155</td>\n",
              "      <td>0.439080</td>\n",
              "      <td>36.720865</td>\n",
              "      <td>0.775525</td>\n",
              "      <td>0.591409</td>\n",
              "      <td>0.896907</td>\n",
              "      <td>0.092458</td>\n",
              "      <td>0.397856</td>\n",
              "      <td>0.258621</td>\n",
              "      <td>0.531705</td>\n",
              "      <td>0.091625</td>\n",
              "    </tr>\n",
              "    <tr>\n",
              "      <th>RandomForest_tfidf_stem</th>\n",
              "      <td>0.089347</td>\n",
              "      <td>0.110541</td>\n",
              "      <td>70.266504</td>\n",
              "      <td>0.775105</td>\n",
              "      <td>0.597595</td>\n",
              "      <td>0.890378</td>\n",
              "      <td>0.093215</td>\n",
              "      <td>0.056886</td>\n",
              "      <td>0.000000</td>\n",
              "      <td>0.339538</td>\n",
              "      <td>0.102333</td>\n",
              "    </tr>\n",
              "    <tr>\n",
              "      <th>RandomForest_count_stem</th>\n",
              "      <td>0.087629</td>\n",
              "      <td>0.129042</td>\n",
              "      <td>69.597014</td>\n",
              "      <td>0.774761</td>\n",
              "      <td>0.594502</td>\n",
              "      <td>0.890034</td>\n",
              "      <td>0.094040</td>\n",
              "      <td>0.063716</td>\n",
              "      <td>0.000000</td>\n",
              "      <td>0.384776</td>\n",
              "      <td>0.116146</td>\n",
              "    </tr>\n",
              "    <tr>\n",
              "      <th>RandomForest_tfidf_lemma</th>\n",
              "      <td>0.090722</td>\n",
              "      <td>0.103939</td>\n",
              "      <td>48.581931</td>\n",
              "      <td>0.774189</td>\n",
              "      <td>0.584536</td>\n",
              "      <td>0.890378</td>\n",
              "      <td>0.095992</td>\n",
              "      <td>0.057656</td>\n",
              "      <td>0.000000</td>\n",
              "      <td>0.302366</td>\n",
              "      <td>0.091432</td>\n",
              "    </tr>\n",
              "    <tr>\n",
              "      <th>RandomForest_count_lemma</th>\n",
              "      <td>0.092440</td>\n",
              "      <td>0.116945</td>\n",
              "      <td>47.889495</td>\n",
              "      <td>0.773960</td>\n",
              "      <td>0.587285</td>\n",
              "      <td>0.890378</td>\n",
              "      <td>0.095823</td>\n",
              "      <td>0.061219</td>\n",
              "      <td>0.000000</td>\n",
              "      <td>0.349051</td>\n",
              "      <td>0.105069</td>\n",
              "    </tr>\n",
              "    <tr>\n",
              "      <th>MLogisticRegression_count_stem</th>\n",
              "      <td>0.110309</td>\n",
              "      <td>0.446392</td>\n",
              "      <td>58.904298</td>\n",
              "      <td>0.773272</td>\n",
              "      <td>0.596907</td>\n",
              "      <td>0.887285</td>\n",
              "      <td>0.087137</td>\n",
              "      <td>0.404069</td>\n",
              "      <td>0.283401</td>\n",
              "      <td>0.541976</td>\n",
              "      <td>0.089424</td>\n",
              "    </tr>\n",
              "    <tr>\n",
              "      <th>MMultinomialNB_tfidf_stem</th>\n",
              "      <td>0.091065</td>\n",
              "      <td>0.053422</td>\n",
              "      <td>41.702561</td>\n",
              "      <td>0.771325</td>\n",
              "      <td>0.579725</td>\n",
              "      <td>0.890034</td>\n",
              "      <td>0.097746</td>\n",
              "      <td>0.024334</td>\n",
              "      <td>0.000000</td>\n",
              "      <td>0.214515</td>\n",
              "      <td>0.067254</td>\n",
              "    </tr>\n",
              "    <tr>\n",
              "      <th>MMultinomialNB_tfidf_lemma</th>\n",
              "      <td>0.087973</td>\n",
              "      <td>0.052972</td>\n",
              "      <td>15.041277</td>\n",
              "      <td>0.770638</td>\n",
              "      <td>0.573883</td>\n",
              "      <td>0.890034</td>\n",
              "      <td>0.099056</td>\n",
              "      <td>0.023828</td>\n",
              "      <td>0.000000</td>\n",
              "      <td>0.212198</td>\n",
              "      <td>0.066603</td>\n",
              "    </tr>\n",
              "    <tr>\n",
              "      <th>MLinearSVC_count_lemma</th>\n",
              "      <td>0.076289</td>\n",
              "      <td>0.434790</td>\n",
              "      <td>29.058336</td>\n",
              "      <td>0.752616</td>\n",
              "      <td>0.574227</td>\n",
              "      <td>0.875258</td>\n",
              "      <td>0.090967</td>\n",
              "      <td>0.398899</td>\n",
              "      <td>0.266507</td>\n",
              "      <td>0.518086</td>\n",
              "      <td>0.087023</td>\n",
              "    </tr>\n",
              "    <tr>\n",
              "      <th>MLinearSVC_count_stem</th>\n",
              "      <td>0.081100</td>\n",
              "      <td>0.433058</td>\n",
              "      <td>53.451212</td>\n",
              "      <td>0.745666</td>\n",
              "      <td>0.574227</td>\n",
              "      <td>0.862887</td>\n",
              "      <td>0.087513</td>\n",
              "      <td>0.395537</td>\n",
              "      <td>0.254902</td>\n",
              "      <td>0.524741</td>\n",
              "      <td>0.089991</td>\n",
              "    </tr>\n",
              "    <tr>\n",
              "      <th>MGaussianNB_tfidf_lemma</th>\n",
              "      <td>0.038488</td>\n",
              "      <td>0.316496</td>\n",
              "      <td>96.390613</td>\n",
              "      <td>0.673463</td>\n",
              "      <td>0.520962</td>\n",
              "      <td>0.822680</td>\n",
              "      <td>0.111262</td>\n",
              "      <td>0.250923</td>\n",
              "      <td>0.094737</td>\n",
              "      <td>0.505674</td>\n",
              "      <td>0.128817</td>\n",
              "    </tr>\n",
              "    <tr>\n",
              "      <th>MGaussianNB_count_lemma</th>\n",
              "      <td>0.038144</td>\n",
              "      <td>0.329192</td>\n",
              "      <td>96.625451</td>\n",
              "      <td>0.668079</td>\n",
              "      <td>0.509622</td>\n",
              "      <td>0.821993</td>\n",
              "      <td>0.115000</td>\n",
              "      <td>0.256609</td>\n",
              "      <td>0.094406</td>\n",
              "      <td>0.528576</td>\n",
              "      <td>0.135941</td>\n",
              "    </tr>\n",
              "    <tr>\n",
              "      <th>MGaussianNB_tfidf_stem</th>\n",
              "      <td>0.035739</td>\n",
              "      <td>0.336008</td>\n",
              "      <td>95.163570</td>\n",
              "      <td>0.642955</td>\n",
              "      <td>0.502749</td>\n",
              "      <td>0.794502</td>\n",
              "      <td>0.106639</td>\n",
              "      <td>0.277754</td>\n",
              "      <td>0.130814</td>\n",
              "      <td>0.526813</td>\n",
              "      <td>0.126518</td>\n",
              "    </tr>\n",
              "    <tr>\n",
              "      <th>MGaussianNB_count_stem</th>\n",
              "      <td>0.032302</td>\n",
              "      <td>0.343225</td>\n",
              "      <td>101.249795</td>\n",
              "      <td>0.634097</td>\n",
              "      <td>0.482131</td>\n",
              "      <td>0.792096</td>\n",
              "      <td>0.112370</td>\n",
              "      <td>0.280718</td>\n",
              "      <td>0.129496</td>\n",
              "      <td>0.538873</td>\n",
              "      <td>0.130420</td>\n",
              "    </tr>\n",
              "  </tbody>\n",
              "</table>\n",
              "</div>"
            ],
            "text/plain": [
              "                                 accuracy   f1score  ...   mf1_max   mf1_std\n",
              "MLogisticRegression_tfidf_stem   0.125773  0.344819  ...  0.544276  0.163035\n",
              "MLogisticRegression_tfidf_lemma  0.120275  0.324392  ...  0.528796  0.164244\n",
              "MLinearSVC_tfidf_stem            0.129210  0.442521  ...  0.555205  0.110786\n",
              "MLinearSVC_tfidf_lemma           0.119244  0.430396  ...  0.542265  0.119940\n",
              "MRandomForest_tfidf_stem         0.096907  0.226272  ...  0.521441  0.162629\n",
              "MRandomForest_count_stem         0.097251  0.251725  ...  0.518611  0.159839\n",
              "MRandomForest_tfidf_lemma        0.089003  0.207180  ...  0.499344  0.153906\n",
              "MRandomForest_count_lemma        0.086598  0.247278  ...  0.514215  0.157677\n",
              "MMultinomialNB_count_stem        0.106529  0.431652  ...  0.605981  0.198582\n",
              "MMultinomialNB_count_lemma       0.098969  0.421574  ...  0.605475  0.199151\n",
              "MLogisticRegression_count_lemma  0.105155  0.439080  ...  0.531705  0.091625\n",
              "RandomForest_tfidf_stem          0.089347  0.110541  ...  0.339538  0.102333\n",
              "RandomForest_count_stem          0.087629  0.129042  ...  0.384776  0.116146\n",
              "RandomForest_tfidf_lemma         0.090722  0.103939  ...  0.302366  0.091432\n",
              "RandomForest_count_lemma         0.092440  0.116945  ...  0.349051  0.105069\n",
              "MLogisticRegression_count_stem   0.110309  0.446392  ...  0.541976  0.089424\n",
              "MMultinomialNB_tfidf_stem        0.091065  0.053422  ...  0.214515  0.067254\n",
              "MMultinomialNB_tfidf_lemma       0.087973  0.052972  ...  0.212198  0.066603\n",
              "MLinearSVC_count_lemma           0.076289  0.434790  ...  0.518086  0.087023\n",
              "MLinearSVC_count_stem            0.081100  0.433058  ...  0.524741  0.089991\n",
              "MGaussianNB_tfidf_lemma          0.038488  0.316496  ...  0.505674  0.128817\n",
              "MGaussianNB_count_lemma          0.038144  0.329192  ...  0.528576  0.135941\n",
              "MGaussianNB_tfidf_stem           0.035739  0.336008  ...  0.526813  0.126518\n",
              "MGaussianNB_count_stem           0.032302  0.343225  ...  0.538873  0.130420\n",
              "\n",
              "[24 rows x 11 columns]"
            ]
          },
          "metadata": {},
          "execution_count": 71
        }
      ]
    },
    {
      "cell_type": "code",
      "metadata": {
        "id": "6GClmeIsEVHF",
        "colab": {
          "base_uri": "https://localhost:8080/",
          "height": 135
        },
        "outputId": "d0447a4f-a38e-4932-acc1-320775f6364c"
      },
      "source": [
        "# Analisando elementos dos pipelines\n",
        "lss = list(map(lambda x: x.split('_'), resultsDF.index))\n",
        "resultsDF['clf'], resultsDF['vect'], resultsDF['lemma_stem'] = zip(*lss)\n",
        "resultsDF.sample()"
      ],
      "execution_count": 72,
      "outputs": [
        {
          "output_type": "execute_result",
          "data": {
            "text/html": [
              "<div>\n",
              "<style scoped>\n",
              "    .dataframe tbody tr th:only-of-type {\n",
              "        vertical-align: middle;\n",
              "    }\n",
              "\n",
              "    .dataframe tbody tr th {\n",
              "        vertical-align: top;\n",
              "    }\n",
              "\n",
              "    .dataframe thead th {\n",
              "        text-align: right;\n",
              "    }\n",
              "</style>\n",
              "<table border=\"1\" class=\"dataframe\">\n",
              "  <thead>\n",
              "    <tr style=\"text-align: right;\">\n",
              "      <th></th>\n",
              "      <th>accuracy</th>\n",
              "      <th>f1score</th>\n",
              "      <th>maccuracy</th>\n",
              "      <th>mf1score</th>\n",
              "      <th>runtime</th>\n",
              "      <th>macc_mean</th>\n",
              "      <th>macc_min</th>\n",
              "      <th>macc_max</th>\n",
              "      <th>macc_std</th>\n",
              "      <th>mf1_mean</th>\n",
              "      <th>mf1_min</th>\n",
              "      <th>mf1_max</th>\n",
              "      <th>mf1_std</th>\n",
              "      <th>clf</th>\n",
              "      <th>vect</th>\n",
              "      <th>lemma_stem</th>\n",
              "    </tr>\n",
              "  </thead>\n",
              "  <tbody>\n",
              "    <tr>\n",
              "      <th>MMultinomialNB_count_stem</th>\n",
              "      <td>0.106529</td>\n",
              "      <td>0.431652</td>\n",
              "      <td>[0.5879725085910653, 0.7103092783505155, 0.696...</td>\n",
              "      <td>[0.6059809398619783, 0.5135603000577035, 0.357...</td>\n",
              "      <td>41.835261</td>\n",
              "      <td>0.777587</td>\n",
              "      <td>0.587973</td>\n",
              "      <td>0.883162</td>\n",
              "      <td>0.09214</td>\n",
              "      <td>0.304912</td>\n",
              "      <td>0.017341</td>\n",
              "      <td>0.605981</td>\n",
              "      <td>0.198582</td>\n",
              "      <td>MMultinomialNB</td>\n",
              "      <td>count</td>\n",
              "      <td>stem</td>\n",
              "    </tr>\n",
              "  </tbody>\n",
              "</table>\n",
              "</div>"
            ],
            "text/plain": [
              "                           accuracy   f1score  ...   vect lemma_stem\n",
              "MMultinomialNB_count_stem  0.106529  0.431652  ...  count       stem\n",
              "\n",
              "[1 rows x 16 columns]"
            ]
          },
          "metadata": {},
          "execution_count": 72
        }
      ]
    },
    {
      "cell_type": "code",
      "metadata": {
        "id": "-DBoBtf4FexF",
        "colab": {
          "base_uri": "https://localhost:8080/",
          "height": 269
        },
        "outputId": "be7efdd6-d506-4e82-d4a6-3bc311afd836"
      },
      "source": [
        "# Agrupando por classificador\n",
        "agg_map = {\n",
        "    'accuracy':'mean',\n",
        "    'f1score':'mean',\n",
        "    'runtime':'mean',\n",
        "    'macc_mean':'mean',\n",
        "    'mf1_mean':'mean',\n",
        "}\n",
        "resultsDF.dropna(subset=['accuracy'])\\\n",
        "    .groupby(['clf']).agg(agg_map).sort_values(by='macc_mean', ascending=False)"
      ],
      "execution_count": 73,
      "outputs": [
        {
          "output_type": "execute_result",
          "data": {
            "text/html": [
              "<div>\n",
              "<style scoped>\n",
              "    .dataframe tbody tr th:only-of-type {\n",
              "        vertical-align: middle;\n",
              "    }\n",
              "\n",
              "    .dataframe tbody tr th {\n",
              "        vertical-align: top;\n",
              "    }\n",
              "\n",
              "    .dataframe thead th {\n",
              "        text-align: right;\n",
              "    }\n",
              "</style>\n",
              "<table border=\"1\" class=\"dataframe\">\n",
              "  <thead>\n",
              "    <tr style=\"text-align: right;\">\n",
              "      <th></th>\n",
              "      <th>accuracy</th>\n",
              "      <th>f1score</th>\n",
              "      <th>runtime</th>\n",
              "      <th>macc_mean</th>\n",
              "      <th>mf1_mean</th>\n",
              "    </tr>\n",
              "    <tr>\n",
              "      <th>clf</th>\n",
              "      <th></th>\n",
              "      <th></th>\n",
              "      <th></th>\n",
              "      <th></th>\n",
              "      <th></th>\n",
              "    </tr>\n",
              "  </thead>\n",
              "  <tbody>\n",
              "    <tr>\n",
              "      <th>MLogisticRegression</th>\n",
              "      <td>0.115378</td>\n",
              "      <td>0.388671</td>\n",
              "      <td>42.767928</td>\n",
              "      <td>0.784927</td>\n",
              "      <td>0.319553</td>\n",
              "    </tr>\n",
              "    <tr>\n",
              "      <th>MRandomForest</th>\n",
              "      <td>0.092440</td>\n",
              "      <td>0.233114</td>\n",
              "      <td>139.763324</td>\n",
              "      <td>0.779744</td>\n",
              "      <td>0.126003</td>\n",
              "    </tr>\n",
              "    <tr>\n",
              "      <th>RandomForest</th>\n",
              "      <td>0.090034</td>\n",
              "      <td>0.115117</td>\n",
              "      <td>59.083736</td>\n",
              "      <td>0.774504</td>\n",
              "      <td>0.059869</td>\n",
              "    </tr>\n",
              "    <tr>\n",
              "      <th>MMultinomialNB</th>\n",
              "      <td>0.096134</td>\n",
              "      <td>0.239905</td>\n",
              "      <td>28.417118</td>\n",
              "      <td>0.774198</td>\n",
              "      <td>0.160571</td>\n",
              "    </tr>\n",
              "    <tr>\n",
              "      <th>MLinearSVC</th>\n",
              "      <td>0.101460</td>\n",
              "      <td>0.435191</td>\n",
              "      <td>35.643198</td>\n",
              "      <td>0.769931</td>\n",
              "      <td>0.386881</td>\n",
              "    </tr>\n",
              "    <tr>\n",
              "      <th>MGaussianNB</th>\n",
              "      <td>0.036168</td>\n",
              "      <td>0.331230</td>\n",
              "      <td>97.357357</td>\n",
              "      <td>0.654649</td>\n",
              "      <td>0.266501</td>\n",
              "    </tr>\n",
              "  </tbody>\n",
              "</table>\n",
              "</div>"
            ],
            "text/plain": [
              "                     accuracy   f1score     runtime  macc_mean  mf1_mean\n",
              "clf                                                                     \n",
              "MLogisticRegression  0.115378  0.388671   42.767928   0.784927  0.319553\n",
              "MRandomForest        0.092440  0.233114  139.763324   0.779744  0.126003\n",
              "RandomForest         0.090034  0.115117   59.083736   0.774504  0.059869\n",
              "MMultinomialNB       0.096134  0.239905   28.417118   0.774198  0.160571\n",
              "MLinearSVC           0.101460  0.435191   35.643198   0.769931  0.386881\n",
              "MGaussianNB          0.036168  0.331230   97.357357   0.654649  0.266501"
            ]
          },
          "metadata": {},
          "execution_count": 73
        }
      ]
    },
    {
      "cell_type": "code",
      "metadata": {
        "id": "1JB3AwWZHyUB",
        "colab": {
          "base_uri": "https://localhost:8080/",
          "height": 143
        },
        "outputId": "480b1089-9c86-4e1e-899f-552a3ea716a8"
      },
      "source": [
        "# Agrupando por vetorizador\n",
        "resultsDF.dropna(subset=['accuracy'])\\\n",
        "    .groupby(['vect']).agg(agg_map).sort_values(by='macc_mean', ascending=False)"
      ],
      "execution_count": 74,
      "outputs": [
        {
          "output_type": "execute_result",
          "data": {
            "text/html": [
              "<div>\n",
              "<style scoped>\n",
              "    .dataframe tbody tr th:only-of-type {\n",
              "        vertical-align: middle;\n",
              "    }\n",
              "\n",
              "    .dataframe tbody tr th {\n",
              "        vertical-align: top;\n",
              "    }\n",
              "\n",
              "    .dataframe thead th {\n",
              "        text-align: right;\n",
              "    }\n",
              "</style>\n",
              "<table border=\"1\" class=\"dataframe\">\n",
              "  <thead>\n",
              "    <tr style=\"text-align: right;\">\n",
              "      <th></th>\n",
              "      <th>accuracy</th>\n",
              "      <th>f1score</th>\n",
              "      <th>runtime</th>\n",
              "      <th>macc_mean</th>\n",
              "      <th>mf1_mean</th>\n",
              "    </tr>\n",
              "    <tr>\n",
              "      <th>vect</th>\n",
              "      <th></th>\n",
              "      <th></th>\n",
              "      <th></th>\n",
              "      <th></th>\n",
              "      <th></th>\n",
              "    </tr>\n",
              "  </thead>\n",
              "  <tbody>\n",
              "    <tr>\n",
              "      <th>tfidf</th>\n",
              "      <td>0.092812</td>\n",
              "      <td>0.245747</td>\n",
              "      <td>65.262816</td>\n",
              "      <td>0.761690</td>\n",
              "      <td>0.178300</td>\n",
              "    </tr>\n",
              "    <tr>\n",
              "      <th>count</th>\n",
              "      <td>0.084393</td>\n",
              "      <td>0.335330</td>\n",
              "      <td>69.081404</td>\n",
              "      <td>0.750961</td>\n",
              "      <td>0.261493</td>\n",
              "    </tr>\n",
              "  </tbody>\n",
              "</table>\n",
              "</div>"
            ],
            "text/plain": [
              "       accuracy   f1score    runtime  macc_mean  mf1_mean\n",
              "vect                                                     \n",
              "tfidf  0.092812  0.245747  65.262816   0.761690  0.178300\n",
              "count  0.084393  0.335330  69.081404   0.750961  0.261493"
            ]
          },
          "metadata": {},
          "execution_count": 74
        }
      ]
    },
    {
      "cell_type": "code",
      "metadata": {
        "id": "8ei4kAalH8ep",
        "colab": {
          "base_uri": "https://localhost:8080/",
          "height": 143
        },
        "outputId": "e646489c-ba22-486f-8806-b628dc85d7ac"
      },
      "source": [
        "# Agrupando por lemma/stem\n",
        "resultsDF.dropna(subset=['accuracy'])\\\n",
        "    .groupby(['lemma_stem']).agg(agg_map).sort_values(by='macc_mean', ascending=False)"
      ],
      "execution_count": 75,
      "outputs": [
        {
          "output_type": "execute_result",
          "data": {
            "text/html": [
              "<div>\n",
              "<style scoped>\n",
              "    .dataframe tbody tr th:only-of-type {\n",
              "        vertical-align: middle;\n",
              "    }\n",
              "\n",
              "    .dataframe tbody tr th {\n",
              "        vertical-align: top;\n",
              "    }\n",
              "\n",
              "    .dataframe thead th {\n",
              "        text-align: right;\n",
              "    }\n",
              "</style>\n",
              "<table border=\"1\" class=\"dataframe\">\n",
              "  <thead>\n",
              "    <tr style=\"text-align: right;\">\n",
              "      <th></th>\n",
              "      <th>accuracy</th>\n",
              "      <th>f1score</th>\n",
              "      <th>runtime</th>\n",
              "      <th>macc_mean</th>\n",
              "      <th>mf1_mean</th>\n",
              "    </tr>\n",
              "    <tr>\n",
              "      <th>lemma_stem</th>\n",
              "      <th></th>\n",
              "      <th></th>\n",
              "      <th></th>\n",
              "      <th></th>\n",
              "      <th></th>\n",
              "    </tr>\n",
              "  </thead>\n",
              "  <tbody>\n",
              "    <tr>\n",
              "      <th>lemma</th>\n",
              "      <td>0.086942</td>\n",
              "      <td>0.285353</td>\n",
              "      <td>57.763363</td>\n",
              "      <td>0.758976</td>\n",
              "      <td>0.214699</td>\n",
              "    </tr>\n",
              "    <tr>\n",
              "      <th>stem</th>\n",
              "      <td>0.090263</td>\n",
              "      <td>0.295723</td>\n",
              "      <td>76.580858</td>\n",
              "      <td>0.753675</td>\n",
              "      <td>0.225094</td>\n",
              "    </tr>\n",
              "  </tbody>\n",
              "</table>\n",
              "</div>"
            ],
            "text/plain": [
              "            accuracy   f1score    runtime  macc_mean  mf1_mean\n",
              "lemma_stem                                                    \n",
              "lemma       0.086942  0.285353  57.763363   0.758976  0.214699\n",
              "stem        0.090263  0.295723  76.580858   0.753675  0.225094"
            ]
          },
          "metadata": {},
          "execution_count": 75
        }
      ]
    },
    {
      "cell_type": "code",
      "metadata": {
        "id": "mgsyjRE4eh5A"
      },
      "source": [
        "resultsDF.to_csv('results_tags.csv', sep=';')"
      ],
      "execution_count": 76,
      "outputs": []
    },
    {
      "cell_type": "markdown",
      "metadata": {
        "id": "vJaQJToJadnE"
      },
      "source": [
        "## 3.3 Recriando melhor pipeline e realizando testes"
      ]
    },
    {
      "cell_type": "code",
      "metadata": {
        "id": "cw3YoGw1adnE",
        "colab": {
          "base_uri": "https://localhost:8080/"
        },
        "outputId": "45a14e8e-da0d-4cb0-90be-4dabae8c0766"
      },
      "source": [
        "# Construindo Pipeline\n",
        "pipeline = Pipeline([\n",
        "    ('vect', vectorizers['tfidf_lemma']),\n",
        "    ('clf', classifiers['MLogisticRegression'])\n",
        "])\n",
        "# Treinando\n",
        "pipeline.fit(X_train, y_train)\n",
        "\n",
        "# Avaliando\n",
        "y_pred = pipeline.predict(X_test)\n",
        "accuracy = metrics.accuracy_score(y_test, y_pred)\n",
        "f1score = metrics.f1_score(y_test, y_pred, average=\"micro\")\n",
        "maccuracy = accuracy_score_multioutput(y_test, y_pred)\n",
        "mf1score = f1_score_multioutput(y_test, y_pred)\n",
        "\n",
        "# Imprimindo\n",
        "print(\"accuracy: {:0.2f}\".format(accuracy))\n",
        "print(\"f1score: {:0.2f}\".format(f1score))\n",
        "print(\"maccuracy_mean: {:0.2f}\".format(np.mean(maccuracy)))\n",
        "print(\"mf1score_mean: {:0.2f}\".format( np.mean(mf1score)))\n",
        "print(\"maccuracy:\\n\", maccuracy)\n",
        "print(\"mf1score:\\n\", mf1score)"
      ],
      "execution_count": 77,
      "outputs": [
        {
          "output_type": "stream",
          "name": "stdout",
          "text": [
            "accuracy: 0.12\n",
            "f1score: 0.32\n",
            "maccuracy_mean: 0.79\n",
            "mf1score_mean: 0.23\n",
            "maccuracy:\n",
            " [0.62886598 0.74914089 0.72852234 0.77628866 0.78487973 0.85429553\n",
            " 0.84226804 0.88900344 0.89450172]\n",
            "mf1score:\n",
            " [0.52879581 0.39368771 0.2254902  0.38293839 0.14246575 0.19391635\n",
            " 0.         0.05830904 0.12034384]\n"
          ]
        }
      ]
    },
    {
      "cell_type": "code",
      "metadata": {
        "id": "B2LnY-KiadnE",
        "colab": {
          "base_uri": "https://localhost:8080/"
        },
        "outputId": "c3d7f405-cff3-4781-c4da-f1b5dbb142a6"
      },
      "source": [
        "# Utilizando o modelo em um poema qualquer\n",
        "# Selecionando poema\n",
        "p = corpus.text.iloc[40]\n",
        "print(corpus.iloc[40])\n",
        "print(\"poem:\\n\",p[:200].__repr__())"
      ],
      "execution_count": 78,
      "outputs": [
        {
          "output_type": "stream",
          "name": "stdout",
          "text": [
            "title           \\r\\r\\n                    At the Other End of ...\n",
            "text            \\r\\r\\nWhen he called, there were 261 emotions\\...\n",
            "poet                                                   Sandra Lim\n",
            "tags                    Living,The Mind,Relationships,Men & Women\n",
            "len                                                           611\n",
            "label                                                       Other\n",
            "label_id                                                        0\n",
            "tags_vectors                          [1, 0, 1, 0, 0, 0, 0, 0, 0]\n",
            "tags_present                                                 True\n",
            "Name: 221, dtype: object\n",
            "poem:\n",
            " '\\r\\r\\nWhen he called, there were 261 emotions\\r\\r\\nat play. I thought there were only wistfulness,\\r\\r\\nhumiliation, and mere bitterness left, but lo,\\r\\r\\nI see now the brilliance in the numbers. \\r\\r\\nEmotions 75 '\n"
          ]
        }
      ]
    },
    {
      "cell_type": "code",
      "metadata": {
        "id": "h_jyuW_CadnE",
        "colab": {
          "base_uri": "https://localhost:8080/"
        },
        "outputId": "fc95a77d-bd8e-4589-b7e4-37ef80c133b3"
      },
      "source": [
        "# Utilizando o modelo em um poema qualquer\n",
        "# Classificando\n",
        "r = pipeline.predict([p])[0]\n",
        "print(\"prediction:\", r)\n",
        "label = [tags[i] for i,value in enumerate(r) if value==True]\n",
        "label = \",\".join(label)\n",
        "print(\"label:\",label)"
      ],
      "execution_count": 79,
      "outputs": [
        {
          "output_type": "stream",
          "name": "stdout",
          "text": [
            "prediction: [1 0 0 0 0 0 0 0 0]\n",
            "label: Living\n"
          ]
        }
      ]
    }
  ]
}